{
 "cells": [
  {
   "cell_type": "markdown",
   "metadata": {},
   "source": [
    "### 当前实验模型内容\n",
    "\n",
    "1. use mentions\n",
    "2. 63.3\n",
    "\n",
    "3. add passage score"
   ]
  },
  {
   "cell_type": "markdown",
   "metadata": {},
   "source": [
    "model_name |  param | dev_acc|\n",
    "---| --- | ---\n",
    "use mentions | lr=1e-3,hidden=50 | 63.3\n",
    "um-ps | 5e-4, 50 dropout:0.2| 64.94\n",
    "um-ps | reson_p:0.2, step=3 | 65.00\n",
    "um-ps | reason p:0.4, step=5| 66.12"
   ]
  },
  {
   "cell_type": "code",
   "execution_count": null,
   "metadata": {
    "ExecuteTime": {
     "end_time": "2019-04-08T14:42:22.214714Z",
     "start_time": "2019-04-08T14:42:20.390900Z"
    }
   },
   "outputs": [],
   "source": [
    "import os\n",
    "import torch\n",
    "import torch.nn as nn\n",
    "import torchtext\n",
    "from tensorboardX import SummaryWriter\n",
    "import random\n",
    "import numpy as np\n",
    "\n",
    "from torchtext.data import NestedField, Field, RawField\n",
    "from model import *\n",
    "from dataset import DataHandler\n",
    "%load_ext autoreload\n",
    "\n",
    "%autoreload 2"
   ]
  },
  {
   "cell_type": "code",
   "execution_count": null,
   "metadata": {
    "ExecuteTime": {
     "end_time": "2019-04-08T14:42:22.246527Z",
     "start_time": "2019-04-08T14:42:22.218237Z"
    }
   },
   "outputs": [],
   "source": [
    "class Config:\n",
    "    def __init__(self):\n",
    "        self.hidden = 50\n",
    "        self.embedding_dim = 300 + 100\n",
    "        self.lr = 5e-4\n",
    "        self.epochs = 50\n",
    "        self.fix_length = None\n",
    "        \n",
    "        self.log_dir = './logs'\n",
    "        self.model_name = 'CFC_um_ps_reason_step'\n",
    "        self.batch_size = 4\n",
    "        self.train_data = './data/train_filter.pt'\n",
    "        self.dev_data = './data/dev_filter.pt'\n",
    "        \n",
    "        self.word_vocab = './data/glove_vocab.pt'\n",
    "        self.charNGram_vocab = './data/charNGram_vocab.pt'\n",
    "        #self.word_vocab = None\n",
    "        #self.charNGram_vocab = None\n",
    "        \n",
    "        self.dropout = 0.2\n",
    "        self.seed = 1023\n",
    "        self.steps = 5\n",
    "        \n",
    "config = Config()\n",
    "device = torch.device(\"cuda:0\")\n"
   ]
  },
  {
   "cell_type": "code",
   "execution_count": null,
   "metadata": {
    "ExecuteTime": {
     "end_time": "2019-04-08T14:42:23.106081Z",
     "start_time": "2019-04-08T14:42:22.249649Z"
    }
   },
   "outputs": [],
   "source": [
    "torch.cuda.is_available()"
   ]
  },
  {
   "cell_type": "code",
   "execution_count": null,
   "metadata": {
    "ExecuteTime": {
     "end_time": "2019-04-08T14:42:23.169149Z",
     "start_time": "2019-04-08T14:42:23.111495Z"
    }
   },
   "outputs": [],
   "source": [
    "random.seed(config.seed)\n",
    "np.random.seed(config.seed)\n",
    "torch.manual_seed(config.seed)\n",
    "torch.cuda.manual_seed_all(config.seed)"
   ]
  },
  {
   "cell_type": "code",
   "execution_count": null,
   "metadata": {
    "ExecuteTime": {
     "end_time": "2019-04-08T14:42:23.225793Z",
     "start_time": "2019-04-08T14:42:23.173282Z"
    }
   },
   "outputs": [],
   "source": [
    "save_path = config.model_name  + '_lr_'+ str(config.lr)+ '__hidden__' + str(config.hidden) \\\n",
    "            + '_batchsize_' + str(config.batch_size) +  '_p'+ str(config.dropout)+'_steps'+str(config.steps)+'cycle_lr'\n",
    "save_path = os.path.join(config.log_dir, save_path)   \n",
    "print(save_path)\n",
    "config.save_path = save_path"
   ]
  },
  {
   "cell_type": "markdown",
   "metadata": {},
   "source": [
    "### Define Fileds"
   ]
  },
  {
   "cell_type": "code",
   "execution_count": null,
   "metadata": {
    "ExecuteTime": {
     "end_time": "2019-04-08T14:42:26.643568Z",
     "start_time": "2019-04-08T14:42:23.229994Z"
    }
   },
   "outputs": [],
   "source": [
    "word_field = Field(batch_first=True, sequential=True, tokenize=\"spacy\", lower=True) # query\n",
    "multi_word_field = NestedField(word_field) \n",
    "\n",
    "word_field_sup = Field(batch_first=True, sequential=True, tokenize=\"spacy\", lower=True, fix_length=config.fix_length)\n",
    "multi_word_field_sup = NestedField(word_field_sup) \n",
    "\n",
    "charNGram_field = Field(batch_first=True, sequential=True, tokenize=\"spacy\", lower=True) # query\n",
    "multi_charNGram_field = NestedField(charNGram_field) \n",
    "\n",
    "charNGram_field_sup = Field(batch_first=True, sequential=True, tokenize=\"spacy\", lower=True, fix_length=config.fix_length)\n",
    "multi_charNGram_field_sup = NestedField(charNGram_field_sup) \n",
    "\n",
    "raw = RawField()\n",
    "raw.is_target = False\n",
    "\n",
    "label_field = Field(sequential=False, is_target=True, use_vocab=False)\n",
    "\n",
    "dict_field = {\n",
    "    'id': ('id', raw),\n",
    "    'supports': [('s_glove', multi_word_field_sup), ('s_charNGram', multi_charNGram_field_sup)],\n",
    "    'query': [('q_glove', word_field), ('q_charNGram', charNGram_field)],\n",
    "    'candidates': [('c_glove', multi_word_field), ('c_charNGram', multi_charNGram_field)],\n",
    "    'label': ('label', label_field),\n",
    "    'mentions': ('mentions', raw),\n",
    "    'para_label': ('para_label', raw)\n",
    "}"
   ]
  },
  {
   "cell_type": "code",
   "execution_count": null,
   "metadata": {
    "ExecuteTime": {
     "end_time": "2019-04-08T14:43:06.697678Z",
     "start_time": "2019-04-08T14:42:26.646664Z"
    }
   },
   "outputs": [],
   "source": [
    "data_handler = DataHandler(config.train_data, config.dev_data, dict_field)\n",
    "\n",
    "# torch.save(data_handler.trainset.examples, './data/train_example.pt')\n",
    "# torch.save(data_handler.valset.examples, './data/dev_example.pt')"
   ]
  },
  {
   "cell_type": "raw",
   "metadata": {
    "ExecuteTime": {
     "end_time": "2019-03-15T08:26:54.886481Z",
     "start_time": "2019-03-15T08:21:02.542403Z"
    },
    "collapsed": true
   },
   "source": [
    "from tqdm import tqdm\n",
    "\n",
    "def add_mentions(examples):\n",
    "\n",
    "    for example in tqdm(examples):\n",
    "        candidates = example.c_glove\n",
    "        supports = example.s_glove\n",
    "\n",
    "\n",
    "        all_mentions = []\n",
    "\n",
    "        for candidate in candidates:\n",
    "            mentions = []\n",
    "            c = ' '.join(candidate)\n",
    "            for idx, support in enumerate(supports):\n",
    "\n",
    "                for i in range(len(support)):\n",
    "                    token = support[i]\n",
    "                    if token == candidate[0]:\n",
    "                        s = ' '.join(support[i:i+len(candidate)])\n",
    "                        if s == c:\n",
    "                            mentions.append([idx, i, i+len(candidate)])\n",
    "            all_mentions.append(mentions)\n",
    "            \n",
    "        example.mentions = all_mentions\n",
    "        \n",
    "def add_para_label(examples):\n",
    "    filter_examples=  []\n",
    "    for example in tqdm(examples):\n",
    "        candidates = example.c_glove\n",
    "        supports = example.s_glove    \n",
    "\n",
    "        label = example.label\n",
    "        mentions = example.mentions\n",
    "        answser_mentions = mentions[label]\n",
    "        if len(answser_mentions) != 0:\n",
    "            para_label = [0]*len(supports)\n",
    "            for mentions in answser_mentions:\n",
    "                para_label[mentions[0]] = 1\n",
    "            example.para_label = para_label\n",
    "            filter_examples.append(example)\n",
    "    print(f'before filter: {len(examples)}, after:{len(filter_examples)}')\n",
    "    return filter_examples\n",
    "\n",
    "add_mentions(data_handler.valset.examples)\n",
    "add_mentions(data_handler.trainset.examples)\n",
    "\n",
    "train_filter_examples  = add_para_label(data_handler.trainset.examples)\n",
    "dev_filter_examples  = add_para_label(data_handler.valset.examples)\n",
    "\n",
    "torch.save(train_filter_examples, './data/train_filter.pt')\n",
    "torch.save(dev_filter_examples, './data/dev_filter.pt')        "
   ]
  },
  {
   "cell_type": "markdown",
   "metadata": {},
   "source": [
    "### Build Vocab"
   ]
  },
  {
   "cell_type": "code",
   "execution_count": null,
   "metadata": {
    "ExecuteTime": {
     "end_time": "2019-04-08T14:43:07.502908Z",
     "start_time": "2019-04-08T14:43:06.702375Z"
    }
   },
   "outputs": [],
   "source": [
    "if config.charNGram_vocab is not None:\n",
    "    charNGram_vocab = torch.load(config.charNGram_vocab)\n",
    "    multi_charNGram_field_sup.vocab = charNGram_vocab\n",
    "    charNGram_field_sup.vocab = charNGram_vocab\n",
    "else:\n",
    "    multi_charNGram_field_sup.build_vocab(data_handler.trainset, data_handler.valset, \n",
    "                                          vectors=torchtext.vocab.CharNGram())\n",
    "\n",
    "if config.word_vocab is not None:\n",
    "    word_vocab = torch.load(config.word_vocab)\n",
    "    multi_word_field_sup.vocab = word_vocab\n",
    "    word_field_sup.vocab = word_vocab\n",
    "else:\n",
    "    multi_word_field_sup.build_vocab(data_handler.trainset, data_handler.valset, \n",
    "                                 vectors=torchtext.vocab.GloVe(dim=300,name='6B') )\n",
    "\n",
    "word_field.vocab = multi_word_field_sup.vocab\n",
    "charNGram_field.vocab = multi_charNGram_field_sup.vocab\n",
    "\n"
   ]
  },
  {
   "cell_type": "code",
   "execution_count": null,
   "metadata": {
    "ExecuteTime": {
     "start_time": "2019-04-08T14:48:31.251Z"
    }
   },
   "outputs": [],
   "source": [
    "print(multi_word_field_sup.vocab.vectors.shape,multi_charNGram_field_sup.vocab.vectors.shape )"
   ]
  },
  {
   "cell_type": "raw",
   "metadata": {
    "ExecuteTime": {
     "end_time": "2019-03-17T13:37:05.653181Z",
     "start_time": "2019-03-17T13:42:27.810Z"
    }
   },
   "source": [
    "multi_charNGram_field_sup.build_vocab(data_handler.trainset, data_handler.valset, \n",
    "                                  vectors=torchtext.vocab.CharNGram())\n",
    "multi_word_field_sup.build_vocab(data_handler.trainset, data_handler.valset, \n",
    "                         vectors=torchtext.vocab.GloVe(dim=300,name='6B') )\n",
    "torch.save(multi_word_field_sup.vocab, './data/glove_vocab.pt')\n",
    "torch.save(multi_charNGram_field_sup.vocab, './data/charNGram_vocab.pt')"
   ]
  },
  {
   "cell_type": "markdown",
   "metadata": {},
   "source": [
    "### Get data_iter"
   ]
  },
  {
   "cell_type": "code",
   "execution_count": null,
   "metadata": {
    "ExecuteTime": {
     "start_time": "2019-04-08T14:48:31.401Z"
    }
   },
   "outputs": [],
   "source": [
    "train_iter = data_handler.get_train_iter(batch_size=config.batch_size)\n",
    "val_iter = data_handler.get_val_iter(batch_size=config.batch_size)"
   ]
  },
  {
   "cell_type": "code",
   "execution_count": null,
   "metadata": {
    "ExecuteTime": {
     "start_time": "2019-04-08T14:48:31.404Z"
    }
   },
   "outputs": [],
   "source": [
    "for idx, batch in enumerate(val_iter):\n",
    "    break\n",
    "batch"
   ]
  },
  {
   "cell_type": "code",
   "execution_count": null,
   "metadata": {
    "ExecuteTime": {
     "start_time": "2019-04-08T14:48:31.407Z"
    }
   },
   "outputs": [],
   "source": [
    "def get_para_label(batch):\n",
    "    para_size = batch.s_glove.size(1)\n",
    "    results = []\n",
    "    for label in batch.para_label:\n",
    "        padding = [0]*(para_size - len(label))\n",
    "        n_label = label[:]\n",
    "        n_label += padding\n",
    "        results.append(n_label)\n",
    "    results = torch.tensor(results, dtype=torch.long)\n",
    "    return results"
   ]
  },
  {
   "cell_type": "markdown",
   "metadata": {},
   "source": [
    "### Define Model"
   ]
  },
  {
   "cell_type": "code",
   "execution_count": null,
   "metadata": {
    "ExecuteTime": {
     "start_time": "2019-04-08T14:48:31.416Z"
    }
   },
   "outputs": [],
   "source": [
    "def generate_mask(x_size, num_turn, dropout_p=0.0, is_training=False):\n",
    "    if not is_training: dropout_p = 0.0\n",
    "    new_data = torch.zeros(x_size, num_turn)\n",
    "    new_data = (1-dropout_p) * (new_data.zero_() + 1)\n",
    "    for i in range(new_data.size(0)):\n",
    "        one = random.randint(0, new_data.size(1)-1)\n",
    "        new_data[i][one] = 1\n",
    "    mask = 1.0/(1 - dropout_p) * torch.bernoulli(new_data)\n",
    "    mask.requires_grad = False\n",
    "    return mask\n",
    "\n",
    "class SAN(nn.Module):\n",
    "    def __init__(self, x_size, h_size, c_size, num_turn=5, dropout=0.2, memo_dropout=0.4, device=None):\n",
    "        super(SAN,self).__init__()\n",
    "        self.att = BilinearSeqAttn(x_size, h_size, dropout=dropout)\n",
    "        self.rnn = nn.GRUCell(x_size, h_size)\n",
    "        self.num_turn = num_turn\n",
    "        self.fc = nn.Linear(x_size, c_size)\n",
    "        self.dropout = nn.Dropout(p=dropout)\n",
    "        self.memo_dropout=memo_dropout\n",
    "        self.device = device\n",
    "        \n",
    "    def forward(self, x, h0, c):\n",
    "        '''\n",
    "        x: [batch, sup_len, hidden]\n",
    "        h0:[batch, hidden]\n",
    "        c: [batch, can_len, hidden]\n",
    "        '''\n",
    "        score_list = []\n",
    "        \n",
    "        for turn in range(self.num_turn):\n",
    "            score = self.att(x, h0)\n",
    "            x_att = torch.bmm(F.softmax(score,1).unsqueeze(1),x).squeeze(1) # [batch, hidden]\n",
    "            \n",
    "            h0 = self.dropout(h0)\n",
    "            h0 = self.rnn(x_att, h0)\n",
    "            \n",
    "            x_att = torch.tanh(self.fc(x_att)) \n",
    "\n",
    "            score = torch.bmm(c, x_att.unsqueeze(-1))\n",
    "            score = score.squeeze(-1) # [batch, can_len]\n",
    "            score_list.append(score)\n",
    "            \n",
    "        mask = generate_mask(x.size(0),self.num_turn, self.memo_dropout, self.training)\n",
    "        mask = mask.to(self.device)\n",
    "        mask = [m.contiguous() for m in torch.unbind(mask, 1)]\n",
    "        \n",
    "        score_list = [mask[idx].view(x.size(0), 1).expand_as(inp) * inp for idx, inp in enumerate(score_list)]\n",
    "        scores = torch.stack(score_list, 2)\n",
    "        scores = torch.mean(scores, 2)\n",
    "        return scores\n",
    "    \n",
    "    "
   ]
  },
  {
   "cell_type": "code",
   "execution_count": null,
   "metadata": {
    "ExecuteTime": {
     "start_time": "2019-04-08T14:48:31.419Z"
    }
   },
   "outputs": [],
   "source": [
    "class SimpleQANet(nn.Module):\n",
    "    \n",
    "    def __init__(self, config, word_vectors, charNGram_vectors, device):\n",
    "        super(SimpleQANet, self).__init__()\n",
    "        self.config = config\n",
    "        self.device = device\n",
    "        \n",
    "        self.embedding_layer = EmbeddingLayer(word_vectors, charNGram_vectors)\n",
    "        \n",
    "\n",
    "        self.rnn = EncoderRNN(config.embedding_dim, config.hidden, 1, True, True, config.dropout, False)\n",
    "                \n",
    "            \n",
    "        self.co_att = CoAttention(config.hidden*2, att_type=2, dropout=config.dropout)\n",
    "        \n",
    "        self.linear_1 = nn.Sequential(\n",
    "                        nn.Linear(config.hidden*4, config.hidden),\n",
    "                        nn.ReLU()\n",
    "                    )        \n",
    "        self.rnn2 =  EncoderRNN(config.hidden, config.hidden, 1, True, True, config.dropout, False)\n",
    "        \n",
    "        self.word_att = SelfAttention(config.hidden*2, config.hidden*2, config.dropout)\n",
    "        self.word_att_q = SelfAttention(config.hidden*2, config.hidden*2, config.dropout)\n",
    "        self.p_score = BilinearSeqAttn(config.hidden*2, config.hidden*2, identity=False, dropout=config.dropout)\n",
    "        \n",
    "        self.pass_att = SelfAttention(config.hidden*2, config.hidden*2, config.dropout)\n",
    "        \n",
    "        self.c_att = SelfAttention(config.hidden*2, config.hidden*2, config.dropout)\n",
    "        \n",
    "        self.mention_att = SelfAttention(config.hidden*2, config.hidden*2, config.dropout)\n",
    "        \n",
    "        \n",
    "        #self.fusion = FusionLayer(config.hidden*2, dropout=config.dropout)\n",
    "        self.max_pooling = PoolingLayer()     \n",
    "        \n",
    "        self.fc = nn.Linear(config.hidden*2, config.hidden*4)\n",
    "        self.san = SAN(config.hidden*2,config.hidden*2,config.hidden*4, num_turn=config.steps, device=device)\n",
    "        \n",
    "        self.to(device)\n",
    "        \n",
    "    def forward(self, batch, return_label = True):\n",
    "        if type(batch.q_glove) is tuple:\n",
    "            q_glove, _ = batch.q_glove\n",
    "            q_charNGram, _ = batch.q_charNGram\n",
    "        else:\n",
    "            q_glove = batch.q_glove\n",
    "            q_charNGram = batch.q_charNGram            \n",
    "        \n",
    "        s_glove = batch.s_glove\n",
    "        s_charNGram = batch.s_charNGram\n",
    "        \n",
    "        c_glove = batch.c_glove\n",
    "        c_charNGram = batch.c_charNGram\n",
    "        \n",
    "        q_glove = q_glove.to(self.device)\n",
    "        q_charNGram = q_charNGram.to(self.device)\n",
    "\n",
    "        s_glove = s_glove.to(self.device)\n",
    "        s_charNGram = s_charNGram.to(self.device)\n",
    "\n",
    "        c_glove = c_glove.to(self.device)\n",
    "        c_charNGram = c_charNGram.to(self.device)\n",
    "        \n",
    "        ### Embedding and Encoder\n",
    "        \n",
    "        q_out = self.embedding_layer(q_glove, q_charNGram)\n",
    "        s_out = self.embedding_layer(s_glove, s_charNGram,)\n",
    "        c_out = self.embedding_layer(c_glove, c_charNGram)\n",
    "        \n",
    "        #q_out = self.embedding_layer(q_glove)\n",
    "        #s_out = self.embedding_layer(s_glove)\n",
    "        #c_out = self.embedding_layer(c_glove)        \n",
    "        \n",
    "        batch_size=  s_out.size(0)\n",
    "        \n",
    "        s_len = s_out.size(1)\n",
    "        c_len = c_out.size(1)\n",
    "        \n",
    "        s_word_len = s_out.size(2)\n",
    "        c_word_len = c_out.size(2)\n",
    "        \n",
    "        hidden = s_out.size(-1)\n",
    "        \n",
    "        s_out = s_out.view(batch_size*s_len, s_word_len, hidden).contiguous()\n",
    "        c_out = c_out.view(batch_size*c_len, c_word_len, hidden).contiguous()\n",
    "        \n",
    "        q_out = self.rnn(q_out)\n",
    "        c_out = self.rnn(c_out)\n",
    "        s_out = self.rnn(s_out)\n",
    "        \n",
    "        # Attention\n",
    "        \n",
    "        q_word_len = q_out.size(1)\n",
    "        q_out_expand = q_out.unsqueeze(1).expand(batch_size, s_len, q_word_len, q_out.size(-1)).contiguous()\n",
    "        q_out_expand = q_out_expand.view(batch_size*s_len, q_word_len, q_out.size(-1)).contiguous()\n",
    "        \n",
    "        s_out_att, q_out_att = self.co_att(s_out, q_out_expand)\n",
    "        #S_s = self.fusion(s_out, s_out_att)\n",
    "        #S_q = self.fusion(q_out, q_out_att)\n",
    "        \n",
    "        S_s = self.linear_1(s_out_att)\n",
    "        S_s = self.rnn2(S_s)\n",
    "        \n",
    "        \n",
    "        \n",
    "        batch_c_m = []\n",
    "        for i in range(batch_size):\n",
    "            # get mention embedding\n",
    "            mentions = batch.mentions[i]\n",
    "            c_ms = torch.zeros(c_len, s_len, s_out.size(-1))\n",
    "            for idx, c_mention in enumerate(mentions):\n",
    "                c_m_dict = {}\n",
    "                for mention in c_mention:\n",
    "                    m = s_out[i*s_len + mention[0]][mention[1]:mention[2]]\n",
    "                    m = self.max_pooling(m.unsqueeze(0)).squeeze()\n",
    "                    if mention[0] not in c_m_dict:\n",
    "                        c_m_dict[mention[0]] = []\n",
    "                    c_m_dict[mention[0]].append(m)\n",
    "                c_m = torch.zeros(s_len, s_out.size(-1))\n",
    "                for key in c_m_dict:\n",
    "                    for m in c_m_dict[key]:\n",
    "                        c_m[key] += m.cpu()\n",
    "                    c_m[key] /= len(c_m_dict[key])\n",
    "                c_ms[idx] = c_m\n",
    "            batch_c_m.append(c_ms)\n",
    "        batch_c_m = torch.stack(batch_c_m)\n",
    "        batch_c_m = batch_c_m.to(self.device)\n",
    "        batch_c_m = batch_c_m.view(batch_size*c_len, s_len, -1)\n",
    "        batch_c_m = self.mention_att(batch_c_m)\n",
    "        batch_c_m = batch_c_m.view(batch_size, c_len, -1)\n",
    "        \n",
    "\n",
    "        \n",
    "        C_s = self.word_att(S_s)\n",
    "        C_q = self.word_att_q(q_out)\n",
    "        \n",
    "        C_s = C_s.view(batch_size, s_len, -1)\n",
    "        \n",
    "        P_scores = self.p_score(C_s, C_q)\n",
    "        \n",
    "\n",
    "        \n",
    "        C_c = self.c_att(c_out)        \n",
    "        C_c = C_c.view(batch_size, c_len, -1)\n",
    "        \n",
    "        C_c = torch.cat([C_c, batch_c_m],-1)\n",
    "        \n",
    "        \n",
    "        score = self.san(C_s, C_q, C_c)\n",
    "        \n",
    "        if return_label:\n",
    "            label = batch.label.to(self.device)\n",
    "            P_label = get_para_label(batch)\n",
    "            P_label = P_label.to(device)\n",
    "            return score, P_scores, label, P_label\n",
    "        return score, P_scores"
   ]
  },
  {
   "cell_type": "markdown",
   "metadata": {},
   "source": [
    "#### test model"
   ]
  },
  {
   "cell_type": "code",
   "execution_count": null,
   "metadata": {
    "ExecuteTime": {
     "start_time": "2019-04-08T14:48:31.429Z"
    }
   },
   "outputs": [],
   "source": [
    "model = SimpleQANet(config, word_field.vocab.vectors, charNGram_field.vocab.vectors, device)\n",
    "#score,P_score, label, P_label = model(batch)\n",
    "#print(score, label, P_score, P_label)\n",
    "#print(score.shape, label.shape, P_score.shape, P_label.shape)"
   ]
  },
  {
   "cell_type": "code",
   "execution_count": null,
   "metadata": {
    "ExecuteTime": {
     "start_time": "2019-04-08T14:48:31.431Z"
    }
   },
   "outputs": [],
   "source": [
    "from tqdm import tqdm"
   ]
  },
  {
   "cell_type": "code",
   "execution_count": null,
   "metadata": {
    "ExecuteTime": {
     "start_time": "2019-04-08T14:48:31.434Z"
    }
   },
   "outputs": [],
   "source": [
    "from utils import AverageMeter\n",
    "\n",
    "def train(epoch, data_iter, model, criterion, criterion_bce, optimizer, batch_size=1, joint_begin=-1):\n",
    "    losses = AverageMeter()\n",
    "    acces = AverageMeter()\n",
    "    model.train()\n",
    "    #model.embedding_layer.eval()\n",
    "    for idx, batch in enumerate(tqdm(data_iter)):\n",
    "        score, P_score, label, P_label = model(batch)\n",
    "\n",
    "        loss1 = criterion(score, label)\n",
    "        loss_p = criterion_bce(P_score, P_label.float())\n",
    "        if epoch > joint_begin:\n",
    "            loss = loss1 + loss_p     \n",
    "        else:\n",
    "            loss = loss_p\n",
    "\n",
    "        loss = loss / batch_size\n",
    "        loss.backward()\n",
    "        if (idx+1)%batch_size == 0 :\n",
    "            torch.nn.utils.clip_grad_norm_(model.parameters(), 0.25)            \n",
    "            optimizer.step()\n",
    "            optimizer.zero_grad()        \n",
    "\n",
    "        losses.update(loss.item()*batch_size)\n",
    "        \n",
    "        pred = score.argmax(1)\n",
    "        acc = pred.eq(label).sum().item()  / pred.size(0)\n",
    "        acces.update(acc)\n",
    "        if (idx+1) % (batch_size*100) == 0:\n",
    "            print(f'epoch:{epoch}, idx:{idx}/{len(data_iter)}, loss:{losses.avg}, acc:{acces.avg}')\n",
    "    return losses.avg, acces.avg\n",
    "\n",
    "def val(epoch, data_iter, model, criterion, criterion_bce, joint_begin=-1):\n",
    "    losses = AverageMeter()\n",
    "    acces = AverageMeter()\n",
    "    model.eval()\n",
    "    for idx, batch in enumerate(data_iter):\n",
    "        with torch.no_grad():\n",
    "            score, P_score, label, P_label = model(batch)\n",
    "                    \n",
    "        loss1 = criterion(score, label)\n",
    "        loss_p = criterion_bce(P_score, P_label.float())\n",
    "        if epoch > joint_begin:\n",
    "            loss = loss1 + loss_p     \n",
    "        else:\n",
    "            loss = loss_p\n",
    "        \n",
    "        losses.update(loss.item())\n",
    "        \n",
    "        pred = score.argmax(1)\n",
    "        acc = pred.eq(label).sum().item()  / pred.size(0)\n",
    "        acces.update(acc)\n",
    "        if idx % 100 == 0:\n",
    "            print(f'epoch:{epoch}, idx:{idx}/{len(data_iter)}, loss:{losses.avg}, acc:{acces.avg}')\n",
    "    return losses.avg, acces.avg"
   ]
  },
  {
   "cell_type": "code",
   "execution_count": null,
   "metadata": {
    "ExecuteTime": {
     "start_time": "2019-04-08T14:48:31.441Z"
    }
   },
   "outputs": [],
   "source": [
    "optimizer = torch.optim.Adam(params=filter(lambda p: p.requires_grad, model.parameters()),\n",
    "                             lr=config.lr)\n",
    "\n",
    "criterion = nn.CrossEntropyLoss()\n",
    "criterion_bce = nn.BCEWithLogitsLoss()\n",
    "\n",
    "scheduler = torch.optim.lr_scheduler.CosineAnnealingLR(optimizer, T_max=config.epochs)\n",
    "#train(0, train_iter, model, criterion, optimizer, batch_size=config.batch_size)\n",
    "# val(0, val_iter, model,criterion)"
   ]
  },
  {
   "cell_type": "code",
   "execution_count": null,
   "metadata": {
    "ExecuteTime": {
     "start_time": "2019-04-08T14:48:31.445Z"
    }
   },
   "outputs": [],
   "source": [
    "cycle_len = 3\n",
    "cycle_iter = 15"
   ]
  },
  {
   "cell_type": "code",
   "execution_count": null,
   "metadata": {
    "ExecuteTime": {
     "start_time": "2019-04-08T14:48:31.450Z"
    },
    "scrolled": true
   },
   "outputs": [],
   "source": [
    "if not os.path.exists(config.save_path):\n",
    "    os.makedirs(config.save_path)\n",
    "writer = SummaryWriter(config.save_path)\n",
    "\n",
    "best_acc = 0.0\n",
    "for i in range(cycle_len):\n",
    "    optimizer = torch.optim.Adam(params=filter(lambda p: p.requires_grad, model.parameters()),\n",
    "                             lr=config.lr)\n",
    "    scheduler = torch.optim.lr_scheduler.CosineAnnealingLR(optimizer, T_max=cycle_iter)\n",
    "    for epoch in range(cycle_iter):\n",
    "        scheduler.step()\n",
    "        train_loss, train_acc = train(epoch, train_iter, model, criterion, criterion_bce, optimizer, \n",
    "                                         1)\n",
    "        val_loss, val_acc = val(epoch, val_iter, model, criterion, criterion_bce)\n",
    "        global_epoch = cycle_iter * i + epoch + 1\n",
    "        writer.add_scalar('train_loss', train_loss, global_epoch)\n",
    "        writer.add_scalar('val_loss', val_loss, global_epoch)\n",
    "        writer.add_scalar('train_acc', train_acc, global_epoch)\n",
    "        writer.add_scalar('val_acc', val_acc, global_epoch)\n",
    "\n",
    "        state = {\n",
    "            'val_acc': val_acc,\n",
    "            'train_acc': train_acc,\n",
    "            'epoch': epoch,\n",
    "            'model': model.state_dict()\n",
    "        }\n",
    "        #torch.save(state, os.path.join(config.save_path,'lastest.pth'))\n",
    "        if val_acc > best_acc:\n",
    "            best_acc = val_acc\n",
    "            #torch.save(state, os.path.join(save_path, 'best.pth'))"
   ]
  },
  {
   "cell_type": "code",
   "execution_count": null,
   "metadata": {
    "ExecuteTime": {
     "start_time": "2019-04-08T14:48:31.454Z"
    }
   },
   "outputs": [],
   "source": [
    "best_acc"
   ]
  }
 ],
 "metadata": {
  "kernelspec": {
   "display_name": "Python 3",
   "language": "python",
   "name": "python3"
  },
  "language_info": {
   "codemirror_mode": {
    "name": "ipython",
    "version": 3
   },
   "file_extension": ".py",
   "mimetype": "text/x-python",
   "name": "python",
   "nbconvert_exporter": "python",
   "pygments_lexer": "ipython3",
   "version": "3.7.2"
  }
 },
 "nbformat": 4,
 "nbformat_minor": 2
}
