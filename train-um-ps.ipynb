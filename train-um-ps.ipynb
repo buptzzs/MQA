{
 "cells": [
  {
   "cell_type": "markdown",
   "metadata": {},
   "source": [
    "### 当前实验模型内容\n",
    "\n",
    "1. use mentions\n",
    "2. 63.3\n",
    "\n",
    "3. add passage score"
   ]
  },
  {
   "cell_type": "markdown",
   "metadata": {},
   "source": [
    "model_name |  param | dev_acc|\n",
    "---| --- | ---\n",
    "use mentions | lr=1e-3,hidden=50 | 63.3\n",
    "um-ps | 5e-4, 50 dropout:0.2| 64.94\n",
    "um-ps | reson_p:0.2, step=3 | 65.00\n",
    "um-ps | reason p:0.4, step=5| 66.12\n",
    "um-ps no n-gram char| reason p:0.4, step=5| 65.50"
   ]
  },
  {
   "cell_type": "code",
   "execution_count": 1,
   "metadata": {
    "ExecuteTime": {
     "end_time": "2019-04-21T13:11:30.032313Z",
     "start_time": "2019-04-21T13:11:19.566577Z"
    }
   },
   "outputs": [
    {
     "name": "stdout",
     "output_type": "stream",
     "text": [
      "Better speed can be achieved with apex installed from https://www.github.com/nvidia/apex.\n"
     ]
    }
   ],
   "source": [
    "import os\n",
    "import torch\n",
    "import torch.nn as nn\n",
    "import torchtext\n",
    "from tensorboardX import SummaryWriter\n",
    "import random\n",
    "import numpy as np\n",
    "\n",
    "from torchtext.data import NestedField, Field, RawField\n",
    "from model import *\n",
    "from dataset import DataHandler\n",
    "%load_ext autoreload\n",
    "\n",
    "%autoreload 2"
   ]
  },
  {
   "cell_type": "code",
   "execution_count": 2,
   "metadata": {
    "ExecuteTime": {
     "end_time": "2019-04-21T13:12:32.328096Z",
     "start_time": "2019-04-21T13:12:32.267131Z"
    }
   },
   "outputs": [],
   "source": [
    "class Config:\n",
    "    def __init__(self):\n",
    "        self.hidden = 50\n",
    "        self.embedding_dim = 300\n",
    "        self.lr = 5e-4\n",
    "        self.epochs = 50\n",
    "        self.fix_length = None\n",
    "        \n",
    "        self.log_dir = './logs'\n",
    "        self.model_name = 'CFC_um_ps_no_char_save'\n",
    "        self.batch_size = 4\n",
    "        self.train_data = './data/train_filter.pt'\n",
    "        self.dev_data = './data/dev_filter.pt'\n",
    "        \n",
    "        self.word_vocab = './data/glove_vocab.pt'\n",
    "        self.charNGram_vocab = './data/charNGram_vocab.pt'\n",
    "        #self.word_vocab = None\n",
    "        #self.charNGram_vocab = None\n",
    "        \n",
    "        self.dropout = 0.2\n",
    "        self.seed = 1023\n",
    "        self.steps = 5\n",
    "        \n",
    "config = Config()\n",
    "device = torch.device(\"cuda:0\")\n"
   ]
  },
  {
   "cell_type": "code",
   "execution_count": 3,
   "metadata": {
    "ExecuteTime": {
     "end_time": "2019-04-21T13:12:33.024984Z",
     "start_time": "2019-04-21T13:12:32.932962Z"
    }
   },
   "outputs": [
    {
     "data": {
      "text/plain": [
       "True"
      ]
     },
     "execution_count": 3,
     "metadata": {},
     "output_type": "execute_result"
    }
   ],
   "source": [
    "torch.cuda.is_available()"
   ]
  },
  {
   "cell_type": "code",
   "execution_count": 4,
   "metadata": {
    "ExecuteTime": {
     "end_time": "2019-04-21T13:12:33.772602Z",
     "start_time": "2019-04-21T13:12:33.679737Z"
    }
   },
   "outputs": [],
   "source": [
    "random.seed(config.seed)\n",
    "np.random.seed(config.seed)\n",
    "torch.manual_seed(config.seed)\n",
    "torch.cuda.manual_seed_all(config.seed)"
   ]
  },
  {
   "cell_type": "code",
   "execution_count": 5,
   "metadata": {
    "ExecuteTime": {
     "end_time": "2019-04-21T13:12:34.688197Z",
     "start_time": "2019-04-21T13:12:34.633003Z"
    }
   },
   "outputs": [
    {
     "name": "stdout",
     "output_type": "stream",
     "text": [
      "./logs/CFC_um_ps_no_char_save_lr_0.0005__hidden__50_batchsize_4_p0.2_steps5cycle_lr\n"
     ]
    }
   ],
   "source": [
    "save_path = config.model_name  + '_lr_'+ str(config.lr)+ '__hidden__' + str(config.hidden) \\\n",
    "            + '_batchsize_' + str(config.batch_size) +  '_p'+ str(config.dropout)+'_steps'+str(config.steps)+'cycle_lr'\n",
    "save_path = os.path.join(config.log_dir, save_path)   \n",
    "print(save_path)\n",
    "config.save_path = save_path"
   ]
  },
  {
   "cell_type": "markdown",
   "metadata": {},
   "source": [
    "### Define Fileds"
   ]
  },
  {
   "cell_type": "code",
   "execution_count": 6,
   "metadata": {
    "ExecuteTime": {
     "end_time": "2019-04-21T13:12:42.476678Z",
     "start_time": "2019-04-21T13:12:37.770843Z"
    }
   },
   "outputs": [],
   "source": [
    "word_field = Field(batch_first=True, sequential=True, tokenize=\"spacy\", lower=True) # query\n",
    "multi_word_field = NestedField(word_field) \n",
    "\n",
    "word_field_sup = Field(batch_first=True, sequential=True, tokenize=\"spacy\", lower=True, fix_length=config.fix_length)\n",
    "multi_word_field_sup = NestedField(word_field_sup) \n",
    "\n",
    "charNGram_field = Field(batch_first=True, sequential=True, tokenize=\"spacy\", lower=True) # query\n",
    "multi_charNGram_field = NestedField(charNGram_field) \n",
    "\n",
    "charNGram_field_sup = Field(batch_first=True, sequential=True, tokenize=\"spacy\", lower=True, fix_length=config.fix_length)\n",
    "multi_charNGram_field_sup = NestedField(charNGram_field_sup) \n",
    "\n",
    "raw = RawField()\n",
    "raw.is_target = False\n",
    "\n",
    "label_field = Field(sequential=False, is_target=True, use_vocab=False)\n",
    "\n",
    "dict_field = {\n",
    "    'id': ('id', raw),\n",
    "    'supports': [('s_glove', multi_word_field_sup), ('s_charNGram', multi_charNGram_field_sup)],\n",
    "    'query': [('q_glove', word_field), ('q_charNGram', charNGram_field)],\n",
    "    'candidates': [('c_glove', multi_word_field), ('c_charNGram', multi_charNGram_field)],\n",
    "    'label': ('label', label_field),\n",
    "    'mentions': ('mentions', raw),\n",
    "    'para_label': ('para_label', raw)\n",
    "}"
   ]
  },
  {
   "cell_type": "code",
   "execution_count": 7,
   "metadata": {
    "ExecuteTime": {
     "end_time": "2019-04-21T13:13:23.689649Z",
     "start_time": "2019-04-21T13:12:42.479777Z"
    }
   },
   "outputs": [
    {
     "name": "stdout",
     "output_type": "stream",
     "text": [
      "load examples.pt  :./data/train_filter.pt, ./data/dev_filter.pt\n"
     ]
    }
   ],
   "source": [
    "data_handler = DataHandler(config.train_data, config.dev_data, dict_field)\n",
    "\n",
    "# torch.save(data_handler.trainset.examples, './data/train_example.pt')\n",
    "# torch.save(data_handler.valset.examples, './data/dev_example.pt')"
   ]
  },
  {
   "cell_type": "raw",
   "metadata": {
    "ExecuteTime": {
     "end_time": "2019-03-15T08:26:54.886481Z",
     "start_time": "2019-03-15T08:21:02.542403Z"
    },
    "collapsed": true
   },
   "source": [
    "from tqdm import tqdm\n",
    "\n",
    "def add_mentions(examples):\n",
    "\n",
    "    for example in tqdm(examples):\n",
    "        candidates = example.c_glove\n",
    "        supports = example.s_glove\n",
    "\n",
    "\n",
    "        all_mentions = []\n",
    "\n",
    "        for candidate in candidates:\n",
    "            mentions = []\n",
    "            c = ' '.join(candidate)\n",
    "            for idx, support in enumerate(supports):\n",
    "\n",
    "                for i in range(len(support)):\n",
    "                    token = support[i]\n",
    "                    if token == candidate[0]:\n",
    "                        s = ' '.join(support[i:i+len(candidate)])\n",
    "                        if s == c:\n",
    "                            mentions.append([idx, i, i+len(candidate)])\n",
    "            all_mentions.append(mentions)\n",
    "            \n",
    "        example.mentions = all_mentions\n",
    "        \n",
    "def add_para_label(examples):\n",
    "    filter_examples=  []\n",
    "    for example in tqdm(examples):\n",
    "        candidates = example.c_glove\n",
    "        supports = example.s_glove    \n",
    "\n",
    "        label = example.label\n",
    "        mentions = example.mentions\n",
    "        answser_mentions = mentions[label]\n",
    "        if len(answser_mentions) != 0:\n",
    "            para_label = [0]*len(supports)\n",
    "            for mentions in answser_mentions:\n",
    "                para_label[mentions[0]] = 1\n",
    "            example.para_label = para_label\n",
    "            filter_examples.append(example)\n",
    "    print(f'before filter: {len(examples)}, after:{len(filter_examples)}')\n",
    "    return filter_examples\n",
    "\n",
    "add_mentions(data_handler.valset.examples)\n",
    "add_mentions(data_handler.trainset.examples)\n",
    "\n",
    "train_filter_examples  = add_para_label(data_handler.trainset.examples)\n",
    "dev_filter_examples  = add_para_label(data_handler.valset.examples)\n",
    "\n",
    "torch.save(train_filter_examples, './data/train_filter.pt')\n",
    "torch.save(dev_filter_examples, './data/dev_filter.pt')        "
   ]
  },
  {
   "cell_type": "markdown",
   "metadata": {},
   "source": [
    "### Build Vocab"
   ]
  },
  {
   "cell_type": "code",
   "execution_count": 8,
   "metadata": {
    "ExecuteTime": {
     "end_time": "2019-04-21T13:13:27.586365Z",
     "start_time": "2019-04-21T13:13:23.692444Z"
    }
   },
   "outputs": [],
   "source": [
    "if config.charNGram_vocab is not None:\n",
    "    charNGram_vocab = torch.load(config.charNGram_vocab)\n",
    "    multi_charNGram_field_sup.vocab = charNGram_vocab\n",
    "    charNGram_field_sup.vocab = charNGram_vocab\n",
    "else:\n",
    "    multi_charNGram_field_sup.build_vocab(data_handler.trainset, data_handler.valset, \n",
    "                                          vectors=torchtext.vocab.CharNGram())\n",
    "\n",
    "if config.word_vocab is not None:\n",
    "    word_vocab = torch.load(config.word_vocab)\n",
    "    multi_word_field_sup.vocab = word_vocab\n",
    "    word_field_sup.vocab = word_vocab\n",
    "else:\n",
    "    multi_word_field_sup.build_vocab(data_handler.trainset, data_handler.valset, \n",
    "                                 vectors=torchtext.vocab.GloVe(dim=300,name='6B') )\n",
    "\n",
    "word_field.vocab = multi_word_field_sup.vocab\n",
    "charNGram_field.vocab = multi_charNGram_field_sup.vocab\n",
    "\n"
   ]
  },
  {
   "cell_type": "code",
   "execution_count": 9,
   "metadata": {
    "ExecuteTime": {
     "end_time": "2019-04-21T13:13:27.651107Z",
     "start_time": "2019-04-21T13:13:27.591765Z"
    }
   },
   "outputs": [
    {
     "name": "stdout",
     "output_type": "stream",
     "text": [
      "torch.Size([312667, 300]) torch.Size([312667, 100])\n"
     ]
    }
   ],
   "source": [
    "print(multi_word_field_sup.vocab.vectors.shape,multi_charNGram_field_sup.vocab.vectors.shape )"
   ]
  },
  {
   "cell_type": "raw",
   "metadata": {
    "ExecuteTime": {
     "end_time": "2019-03-17T13:37:05.653181Z",
     "start_time": "2019-03-17T13:42:27.810Z"
    }
   },
   "source": [
    "multi_charNGram_field_sup.build_vocab(data_handler.trainset, data_handler.valset, \n",
    "                                  vectors=torchtext.vocab.CharNGram())\n",
    "multi_word_field_sup.build_vocab(data_handler.trainset, data_handler.valset, \n",
    "                         vectors=torchtext.vocab.GloVe(dim=300,name='6B') )\n",
    "torch.save(multi_word_field_sup.vocab, './data/glove_vocab.pt')\n",
    "torch.save(multi_charNGram_field_sup.vocab, './data/charNGram_vocab.pt')"
   ]
  },
  {
   "cell_type": "markdown",
   "metadata": {},
   "source": [
    "### Get data_iter"
   ]
  },
  {
   "cell_type": "code",
   "execution_count": 10,
   "metadata": {
    "ExecuteTime": {
     "end_time": "2019-04-21T13:13:27.707643Z",
     "start_time": "2019-04-21T13:13:27.655855Z"
    }
   },
   "outputs": [],
   "source": [
    "train_iter = data_handler.get_train_iter(batch_size=config.batch_size)\n",
    "val_iter = data_handler.get_val_iter(batch_size=config.batch_size)"
   ]
  },
  {
   "cell_type": "code",
   "execution_count": 11,
   "metadata": {
    "ExecuteTime": {
     "end_time": "2019-04-21T13:13:27.879908Z",
     "start_time": "2019-04-21T13:13:27.712984Z"
    }
   },
   "outputs": [
    {
     "data": {
      "text/plain": [
       "\n",
       "[torchtext.data.batch.Batch of size 4]\n",
       "\t[.id]:['WH_dev_0', 'WH_dev_1', 'WH_dev_2', 'WH_dev_3']\n",
       "\t[.s_glove]:[torch.LongTensor of size 4x15x292]\n",
       "\t[.s_charNGram]:[torch.LongTensor of size 4x15x292]\n",
       "\t[.q_glove]:[torch.LongTensor of size 4x11]\n",
       "\t[.q_charNGram]:[torch.LongTensor of size 4x11]\n",
       "\t[.c_glove]:[torch.LongTensor of size 4x18x4]\n",
       "\t[.c_charNGram]:[torch.LongTensor of size 4x18x4]\n",
       "\t[.label]:[torch.LongTensor of size 4]\n",
       "\t[.mentions]:[[[[6, 145, 146], [6, 173, 174], [7, 78, 79]], [[3, 50, 53], [5, 28, 31], [13, 1, 4]], [[6, 135, 136], [6, 218, 219], [6, 261, 262], [8, 45, 46], [12, 98, 99]], [[0, 2, 4], [7, 1, 3], [13, 64, 66], [13, 69, 71]], [[0, 36, 38], [10, 1, 3], [13, 75, 77]], [[0, 14, 15], [1, 63, 64], [1, 138, 139], [1, 186, 187], [1, 238, 239], [2, 128, 129], [9, 8, 9], [9, 43, 44], [10, 19, 20], [10, 34, 35], [11, 37, 38], [11, 79, 80], [13, 56, 57]], [[7, 37, 40]], [[6, 180, 181], [12, 101, 102]], [[12, 96, 97]], [[8, 43, 46]], [[6, 169, 172]], [[6, 179, 181]], [[7, 38, 40]], [[6, 147, 148], [6, 182, 183]], [[6, 171, 172], [9, 6, 7], [11, 35, 36], [11, 121, 122]], [[2, 125, 127], [8, 8, 10], [12, 89, 91]], [[1, 0, 2], [1, 100, 102], [1, 141, 143], [1, 167, 169], [5, 17, 19], [10, 41, 43], [13, 94, 96]], [[1, 132, 133], [2, 161, 162], [2, 173, 174], [2, 235, 236], [2, 260, 261], [3, 91, 92], [3, 159, 160], [4, 0, 1], [4, 14, 15], [12, 41, 42], [13, 85, 86], [14, 0, 1], [14, 18, 19], [14, 45, 46], [14, 187, 188]]], [[[5, 37, 39]], [[1, 9, 10], [2, 28, 29], [3, 22, 23], [3, 60, 61], [3, 138, 139], [7, 3, 4], [7, 30, 31], [7, 41, 42], [7, 65, 66]], [[4, 30, 32]], [[0, 27, 29], [4, 35, 37]]], [[[3, 101, 104], [5, 8, 11], [5, 94, 97]], [[4, 49, 53]], [[1, 79, 80], [2, 34, 35], [7, 26, 27]]], [[[0, 5, 7]], [[0, 6, 7], [1, 20, 21], [1, 29, 30], [1, 81, 82], [2, 19, 20], [3, 15, 16], [3, 50, 51], [4, 22, 23]]]]\n",
       "\t[.para_label]:[[1, 0, 0, 0, 0, 0, 0, 0, 0, 0, 1, 0, 0, 1, 0], [0, 0, 0, 0, 0, 1, 0, 0, 0], [0, 0, 0, 1, 0, 1, 0, 0], [1, 0, 0, 0, 0]]"
      ]
     },
     "execution_count": 11,
     "metadata": {},
     "output_type": "execute_result"
    }
   ],
   "source": [
    "for idx, batch in enumerate(val_iter):\n",
    "    break\n",
    "batch"
   ]
  },
  {
   "cell_type": "code",
   "execution_count": 12,
   "metadata": {
    "ExecuteTime": {
     "end_time": "2019-04-21T13:13:27.948143Z",
     "start_time": "2019-04-21T13:13:27.884973Z"
    }
   },
   "outputs": [],
   "source": [
    "def get_para_label(batch):\n",
    "    para_size = batch.s_glove.size(1)\n",
    "    results = []\n",
    "    for label in batch.para_label:\n",
    "        padding = [0]*(para_size - len(label))\n",
    "        n_label = label[:]\n",
    "        n_label += padding\n",
    "        results.append(n_label)\n",
    "    results = torch.tensor(results, dtype=torch.long)\n",
    "    return results"
   ]
  },
  {
   "cell_type": "markdown",
   "metadata": {},
   "source": [
    "### Define Model"
   ]
  },
  {
   "cell_type": "code",
   "execution_count": 13,
   "metadata": {
    "ExecuteTime": {
     "end_time": "2019-04-21T13:13:28.039626Z",
     "start_time": "2019-04-21T13:13:27.952561Z"
    }
   },
   "outputs": [],
   "source": [
    "def generate_mask(x_size, num_turn, dropout_p=0.0, is_training=False):\n",
    "    if not is_training: dropout_p = 0.0\n",
    "    new_data = torch.zeros(x_size, num_turn)\n",
    "    new_data = (1-dropout_p) * (new_data.zero_() + 1)\n",
    "    for i in range(new_data.size(0)):\n",
    "        one = random.randint(0, new_data.size(1)-1)\n",
    "        new_data[i][one] = 1\n",
    "    mask = 1.0/(1 - dropout_p) * torch.bernoulli(new_data)\n",
    "    mask.requires_grad = False\n",
    "    return mask\n",
    "\n",
    "class SAN(nn.Module):\n",
    "    def __init__(self, x_size, h_size, c_size, num_turn=5, dropout=0.2, memo_dropout=0.4, device=None):\n",
    "        super(SAN,self).__init__()\n",
    "        self.att = BilinearSeqAttn(x_size, h_size, dropout=dropout)\n",
    "        self.rnn = nn.GRUCell(x_size, h_size)\n",
    "        self.num_turn = num_turn\n",
    "        self.fc = nn.Linear(x_size, c_size)\n",
    "        self.dropout = nn.Dropout(p=dropout)\n",
    "        self.memo_dropout=memo_dropout\n",
    "        self.device = device\n",
    "        \n",
    "    def forward(self, x, h0, c):\n",
    "        '''\n",
    "        x: [batch, sup_len, hidden]\n",
    "        h0:[batch, hidden]\n",
    "        c: [batch, can_len, hidden]\n",
    "        '''\n",
    "        score_list = []\n",
    "        \n",
    "        for turn in range(self.num_turn):\n",
    "            score = self.att(x, h0)\n",
    "            x_att = torch.bmm(F.softmax(score,1).unsqueeze(1),x).squeeze(1) # [batch, hidden]\n",
    "            \n",
    "            h0 = self.dropout(h0)\n",
    "            h0 = self.rnn(x_att, h0)\n",
    "            \n",
    "            x_att = torch.tanh(self.fc(x_att)) \n",
    "\n",
    "            score = torch.bmm(c, x_att.unsqueeze(-1))\n",
    "            score = score.squeeze(-1) # [batch, can_len]\n",
    "            score_list.append(score)\n",
    "            \n",
    "        mask = generate_mask(x.size(0),self.num_turn, self.memo_dropout, self.training)\n",
    "        mask = mask.to(self.device)\n",
    "        mask = [m.contiguous() for m in torch.unbind(mask, 1)]\n",
    "        \n",
    "        score_list = [mask[idx].view(x.size(0), 1).expand_as(inp) * inp for idx, inp in enumerate(score_list)]\n",
    "        scores = torch.stack(score_list, 2)\n",
    "        scores = torch.mean(scores, 2)\n",
    "        return scores\n",
    "    \n",
    "    "
   ]
  },
  {
   "cell_type": "code",
   "execution_count": 14,
   "metadata": {
    "ExecuteTime": {
     "end_time": "2019-04-21T13:13:28.243847Z",
     "start_time": "2019-04-21T13:13:28.044065Z"
    }
   },
   "outputs": [],
   "source": [
    "class SimpleQANet(nn.Module):\n",
    "    \n",
    "    def __init__(self, config, word_vectors, charNGram_vectors, device):\n",
    "        super(SimpleQANet, self).__init__()\n",
    "        self.config = config\n",
    "        self.device = device\n",
    "        \n",
    "        self.embedding_layer = EmbeddingLayer(word_vectors, charNGram_vectors)\n",
    "        \n",
    "\n",
    "        self.rnn = EncoderRNN(config.embedding_dim, config.hidden, 1, True, True, config.dropout, False)\n",
    "                \n",
    "            \n",
    "        self.co_att = CoAttention(config.hidden*2, att_type=2, dropout=config.dropout)\n",
    "        \n",
    "        self.linear_1 = nn.Sequential(\n",
    "                        nn.Linear(config.hidden*4, config.hidden),\n",
    "                        nn.ReLU()\n",
    "                    )        \n",
    "        self.rnn2 =  EncoderRNN(config.hidden, config.hidden, 1, True, True, config.dropout, False)\n",
    "        \n",
    "        self.word_att = SelfAttention(config.hidden*2, config.hidden*2, config.dropout)\n",
    "        self.word_att_q = SelfAttention(config.hidden*2, config.hidden*2, config.dropout)\n",
    "        self.p_score = BilinearSeqAttn(config.hidden*2, config.hidden*2, identity=False, dropout=config.dropout)\n",
    "        \n",
    "        self.pass_att = SelfAttention(config.hidden*2, config.hidden*2, config.dropout)\n",
    "        \n",
    "        self.c_att = SelfAttention(config.hidden*2, config.hidden*2, config.dropout)\n",
    "        \n",
    "        self.mention_att = SelfAttention(config.hidden*2, config.hidden*2, config.dropout)\n",
    "        \n",
    "        \n",
    "        #self.fusion = FusionLayer(config.hidden*2, dropout=config.dropout)\n",
    "        self.max_pooling = PoolingLayer()     \n",
    "        \n",
    "        self.fc = nn.Linear(config.hidden*2, config.hidden*4)\n",
    "        self.san = SAN(config.hidden*2,config.hidden*2,config.hidden*4, num_turn=config.steps, device=device)\n",
    "        \n",
    "        self.to(device)\n",
    "        \n",
    "    def forward(self, batch, return_label = True):\n",
    "        if type(batch.q_glove) is tuple:\n",
    "            q_glove, _ = batch.q_glove\n",
    "            q_charNGram, _ = batch.q_charNGram\n",
    "        else:\n",
    "            q_glove = batch.q_glove\n",
    "            q_charNGram = batch.q_charNGram            \n",
    "        \n",
    "        s_glove = batch.s_glove\n",
    "        s_charNGram = batch.s_charNGram\n",
    "        \n",
    "        c_glove = batch.c_glove\n",
    "        c_charNGram = batch.c_charNGram\n",
    "        \n",
    "        q_glove = q_glove.to(self.device)\n",
    "        q_charNGram = q_charNGram.to(self.device)\n",
    "\n",
    "        s_glove = s_glove.to(self.device)\n",
    "        s_charNGram = s_charNGram.to(self.device)\n",
    "\n",
    "        c_glove = c_glove.to(self.device)\n",
    "        c_charNGram = c_charNGram.to(self.device)\n",
    "        \n",
    "        ### Embedding and Encoder\n",
    "        \n",
    "        #q_out = self.embedding_layer(q_glove, q_charNGram)\n",
    "        #s_out = self.embedding_layer(s_glove, s_charNGram,)\n",
    "        #c_out = self.embedding_layer(c_glove, c_charNGram)\n",
    "        \n",
    "        q_out = self.embedding_layer(q_glove)\n",
    "        s_out = self.embedding_layer(s_glove)\n",
    "        c_out = self.embedding_layer(c_glove)        \n",
    "        \n",
    "        batch_size=  s_out.size(0)\n",
    "        \n",
    "        s_len = s_out.size(1)\n",
    "        c_len = c_out.size(1)\n",
    "        \n",
    "        s_word_len = s_out.size(2)\n",
    "        c_word_len = c_out.size(2)\n",
    "        \n",
    "        hidden = s_out.size(-1)\n",
    "        \n",
    "        s_out = s_out.view(batch_size*s_len, s_word_len, hidden).contiguous()\n",
    "        c_out = c_out.view(batch_size*c_len, c_word_len, hidden).contiguous()\n",
    "        \n",
    "        q_out = self.rnn(q_out)\n",
    "        c_out = self.rnn(c_out)\n",
    "        s_out = self.rnn(s_out)\n",
    "        \n",
    "        # Attention\n",
    "        \n",
    "        q_word_len = q_out.size(1)\n",
    "        q_out_expand = q_out.unsqueeze(1).expand(batch_size, s_len, q_word_len, q_out.size(-1)).contiguous()\n",
    "        q_out_expand = q_out_expand.view(batch_size*s_len, q_word_len, q_out.size(-1)).contiguous()\n",
    "        \n",
    "        s_out_att, q_out_att = self.co_att(s_out, q_out_expand)\n",
    "        #S_s = self.fusion(s_out, s_out_att)\n",
    "        #S_q = self.fusion(q_out, q_out_att)\n",
    "        \n",
    "        S_s = self.linear_1(s_out_att)\n",
    "        S_s = self.rnn2(S_s)\n",
    "        \n",
    "        \n",
    "        \n",
    "        batch_c_m = []\n",
    "        for i in range(batch_size):\n",
    "            # get mention embedding\n",
    "            mentions = batch.mentions[i]\n",
    "            c_ms = torch.zeros(c_len, s_len, s_out.size(-1))\n",
    "            for idx, c_mention in enumerate(mentions):\n",
    "                c_m_dict = {}\n",
    "                for mention in c_mention:\n",
    "                    m = s_out[i*s_len + mention[0]][mention[1]:mention[2]]\n",
    "                    m = self.max_pooling(m.unsqueeze(0)).squeeze()\n",
    "                    if mention[0] not in c_m_dict:\n",
    "                        c_m_dict[mention[0]] = []\n",
    "                    c_m_dict[mention[0]].append(m)\n",
    "                c_m = torch.zeros(s_len, s_out.size(-1))\n",
    "                for key in c_m_dict:\n",
    "                    for m in c_m_dict[key]:\n",
    "                        c_m[key] += m.cpu()\n",
    "                    c_m[key] /= len(c_m_dict[key])\n",
    "                c_ms[idx] = c_m\n",
    "            batch_c_m.append(c_ms)\n",
    "        batch_c_m = torch.stack(batch_c_m)\n",
    "        batch_c_m = batch_c_m.to(self.device)\n",
    "        batch_c_m = batch_c_m.view(batch_size*c_len, s_len, -1)\n",
    "        batch_c_m = self.mention_att(batch_c_m)\n",
    "        batch_c_m = batch_c_m.view(batch_size, c_len, -1)\n",
    "        \n",
    "\n",
    "        \n",
    "        C_s = self.word_att(S_s)\n",
    "        C_q = self.word_att_q(q_out)\n",
    "        \n",
    "        C_s = C_s.view(batch_size, s_len, -1)\n",
    "        \n",
    "        P_scores = self.p_score(C_s, C_q)\n",
    "        \n",
    "\n",
    "        \n",
    "        C_c = self.c_att(c_out)        \n",
    "        C_c = C_c.view(batch_size, c_len, -1)\n",
    "        \n",
    "        C_c = torch.cat([C_c, batch_c_m],-1)\n",
    "        \n",
    "        \n",
    "        score = self.san(C_s, C_q, C_c)\n",
    "        \n",
    "        if return_label:\n",
    "            label = batch.label.to(self.device)\n",
    "            P_label = get_para_label(batch)\n",
    "            P_label = P_label.to(device)\n",
    "            return score, P_scores, label, P_label\n",
    "        return score, P_scores"
   ]
  },
  {
   "cell_type": "markdown",
   "metadata": {},
   "source": [
    "#### test model"
   ]
  },
  {
   "cell_type": "code",
   "execution_count": 15,
   "metadata": {
    "ExecuteTime": {
     "end_time": "2019-04-21T13:13:39.823065Z",
     "start_time": "2019-04-21T13:13:28.248621Z"
    }
   },
   "outputs": [],
   "source": [
    "model = SimpleQANet(config, word_field.vocab.vectors, charNGram_field.vocab.vectors, device)\n",
    "#score,P_score, label, P_label = model(batch)\n",
    "#print(score, label, P_score, P_label)\n",
    "#print(score.shape, label.shape, P_score.shape, P_label.shape)"
   ]
  },
  {
   "cell_type": "code",
   "execution_count": 17,
   "metadata": {
    "ExecuteTime": {
     "end_time": "2019-04-21T13:14:51.274293Z",
     "start_time": "2019-04-21T13:14:51.217387Z"
    }
   },
   "outputs": [],
   "source": [
    "from tqdm import tqdm, trange"
   ]
  },
  {
   "cell_type": "code",
   "execution_count": 18,
   "metadata": {
    "ExecuteTime": {
     "end_time": "2019-04-21T13:18:59.793212Z",
     "start_time": "2019-04-21T13:18:59.670536Z"
    }
   },
   "outputs": [],
   "source": [
    "from utils import AverageMeter\n",
    "\n",
    "def train(epoch, data_iter, model, criterion, criterion_bce, optimizer, batch_size=1, joint_begin=-1):\n",
    "    losses = AverageMeter()\n",
    "    acces = AverageMeter()\n",
    "    model.train()\n",
    "    #model.embedding_layer.eval()\n",
    "    with trange(len(data_iter)) as t:\n",
    "        for idx, batch in enumerate(data_iter):\n",
    "            score, P_score, label, P_label = model(batch)\n",
    "\n",
    "            loss1 = criterion(score, label)\n",
    "            loss_p = criterion_bce(P_score, P_label.float())\n",
    "            if epoch > joint_begin:\n",
    "                loss = loss1 + loss_p     \n",
    "            else:\n",
    "                loss = loss_p\n",
    "\n",
    "            loss = loss / batch_size\n",
    "            loss.backward()\n",
    "            if (idx+1)%batch_size == 0 :\n",
    "                torch.nn.utils.clip_grad_norm_(model.parameters(), 0.25)            \n",
    "                optimizer.step()\n",
    "                optimizer.zero_grad()        \n",
    "\n",
    "            losses.update(loss.item()*batch_size)\n",
    "\n",
    "            pred = score.argmax(1)\n",
    "            acc = pred.eq(label).sum().item()  / pred.size(0)\n",
    "            acces.update(acc)\n",
    "            \n",
    "            t.update()\n",
    "            if (idx+1) % (batch_size*100) == 0:\n",
    "                print(f'epoch:{epoch}, idx:{idx}/{len(data_iter)}, loss:{losses.avg}, acc:{acces.avg}')\n",
    "    return losses.avg, acces.avg\n",
    "\n",
    "def val(epoch, data_iter, model, criterion, criterion_bce, joint_begin=-1):\n",
    "    losses = AverageMeter()\n",
    "    acces = AverageMeter()\n",
    "    model.eval()\n",
    "    for idx, batch in enumerate(data_iter):\n",
    "        with torch.no_grad():\n",
    "            score, P_score, label, P_label = model(batch)\n",
    "                    \n",
    "        loss1 = criterion(score, label)\n",
    "        loss_p = criterion_bce(P_score, P_label.float())\n",
    "        if epoch > joint_begin:\n",
    "            loss = loss1 + loss_p     \n",
    "        else:\n",
    "            loss = loss_p\n",
    "        \n",
    "        losses.update(loss.item())\n",
    "        \n",
    "        pred = score.argmax(1)\n",
    "        acc = pred.eq(label).sum().item()  / pred.size(0)\n",
    "        acces.update(acc)\n",
    "        if idx % 100 == 0:\n",
    "            print(f'epoch:{epoch}, idx:{idx}/{len(data_iter)}, loss:{losses.avg}, acc:{acces.avg}')\n",
    "    return losses.avg, acces.avg"
   ]
  },
  {
   "cell_type": "code",
   "execution_count": 19,
   "metadata": {
    "ExecuteTime": {
     "end_time": "2019-04-21T13:19:02.929312Z",
     "start_time": "2019-04-21T13:19:02.869750Z"
    }
   },
   "outputs": [],
   "source": [
    "optimizer = torch.optim.Adam(params=filter(lambda p: p.requires_grad, model.parameters()),\n",
    "                             lr=config.lr)\n",
    "\n",
    "criterion = nn.CrossEntropyLoss()\n",
    "criterion_bce = nn.BCEWithLogitsLoss()\n",
    "\n",
    "scheduler = torch.optim.lr_scheduler.CosineAnnealingLR(optimizer, T_max=config.epochs)\n",
    "#train(0, train_iter, model, criterion, optimizer, batch_size=config.batch_size)\n",
    "# val(0, val_iter, model,criterion)"
   ]
  },
  {
   "cell_type": "code",
   "execution_count": 20,
   "metadata": {
    "ExecuteTime": {
     "end_time": "2019-04-21T13:19:03.625447Z",
     "start_time": "2019-04-21T13:19:03.574702Z"
    }
   },
   "outputs": [],
   "source": [
    "cycle_len = 1\n",
    "cycle_iter = 50"
   ]
  },
  {
   "cell_type": "code",
   "execution_count": null,
   "metadata": {
    "ExecuteTime": {
     "start_time": "2019-04-21T13:27:23.293Z"
    },
    "scrolled": true
   },
   "outputs": [
    {
     "name": "stderr",
     "output_type": "stream",
     "text": [
      "  0%|          | 0/10845 [00:00<?, ?it/s]/home/zzs/Multi_Evidence_QA/model.py:186: UserWarning: Implicit dimension choice for softmax has been deprecated. Change the call to include dim=X as an argument.\n",
      "  alphas = self.softmax(alphas)  # (bsz, sent_len)\n",
      "  1%|          | 100/10845 [01:02<1:32:44,  1.93it/s]"
     ]
    },
    {
     "name": "stdout",
     "output_type": "stream",
     "text": [
      "epoch:0, idx:99/10845, loss:3.5322713935375214, acc:0.19\n"
     ]
    },
    {
     "name": "stderr",
     "output_type": "stream",
     "text": [
      "  2%|▏         | 200/10845 [02:00<1:35:07,  1.87it/s]"
     ]
    },
    {
     "name": "stdout",
     "output_type": "stream",
     "text": [
      "epoch:0, idx:199/10845, loss:3.1706510162353516, acc:0.25\n"
     ]
    },
    {
     "name": "stderr",
     "output_type": "stream",
     "text": [
      "  3%|▎         | 300/10845 [03:01<1:39:05,  1.77it/s]"
     ]
    },
    {
     "name": "stdout",
     "output_type": "stream",
     "text": [
      "epoch:0, idx:299/10845, loss:2.9915048694610595, acc:0.27166666666666667\n"
     ]
    },
    {
     "name": "stderr",
     "output_type": "stream",
     "text": [
      "  4%|▎         | 400/10845 [03:58<1:15:50,  2.30it/s]"
     ]
    },
    {
     "name": "stdout",
     "output_type": "stream",
     "text": [
      "epoch:0, idx:399/10845, loss:2.85627171933651, acc:0.295625\n"
     ]
    },
    {
     "name": "stderr",
     "output_type": "stream",
     "text": [
      "  5%|▍         | 500/10845 [04:58<1:46:36,  1.62it/s]"
     ]
    },
    {
     "name": "stdout",
     "output_type": "stream",
     "text": [
      "epoch:0, idx:499/10845, loss:2.783329175949097, acc:0.303\n"
     ]
    },
    {
     "name": "stderr",
     "output_type": "stream",
     "text": [
      "  6%|▌         | 600/10845 [05:56<1:14:00,  2.31it/s]"
     ]
    },
    {
     "name": "stdout",
     "output_type": "stream",
     "text": [
      "epoch:0, idx:599/10845, loss:2.71351801554362, acc:0.31625\n"
     ]
    },
    {
     "name": "stderr",
     "output_type": "stream",
     "text": [
      "  6%|▋         | 700/10845 [07:00<1:48:19,  1.56it/s]"
     ]
    },
    {
     "name": "stdout",
     "output_type": "stream",
     "text": [
      "epoch:0, idx:699/10845, loss:2.6874175867864065, acc:0.3192857142857143\n"
     ]
    },
    {
     "name": "stderr",
     "output_type": "stream",
     "text": [
      "  7%|▋         | 800/10845 [08:00<1:47:16,  1.56it/s]"
     ]
    },
    {
     "name": "stdout",
     "output_type": "stream",
     "text": [
      "epoch:0, idx:799/10845, loss:2.635710633546114, acc:0.32875\n"
     ]
    },
    {
     "name": "stderr",
     "output_type": "stream",
     "text": [
      "  8%|▊         | 900/10845 [09:03<1:51:41,  1.48it/s]"
     ]
    },
    {
     "name": "stdout",
     "output_type": "stream",
     "text": [
      "epoch:0, idx:899/10845, loss:2.5842120410336387, acc:0.34194444444444444\n"
     ]
    },
    {
     "name": "stderr",
     "output_type": "stream",
     "text": [
      "  9%|▉         | 1000/10845 [10:02<1:32:34,  1.77it/s]"
     ]
    },
    {
     "name": "stdout",
     "output_type": "stream",
     "text": [
      "epoch:0, idx:999/10845, loss:2.55336423265934, acc:0.34625\n"
     ]
    },
    {
     "name": "stderr",
     "output_type": "stream",
     "text": [
      " 10%|█         | 1100/10845 [11:00<1:46:41,  1.52it/s]"
     ]
    },
    {
     "name": "stdout",
     "output_type": "stream",
     "text": [
      "epoch:0, idx:1099/10845, loss:2.5309066755121403, acc:0.3509090909090909\n"
     ]
    },
    {
     "name": "stderr",
     "output_type": "stream",
     "text": [
      " 11%|█         | 1200/10845 [11:59<1:39:09,  1.62it/s]"
     ]
    },
    {
     "name": "stdout",
     "output_type": "stream",
     "text": [
      "epoch:0, idx:1199/10845, loss:2.511420675218105, acc:0.35229166666666667\n"
     ]
    },
    {
     "name": "stderr",
     "output_type": "stream",
     "text": [
      " 12%|█▏        | 1300/10845 [12:56<1:54:39,  1.39it/s]"
     ]
    },
    {
     "name": "stdout",
     "output_type": "stream",
     "text": [
      "epoch:0, idx:1299/10845, loss:2.4866002217622905, acc:0.3573076923076923\n"
     ]
    },
    {
     "name": "stderr",
     "output_type": "stream",
     "text": [
      " 13%|█▎        | 1400/10845 [13:55<1:20:32,  1.95it/s]"
     ]
    },
    {
     "name": "stdout",
     "output_type": "stream",
     "text": [
      "epoch:0, idx:1399/10845, loss:2.4656204162750925, acc:0.36142857142857143\n"
     ]
    },
    {
     "name": "stderr",
     "output_type": "stream",
     "text": [
      " 14%|█▍        | 1500/10845 [14:57<1:42:06,  1.53it/s]"
     ]
    },
    {
     "name": "stdout",
     "output_type": "stream",
     "text": [
      "epoch:0, idx:1499/10845, loss:2.4496890643835068, acc:0.36566666666666664\n"
     ]
    },
    {
     "name": "stderr",
     "output_type": "stream",
     "text": [
      " 15%|█▍        | 1600/10845 [15:59<1:40:03,  1.54it/s]"
     ]
    },
    {
     "name": "stdout",
     "output_type": "stream",
     "text": [
      "epoch:0, idx:1599/10845, loss:2.432006627395749, acc:0.36734375\n"
     ]
    },
    {
     "name": "stderr",
     "output_type": "stream",
     "text": [
      " 16%|█▌        | 1700/10845 [17:03<1:59:45,  1.27it/s]"
     ]
    },
    {
     "name": "stdout",
     "output_type": "stream",
     "text": [
      "epoch:0, idx:1699/10845, loss:2.4255990909127627, acc:0.3683823529411765\n"
     ]
    },
    {
     "name": "stderr",
     "output_type": "stream",
     "text": [
      " 17%|█▋        | 1800/10845 [18:01<1:17:31,  1.94it/s]"
     ]
    },
    {
     "name": "stdout",
     "output_type": "stream",
     "text": [
      "epoch:0, idx:1799/10845, loss:2.4088736352324487, acc:0.3726388888888889\n"
     ]
    },
    {
     "name": "stderr",
     "output_type": "stream",
     "text": [
      " 18%|█▊        | 1900/10845 [19:01<1:15:28,  1.98it/s]"
     ]
    },
    {
     "name": "stdout",
     "output_type": "stream",
     "text": [
      "epoch:0, idx:1899/10845, loss:2.398387525865906, acc:0.3738157894736842\n"
     ]
    },
    {
     "name": "stderr",
     "output_type": "stream",
     "text": [
      " 18%|█▊        | 2000/10845 [20:03<1:25:29,  1.72it/s]"
     ]
    },
    {
     "name": "stdout",
     "output_type": "stream",
     "text": [
      "epoch:0, idx:1999/10845, loss:2.387915161818266, acc:0.376375\n"
     ]
    },
    {
     "name": "stderr",
     "output_type": "stream",
     "text": [
      " 19%|█▉        | 2100/10845 [21:03<1:19:47,  1.83it/s]"
     ]
    },
    {
     "name": "stdout",
     "output_type": "stream",
     "text": [
      "epoch:0, idx:2099/10845, loss:2.381273531346094, acc:0.3769047619047619\n"
     ]
    },
    {
     "name": "stderr",
     "output_type": "stream",
     "text": [
      " 20%|██        | 2200/10845 [22:02<1:04:06,  2.25it/s]"
     ]
    },
    {
     "name": "stdout",
     "output_type": "stream",
     "text": [
      "epoch:0, idx:2199/10845, loss:2.369785328073935, acc:0.3794318181818182\n"
     ]
    },
    {
     "name": "stderr",
     "output_type": "stream",
     "text": [
      " 21%|██        | 2300/10845 [23:00<1:07:22,  2.11it/s]"
     ]
    },
    {
     "name": "stdout",
     "output_type": "stream",
     "text": [
      "epoch:0, idx:2299/10845, loss:2.3590276363621587, acc:0.3804347826086957\n"
     ]
    },
    {
     "name": "stderr",
     "output_type": "stream",
     "text": [
      " 22%|██▏       | 2400/10845 [24:02<1:04:59,  2.17it/s]"
     ]
    },
    {
     "name": "stdout",
     "output_type": "stream",
     "text": [
      "epoch:0, idx:2399/10845, loss:2.350936353156964, acc:0.3827083333333333\n"
     ]
    },
    {
     "name": "stderr",
     "output_type": "stream",
     "text": [
      " 23%|██▎       | 2500/10845 [25:01<1:13:29,  1.89it/s]"
     ]
    },
    {
     "name": "stdout",
     "output_type": "stream",
     "text": [
      "epoch:0, idx:2499/10845, loss:2.339938402915001, acc:0.385\n"
     ]
    },
    {
     "name": "stderr",
     "output_type": "stream",
     "text": [
      " 24%|██▍       | 2600/10845 [26:00<1:39:14,  1.38it/s]"
     ]
    },
    {
     "name": "stdout",
     "output_type": "stream",
     "text": [
      "epoch:0, idx:2599/10845, loss:2.3379019493323105, acc:0.3858653846153846\n"
     ]
    },
    {
     "name": "stderr",
     "output_type": "stream",
     "text": [
      " 25%|██▍       | 2700/10845 [27:02<1:07:06,  2.02it/s]"
     ]
    },
    {
     "name": "stdout",
     "output_type": "stream",
     "text": [
      "epoch:0, idx:2699/10845, loss:2.3263152370629485, acc:0.38851851851851854\n"
     ]
    },
    {
     "name": "stderr",
     "output_type": "stream",
     "text": [
      " 26%|██▌       | 2800/10845 [28:00<1:22:09,  1.63it/s]"
     ]
    },
    {
     "name": "stdout",
     "output_type": "stream",
     "text": [
      "epoch:0, idx:2799/10845, loss:2.318104272761515, acc:0.390625\n"
     ]
    },
    {
     "name": "stderr",
     "output_type": "stream",
     "text": [
      " 27%|██▋       | 2900/10845 [28:57<1:06:57,  1.98it/s]"
     ]
    },
    {
     "name": "stdout",
     "output_type": "stream",
     "text": [
      "epoch:0, idx:2899/10845, loss:2.307880508529729, acc:0.39232758620689656\n"
     ]
    },
    {
     "name": "stderr",
     "output_type": "stream",
     "text": [
      " 28%|██▊       | 3000/10845 [29:58<57:04,  2.29it/s]  "
     ]
    },
    {
     "name": "stdout",
     "output_type": "stream",
     "text": [
      "epoch:0, idx:2999/10845, loss:2.303415585269531, acc:0.39325\n"
     ]
    },
    {
     "name": "stderr",
     "output_type": "stream",
     "text": [
      " 29%|██▊       | 3100/10845 [30:58<1:26:54,  1.49it/s]"
     ]
    },
    {
     "name": "stdout",
     "output_type": "stream",
     "text": [
      "epoch:0, idx:3099/10845, loss:2.2966377992110867, acc:0.3945161290322581\n"
     ]
    },
    {
     "name": "stderr",
     "output_type": "stream",
     "text": [
      " 30%|██▉       | 3200/10845 [31:56<1:28:26,  1.44it/s]"
     ]
    },
    {
     "name": "stdout",
     "output_type": "stream",
     "text": [
      "epoch:0, idx:3199/10845, loss:2.290208999952301, acc:0.3959375\n"
     ]
    },
    {
     "name": "stderr",
     "output_type": "stream",
     "text": [
      " 30%|███       | 3300/10845 [32:57<1:13:02,  1.72it/s]"
     ]
    },
    {
     "name": "stdout",
     "output_type": "stream",
     "text": [
      "epoch:0, idx:3299/10845, loss:2.2820074848604923, acc:0.39765151515151514\n"
     ]
    },
    {
     "name": "stderr",
     "output_type": "stream",
     "text": [
      " 31%|███▏      | 3400/10845 [33:55<1:07:41,  1.83it/s]"
     ]
    },
    {
     "name": "stdout",
     "output_type": "stream",
     "text": [
      "epoch:0, idx:3399/10845, loss:2.2734897138178347, acc:0.4002941176470588\n"
     ]
    },
    {
     "name": "stderr",
     "output_type": "stream",
     "text": [
      " 32%|███▏      | 3500/10845 [34:57<1:02:57,  1.94it/s]"
     ]
    },
    {
     "name": "stdout",
     "output_type": "stream",
     "text": [
      "epoch:0, idx:3499/10845, loss:2.2670167533925603, acc:0.4007857142857143\n"
     ]
    },
    {
     "name": "stderr",
     "output_type": "stream",
     "text": [
      " 33%|███▎      | 3600/10845 [35:55<1:05:48,  1.83it/s]"
     ]
    },
    {
     "name": "stdout",
     "output_type": "stream",
     "text": [
      "epoch:0, idx:3599/10845, loss:2.260362837190429, acc:0.4025\n"
     ]
    },
    {
     "name": "stderr",
     "output_type": "stream",
     "text": [
      " 34%|███▍      | 3700/10845 [36:53<1:12:34,  1.64it/s]"
     ]
    },
    {
     "name": "stdout",
     "output_type": "stream",
     "text": [
      "epoch:0, idx:3699/10845, loss:2.2537598332601623, acc:0.40364864864864863\n"
     ]
    },
    {
     "name": "stderr",
     "output_type": "stream",
     "text": [
      " 35%|███▌      | 3800/10845 [37:53<59:55,  1.96it/s]  "
     ]
    },
    {
     "name": "stdout",
     "output_type": "stream",
     "text": [
      "epoch:0, idx:3799/10845, loss:2.246082622565721, acc:0.4061842105263158\n"
     ]
    },
    {
     "name": "stderr",
     "output_type": "stream",
     "text": [
      " 36%|███▌      | 3900/10845 [38:52<1:08:08,  1.70it/s]"
     ]
    },
    {
     "name": "stdout",
     "output_type": "stream",
     "text": [
      "epoch:0, idx:3899/10845, loss:2.2392650289566087, acc:0.4078846153846154\n"
     ]
    },
    {
     "name": "stderr",
     "output_type": "stream",
     "text": [
      " 37%|███▋      | 4000/10845 [39:53<1:08:57,  1.65it/s]"
     ]
    },
    {
     "name": "stdout",
     "output_type": "stream",
     "text": [
      "epoch:0, idx:3999/10845, loss:2.2330236473977565, acc:0.409375\n"
     ]
    },
    {
     "name": "stderr",
     "output_type": "stream",
     "text": [
      " 38%|███▊      | 4101/10845 [40:56<46:17,  2.43it/s]  "
     ]
    },
    {
     "name": "stdout",
     "output_type": "stream",
     "text": [
      "epoch:0, idx:4099/10845, loss:2.231180366728364, acc:0.4096341463414634\n"
     ]
    },
    {
     "name": "stderr",
     "output_type": "stream",
     "text": [
      " 39%|███▊      | 4200/10845 [41:59<1:23:25,  1.33it/s]"
     ]
    },
    {
     "name": "stdout",
     "output_type": "stream",
     "text": [
      "epoch:0, idx:4199/10845, loss:2.2275672911249456, acc:0.41035714285714286\n"
     ]
    },
    {
     "name": "stderr",
     "output_type": "stream",
     "text": [
      " 40%|███▉      | 4300/10845 [42:56<48:38,  2.24it/s]  "
     ]
    },
    {
     "name": "stdout",
     "output_type": "stream",
     "text": [
      "epoch:0, idx:4299/10845, loss:2.222125321176163, acc:0.4105813953488372\n"
     ]
    },
    {
     "name": "stderr",
     "output_type": "stream",
     "text": [
      " 41%|████      | 4400/10845 [43:58<1:07:21,  1.59it/s]"
     ]
    },
    {
     "name": "stdout",
     "output_type": "stream",
     "text": [
      "epoch:0, idx:4399/10845, loss:2.2184889268400996, acc:0.413125\n"
     ]
    },
    {
     "name": "stderr",
     "output_type": "stream",
     "text": [
      " 41%|████▏     | 4500/10845 [44:56<1:00:13,  1.76it/s]"
     ]
    },
    {
     "name": "stdout",
     "output_type": "stream",
     "text": [
      "epoch:0, idx:4499/10845, loss:2.212154425435596, acc:0.4146111111111111\n"
     ]
    },
    {
     "name": "stderr",
     "output_type": "stream",
     "text": [
      " 42%|████▏     | 4600/10845 [45:53<54:45,  1.90it/s]  "
     ]
    },
    {
     "name": "stdout",
     "output_type": "stream",
     "text": [
      "epoch:0, idx:4599/10845, loss:2.20696970379223, acc:0.41657608695652176\n"
     ]
    },
    {
     "name": "stderr",
     "output_type": "stream",
     "text": [
      " 43%|████▎     | 4700/10845 [46:51<1:14:24,  1.38it/s]"
     ]
    },
    {
     "name": "stdout",
     "output_type": "stream",
     "text": [
      "epoch:0, idx:4699/10845, loss:2.201538470989846, acc:0.4176063829787234\n"
     ]
    },
    {
     "name": "stderr",
     "output_type": "stream",
     "text": [
      " 44%|████▍     | 4800/10845 [47:50<56:35,  1.78it/s]  "
     ]
    },
    {
     "name": "stdout",
     "output_type": "stream",
     "text": [
      "epoch:0, idx:4799/10845, loss:2.1986355964280664, acc:0.418125\n"
     ]
    },
    {
     "name": "stderr",
     "output_type": "stream",
     "text": [
      " 45%|████▌     | 4900/10845 [48:52<51:01,  1.94it/s]  "
     ]
    },
    {
     "name": "stdout",
     "output_type": "stream",
     "text": [
      "epoch:0, idx:4899/10845, loss:2.1946113447997035, acc:0.4190816326530612\n"
     ]
    },
    {
     "name": "stderr",
     "output_type": "stream",
     "text": [
      " 46%|████▌     | 5000/10845 [49:49<1:00:22,  1.61it/s]"
     ]
    },
    {
     "name": "stdout",
     "output_type": "stream",
     "text": [
      "epoch:0, idx:4999/10845, loss:2.188883385461569, acc:0.42045\n"
     ]
    },
    {
     "name": "stderr",
     "output_type": "stream",
     "text": [
      " 47%|████▋     | 5100/10845 [50:45<55:23,  1.73it/s]  "
     ]
    },
    {
     "name": "stdout",
     "output_type": "stream",
     "text": [
      "epoch:0, idx:5099/10845, loss:2.183839599157081, acc:0.4218627450980392\n"
     ]
    },
    {
     "name": "stderr",
     "output_type": "stream",
     "text": [
      " 48%|████▊     | 5200/10845 [51:44<1:01:39,  1.53it/s]"
     ]
    },
    {
     "name": "stdout",
     "output_type": "stream",
     "text": [
      "epoch:0, idx:5199/10845, loss:2.1808771324100404, acc:0.4226923076923077\n"
     ]
    },
    {
     "name": "stderr",
     "output_type": "stream",
     "text": [
      " 49%|████▉     | 5300/10845 [52:44<1:01:59,  1.49it/s]"
     ]
    },
    {
     "name": "stdout",
     "output_type": "stream",
     "text": [
      "epoch:0, idx:5299/10845, loss:2.177008451262735, acc:0.4232075471698113\n"
     ]
    },
    {
     "name": "stderr",
     "output_type": "stream",
     "text": [
      " 50%|████▉     | 5400/10845 [53:42<49:19,  1.84it/s]  "
     ]
    },
    {
     "name": "stdout",
     "output_type": "stream",
     "text": [
      "epoch:0, idx:5399/10845, loss:2.1729828052995384, acc:0.4237037037037037\n"
     ]
    },
    {
     "name": "stderr",
     "output_type": "stream",
     "text": [
      " 51%|█████     | 5500/10845 [54:39<54:51,  1.62it/s]  "
     ]
    },
    {
     "name": "stdout",
     "output_type": "stream",
     "text": [
      "epoch:0, idx:5499/10845, loss:2.1675649666677823, acc:0.4240909090909091\n"
     ]
    },
    {
     "name": "stderr",
     "output_type": "stream",
     "text": [
      " 52%|█████▏    | 5600/10845 [55:37<41:07,  2.13it/s]  "
     ]
    },
    {
     "name": "stdout",
     "output_type": "stream",
     "text": [
      "epoch:0, idx:5599/10845, loss:2.162313947964992, acc:0.4253571428571429\n"
     ]
    },
    {
     "name": "stderr",
     "output_type": "stream",
     "text": [
      " 53%|█████▎    | 5700/10845 [56:38<49:21,  1.74it/s]  "
     ]
    },
    {
     "name": "stdout",
     "output_type": "stream",
     "text": [
      "epoch:0, idx:5699/10845, loss:2.1588635301171686, acc:0.42653508771929827\n"
     ]
    },
    {
     "name": "stderr",
     "output_type": "stream",
     "text": [
      " 53%|█████▎    | 5800/10845 [57:38<49:49,  1.69it/s]  "
     ]
    },
    {
     "name": "stdout",
     "output_type": "stream",
     "text": [
      "epoch:0, idx:5799/10845, loss:2.1545096818640315, acc:0.4279741379310345\n"
     ]
    },
    {
     "name": "stderr",
     "output_type": "stream",
     "text": [
      " 54%|█████▍    | 5900/10845 [58:40<50:29,  1.63it/s]  "
     ]
    },
    {
     "name": "stdout",
     "output_type": "stream",
     "text": [
      "epoch:0, idx:5899/10845, loss:2.1498081111200786, acc:0.428728813559322\n"
     ]
    },
    {
     "name": "stderr",
     "output_type": "stream",
     "text": [
      " 55%|█████▌    | 6000/10845 [59:39<45:45,  1.76it/s]  "
     ]
    },
    {
     "name": "stdout",
     "output_type": "stream",
     "text": [
      "epoch:0, idx:5999/10845, loss:2.1433430577466885, acc:0.42995833333333333\n"
     ]
    },
    {
     "name": "stderr",
     "output_type": "stream",
     "text": [
      " 56%|█████▌    | 6100/10845 [1:00:39<43:36,  1.81it/s]  "
     ]
    },
    {
     "name": "stdout",
     "output_type": "stream",
     "text": [
      "epoch:0, idx:6099/10845, loss:2.1388148945228, acc:0.4310245901639344\n"
     ]
    },
    {
     "name": "stderr",
     "output_type": "stream",
     "text": [
      " 57%|█████▋    | 6200/10845 [1:01:38<51:23,  1.51it/s]  "
     ]
    },
    {
     "name": "stdout",
     "output_type": "stream",
     "text": [
      "epoch:0, idx:6199/10845, loss:2.134961709711821, acc:0.43233870967741933\n"
     ]
    },
    {
     "name": "stderr",
     "output_type": "stream",
     "text": [
      " 58%|█████▊    | 6300/10845 [1:02:36<50:17,  1.51it/s]  "
     ]
    },
    {
     "name": "stdout",
     "output_type": "stream",
     "text": [
      "epoch:0, idx:6299/10845, loss:2.1332014785541427, acc:0.43313492063492065\n"
     ]
    },
    {
     "name": "stderr",
     "output_type": "stream",
     "text": [
      " 59%|█████▉    | 6400/10845 [1:03:40<34:28,  2.15it/s]  "
     ]
    },
    {
     "name": "stdout",
     "output_type": "stream",
     "text": [
      "epoch:0, idx:6399/10845, loss:2.1294459889968858, acc:0.43390625\n"
     ]
    },
    {
     "name": "stderr",
     "output_type": "stream",
     "text": [
      " 60%|█████▉    | 6500/10845 [1:04:40<39:59,  1.81it/s]  "
     ]
    },
    {
     "name": "stdout",
     "output_type": "stream",
     "text": [
      "epoch:0, idx:6499/10845, loss:2.1245726598501204, acc:0.43503846153846154\n"
     ]
    },
    {
     "name": "stderr",
     "output_type": "stream",
     "text": [
      " 61%|██████    | 6600/10845 [1:05:40<44:01,  1.61it/s]  "
     ]
    },
    {
     "name": "stdout",
     "output_type": "stream",
     "text": [
      "epoch:0, idx:6599/10845, loss:2.1193559113325495, acc:0.4363257575757576\n"
     ]
    },
    {
     "name": "stderr",
     "output_type": "stream",
     "text": [
      " 62%|██████▏   | 6700/10845 [1:06:42<41:00,  1.68it/s]  "
     ]
    },
    {
     "name": "stdout",
     "output_type": "stream",
     "text": [
      "epoch:0, idx:6699/10845, loss:2.115453531092672, acc:0.4373507462686567\n"
     ]
    },
    {
     "name": "stderr",
     "output_type": "stream",
     "text": [
      " 63%|██████▎   | 6800/10845 [1:07:40<42:41,  1.58it/s]"
     ]
    },
    {
     "name": "stdout",
     "output_type": "stream",
     "text": [
      "epoch:0, idx:6799/10845, loss:2.1100338214460543, acc:0.4386029411764706\n"
     ]
    },
    {
     "name": "stderr",
     "output_type": "stream",
     "text": [
      " 64%|██████▎   | 6900/10845 [1:08:40<28:03,  2.34it/s]"
     ]
    },
    {
     "name": "stdout",
     "output_type": "stream",
     "text": [
      "epoch:0, idx:6899/10845, loss:2.1072976026068564, acc:0.4393478260869565\n"
     ]
    },
    {
     "name": "stderr",
     "output_type": "stream",
     "text": [
      " 65%|██████▍   | 7000/10845 [1:09:42<39:19,  1.63it/s]  "
     ]
    },
    {
     "name": "stdout",
     "output_type": "stream",
     "text": [
      "epoch:0, idx:6999/10845, loss:2.103830952086619, acc:0.44014285714285717\n"
     ]
    },
    {
     "name": "stderr",
     "output_type": "stream",
     "text": [
      " 65%|██████▌   | 7100/10845 [1:10:38<34:54,  1.79it/s]"
     ]
    },
    {
     "name": "stdout",
     "output_type": "stream",
     "text": [
      "epoch:0, idx:7099/10845, loss:2.0996364765142053, acc:0.4408802816901408\n"
     ]
    },
    {
     "name": "stderr",
     "output_type": "stream",
     "text": [
      " 66%|██████▋   | 7200/10845 [1:11:34<32:42,  1.86it/s]"
     ]
    },
    {
     "name": "stdout",
     "output_type": "stream",
     "text": [
      "epoch:0, idx:7199/10845, loss:2.0974150148572193, acc:0.44125\n"
     ]
    },
    {
     "name": "stderr",
     "output_type": "stream",
     "text": [
      " 67%|██████▋   | 7300/10845 [1:12:34<36:17,  1.63it/s]"
     ]
    },
    {
     "name": "stdout",
     "output_type": "stream",
     "text": [
      "epoch:0, idx:7299/10845, loss:2.094158499224545, acc:0.4420890410958904\n"
     ]
    },
    {
     "name": "stderr",
     "output_type": "stream",
     "text": [
      " 68%|██████▊   | 7400/10845 [1:13:31<30:27,  1.88it/s]"
     ]
    },
    {
     "name": "stdout",
     "output_type": "stream",
     "text": [
      "epoch:0, idx:7399/10845, loss:2.091736463352635, acc:0.44280405405405404\n"
     ]
    },
    {
     "name": "stderr",
     "output_type": "stream",
     "text": [
      " 69%|██████▉   | 7500/10845 [1:14:35<37:49,  1.47it/s]  "
     ]
    },
    {
     "name": "stdout",
     "output_type": "stream",
     "text": [
      "epoch:0, idx:7499/10845, loss:2.089976219681899, acc:0.4433666666666667\n"
     ]
    },
    {
     "name": "stderr",
     "output_type": "stream",
     "text": [
      " 70%|███████   | 7600/10845 [1:15:35<29:15,  1.85it/s]"
     ]
    },
    {
     "name": "stdout",
     "output_type": "stream",
     "text": [
      "epoch:0, idx:7599/10845, loss:2.0870255687323054, acc:0.4440789473684211\n"
     ]
    },
    {
     "name": "stderr",
     "output_type": "stream",
     "text": [
      " 71%|███████   | 7700/10845 [1:16:36<27:21,  1.92it/s]"
     ]
    },
    {
     "name": "stdout",
     "output_type": "stream",
     "text": [
      "epoch:0, idx:7699/10845, loss:2.0836030472369935, acc:0.44487012987012986\n"
     ]
    },
    {
     "name": "stderr",
     "output_type": "stream",
     "text": [
      " 72%|███████▏  | 7800/10845 [1:17:36<27:20,  1.86it/s]"
     ]
    },
    {
     "name": "stdout",
     "output_type": "stream",
     "text": [
      "epoch:0, idx:7799/10845, loss:2.0801554384693883, acc:0.4454166666666667\n"
     ]
    },
    {
     "name": "stderr",
     "output_type": "stream",
     "text": [
      " 73%|███████▎  | 7900/10845 [1:18:37<23:07,  2.12it/s]"
     ]
    },
    {
     "name": "stdout",
     "output_type": "stream",
     "text": [
      "epoch:0, idx:7899/10845, loss:2.077641548844455, acc:0.44617088607594935\n"
     ]
    },
    {
     "name": "stderr",
     "output_type": "stream",
     "text": [
      " 74%|███████▍  | 8000/10845 [1:19:37<25:59,  1.82it/s]"
     ]
    },
    {
     "name": "stdout",
     "output_type": "stream",
     "text": [
      "epoch:0, idx:7999/10845, loss:2.076718298414722, acc:0.4463125\n"
     ]
    },
    {
     "name": "stderr",
     "output_type": "stream",
     "text": [
      " 75%|███████▍  | 8100/10845 [1:20:37<37:01,  1.24it/s]"
     ]
    },
    {
     "name": "stdout",
     "output_type": "stream",
     "text": [
      "epoch:0, idx:8099/10845, loss:2.074404303996283, acc:0.44688271604938273\n"
     ]
    },
    {
     "name": "stderr",
     "output_type": "stream",
     "text": [
      " 76%|███████▌  | 8200/10845 [1:21:34<22:07,  1.99it/s]"
     ]
    },
    {
     "name": "stdout",
     "output_type": "stream",
     "text": [
      "epoch:0, idx:8199/10845, loss:2.0709767611306615, acc:0.4473170731707317\n"
     ]
    },
    {
     "name": "stderr",
     "output_type": "stream",
     "text": [
      " 77%|███████▋  | 8300/10845 [1:22:32<28:19,  1.50it/s]"
     ]
    },
    {
     "name": "stdout",
     "output_type": "stream",
     "text": [
      "epoch:0, idx:8299/10845, loss:2.067500458936016, acc:0.44810240963855424\n"
     ]
    },
    {
     "name": "stderr",
     "output_type": "stream",
     "text": [
      " 77%|███████▋  | 8400/10845 [1:23:33<27:17,  1.49it/s]"
     ]
    },
    {
     "name": "stdout",
     "output_type": "stream",
     "text": [
      "epoch:0, idx:8399/10845, loss:2.0666592726022714, acc:0.44821428571428573\n"
     ]
    },
    {
     "name": "stderr",
     "output_type": "stream",
     "text": [
      " 78%|███████▊  | 8500/10845 [1:24:32<22:25,  1.74it/s]"
     ]
    },
    {
     "name": "stdout",
     "output_type": "stream",
     "text": [
      "epoch:0, idx:8499/10845, loss:2.0642658773748312, acc:0.4485588235294118\n"
     ]
    },
    {
     "name": "stderr",
     "output_type": "stream",
     "text": [
      " 79%|███████▉  | 8600/10845 [1:25:29<18:25,  2.03it/s]"
     ]
    },
    {
     "name": "stdout",
     "output_type": "stream",
     "text": [
      "epoch:0, idx:8599/10845, loss:2.062657406671449, acc:0.4490406976744186\n"
     ]
    },
    {
     "name": "stderr",
     "output_type": "stream",
     "text": [
      " 80%|████████  | 8700/10845 [1:26:32<15:53,  2.25it/s]"
     ]
    },
    {
     "name": "stdout",
     "output_type": "stream",
     "text": [
      "epoch:0, idx:8699/10845, loss:2.0604484089917836, acc:0.449683908045977\n"
     ]
    },
    {
     "name": "stderr",
     "output_type": "stream",
     "text": [
      " 81%|████████  | 8800/10845 [1:27:35<24:23,  1.40it/s]"
     ]
    },
    {
     "name": "stdout",
     "output_type": "stream",
     "text": [
      "epoch:0, idx:8799/10845, loss:2.058222128107128, acc:0.45034090909090907\n"
     ]
    },
    {
     "name": "stderr",
     "output_type": "stream",
     "text": [
      " 82%|████████▏ | 8900/10845 [1:28:33<16:59,  1.91it/s]"
     ]
    },
    {
     "name": "stdout",
     "output_type": "stream",
     "text": [
      "epoch:0, idx:8899/10845, loss:2.0559238479194346, acc:0.4510393258426966\n"
     ]
    },
    {
     "name": "stderr",
     "output_type": "stream",
     "text": [
      " 83%|████████▎ | 9000/10845 [1:29:29<20:16,  1.52it/s]"
     ]
    },
    {
     "name": "stdout",
     "output_type": "stream",
     "text": [
      "epoch:0, idx:8999/10845, loss:2.0535882480823333, acc:0.4518611111111111\n"
     ]
    },
    {
     "name": "stderr",
     "output_type": "stream",
     "text": [
      " 84%|████████▍ | 9100/10845 [1:30:28<15:14,  1.91it/s]"
     ]
    },
    {
     "name": "stdout",
     "output_type": "stream",
     "text": [
      "epoch:0, idx:9099/10845, loss:2.0504806395857544, acc:0.45274725274725275\n"
     ]
    },
    {
     "name": "stderr",
     "output_type": "stream",
     "text": [
      " 85%|████████▍ | 9200/10845 [1:31:24<17:17,  1.59it/s]"
     ]
    },
    {
     "name": "stdout",
     "output_type": "stream",
     "text": [
      "epoch:0, idx:9199/10845, loss:2.0484896737709644, acc:0.4534239130434783\n"
     ]
    },
    {
     "name": "stderr",
     "output_type": "stream",
     "text": [
      " 86%|████████▌ | 9300/10845 [1:32:28<14:58,  1.72it/s]"
     ]
    },
    {
     "name": "stdout",
     "output_type": "stream",
     "text": [
      "epoch:0, idx:9299/10845, loss:2.0457748244830998, acc:0.454005376344086\n"
     ]
    },
    {
     "name": "stderr",
     "output_type": "stream",
     "text": [
      " 87%|████████▋ | 9400/10845 [1:33:27<16:31,  1.46it/s]"
     ]
    },
    {
     "name": "stdout",
     "output_type": "stream",
     "text": [
      "epoch:0, idx:9399/10845, loss:2.043319661045011, acc:0.4546276595744681\n"
     ]
    },
    {
     "name": "stderr",
     "output_type": "stream",
     "text": [
      " 88%|████████▊ | 9500/10845 [1:34:28<14:09,  1.58it/s]"
     ]
    },
    {
     "name": "stdout",
     "output_type": "stream",
     "text": [
      "epoch:0, idx:9499/10845, loss:2.040936368052897, acc:0.4551842105263158\n"
     ]
    },
    {
     "name": "stderr",
     "output_type": "stream",
     "text": [
      " 89%|████████▊ | 9600/10845 [1:35:25<12:15,  1.69it/s]"
     ]
    },
    {
     "name": "stdout",
     "output_type": "stream",
     "text": [
      "epoch:0, idx:9599/10845, loss:2.038880929532461, acc:0.455546875\n"
     ]
    },
    {
     "name": "stderr",
     "output_type": "stream",
     "text": [
      " 89%|████████▉ | 9700/10845 [1:36:28<13:19,  1.43it/s]"
     ]
    },
    {
     "name": "stdout",
     "output_type": "stream",
     "text": [
      "epoch:0, idx:9699/10845, loss:2.0379381360697377, acc:0.4559020618556701\n"
     ]
    },
    {
     "name": "stderr",
     "output_type": "stream",
     "text": [
      " 90%|█████████ | 9800/10845 [1:37:30<08:57,  1.94it/s]"
     ]
    },
    {
     "name": "stdout",
     "output_type": "stream",
     "text": [
      "epoch:0, idx:9799/10845, loss:2.0360002088409908, acc:0.45622448979591834\n"
     ]
    },
    {
     "name": "stderr",
     "output_type": "stream",
     "text": [
      " 91%|█████████▏| 9900/10845 [1:38:29<09:23,  1.68it/s]"
     ]
    },
    {
     "name": "stdout",
     "output_type": "stream",
     "text": [
      "epoch:0, idx:9899/10845, loss:2.0344203929482685, acc:0.4569191919191919\n"
     ]
    },
    {
     "name": "stderr",
     "output_type": "stream",
     "text": [
      " 92%|█████████▏| 10000/10845 [1:39:30<07:55,  1.78it/s]"
     ]
    },
    {
     "name": "stdout",
     "output_type": "stream",
     "text": [
      "epoch:0, idx:9999/10845, loss:2.0327889201238754, acc:0.457625\n"
     ]
    },
    {
     "name": "stderr",
     "output_type": "stream",
     "text": [
      " 93%|█████████▎| 10100/10845 [1:40:31<10:22,  1.20it/s]"
     ]
    },
    {
     "name": "stdout",
     "output_type": "stream",
     "text": [
      "epoch:0, idx:10099/10845, loss:2.0300659541667687, acc:0.4583910891089109\n"
     ]
    },
    {
     "name": "stderr",
     "output_type": "stream",
     "text": [
      " 94%|█████████▍| 10200/10845 [1:41:30<07:42,  1.40it/s]"
     ]
    },
    {
     "name": "stdout",
     "output_type": "stream",
     "text": [
      "epoch:0, idx:10199/10845, loss:2.0292424558439093, acc:0.4586029411764706\n"
     ]
    },
    {
     "name": "stderr",
     "output_type": "stream",
     "text": [
      " 95%|█████████▍| 10300/10845 [1:42:31<05:22,  1.69it/s]"
     ]
    },
    {
     "name": "stdout",
     "output_type": "stream",
     "text": [
      "epoch:0, idx:10299/10845, loss:2.0274440393300313, acc:0.4587378640776699\n"
     ]
    },
    {
     "name": "stderr",
     "output_type": "stream",
     "text": [
      " 96%|█████████▌| 10400/10845 [1:43:30<04:40,  1.58it/s]"
     ]
    },
    {
     "name": "stdout",
     "output_type": "stream",
     "text": [
      "epoch:0, idx:10399/10845, loss:2.025812394964294, acc:0.45913461538461536\n"
     ]
    },
    {
     "name": "stderr",
     "output_type": "stream",
     "text": [
      " 97%|█████████▋| 10500/10845 [1:44:29<02:44,  2.10it/s]"
     ]
    },
    {
     "name": "stdout",
     "output_type": "stream",
     "text": [
      "epoch:0, idx:10499/10845, loss:2.023207047407116, acc:0.4597857142857143\n"
     ]
    },
    {
     "name": "stderr",
     "output_type": "stream",
     "text": [
      " 98%|█████████▊| 10600/10845 [1:45:28<02:16,  1.80it/s]"
     ]
    },
    {
     "name": "stdout",
     "output_type": "stream",
     "text": [
      "epoch:0, idx:10599/10845, loss:2.0198343247751582, acc:0.4604009433962264\n"
     ]
    },
    {
     "name": "stderr",
     "output_type": "stream",
     "text": [
      " 99%|█████████▊| 10700/10845 [1:46:25<01:16,  1.90it/s]"
     ]
    },
    {
     "name": "stdout",
     "output_type": "stream",
     "text": [
      "epoch:0, idx:10699/10845, loss:2.0179514120686277, acc:0.46102803738317755\n"
     ]
    },
    {
     "name": "stderr",
     "output_type": "stream",
     "text": [
      "100%|█████████▉| 10800/10845 [1:47:25<00:24,  1.81it/s]"
     ]
    },
    {
     "name": "stdout",
     "output_type": "stream",
     "text": [
      "epoch:0, idx:10799/10845, loss:2.0153534377490483, acc:0.4621527777777778\n"
     ]
    },
    {
     "name": "stderr",
     "output_type": "stream",
     "text": [
      "100%|██████████| 10845/10845 [1:47:50<00:00,  1.69it/s]\n"
     ]
    },
    {
     "name": "stdout",
     "output_type": "stream",
     "text": [
      "epoch:0, idx:0/1275, loss:1.5959317684173584, acc:0.25\n",
      "epoch:0, idx:100/1275, loss:1.784310257080758, acc:0.5173267326732673\n",
      "epoch:0, idx:200/1275, loss:1.7295144169188257, acc:0.5335820895522388\n",
      "epoch:0, idx:300/1275, loss:1.720778158534801, acc:0.5307308970099668\n",
      "epoch:0, idx:400/1275, loss:1.7179905489793146, acc:0.5305486284289277\n",
      "epoch:0, idx:500/1275, loss:1.7194111429288716, acc:0.5349301397205589\n",
      "epoch:0, idx:600/1275, loss:1.7249160044006817, acc:0.528702163061564\n",
      "epoch:0, idx:700/1275, loss:1.7150068969257208, acc:0.5310271041369472\n",
      "epoch:0, idx:800/1275, loss:1.726561816890588, acc:0.5227840199750312\n",
      "epoch:0, idx:900/1275, loss:1.7245922780923388, acc:0.5230299667036626\n",
      "epoch:0, idx:1000/1275, loss:1.735311128668018, acc:0.51998001998002\n",
      "epoch:0, idx:1100/1275, loss:1.731954125438789, acc:0.5199818346957311\n",
      "epoch:0, idx:1200/1275, loss:1.7339711444364003, acc:0.5181099084096586\n"
     ]
    },
    {
     "name": "stderr",
     "output_type": "stream",
     "text": [
      "  1%|          | 100/10845 [00:57<1:42:29,  1.75it/s]"
     ]
    },
    {
     "name": "stdout",
     "output_type": "stream",
     "text": [
      "epoch:1, idx:99/10845, loss:1.8177885353565215, acc:0.495\n"
     ]
    },
    {
     "name": "stderr",
     "output_type": "stream",
     "text": [
      "  2%|▏         | 200/10845 [01:55<1:44:18,  1.70it/s]"
     ]
    },
    {
     "name": "stdout",
     "output_type": "stream",
     "text": [
      "epoch:1, idx:199/10845, loss:1.730317063778639, acc:0.54\n"
     ]
    },
    {
     "name": "stderr",
     "output_type": "stream",
     "text": [
      "  3%|▎         | 300/10845 [02:58<1:47:21,  1.64it/s]"
     ]
    },
    {
     "name": "stdout",
     "output_type": "stream",
     "text": [
      "epoch:1, idx:299/10845, loss:1.763959134221077, acc:0.5341666666666667\n"
     ]
    },
    {
     "name": "stderr",
     "output_type": "stream",
     "text": [
      "  4%|▎         | 400/10845 [03:57<1:32:40,  1.88it/s]"
     ]
    },
    {
     "name": "stdout",
     "output_type": "stream",
     "text": [
      "epoch:1, idx:399/10845, loss:1.766843361929059, acc:0.53\n"
     ]
    },
    {
     "name": "stderr",
     "output_type": "stream",
     "text": [
      "  5%|▍         | 500/10845 [04:57<1:55:01,  1.50it/s]"
     ]
    },
    {
     "name": "stdout",
     "output_type": "stream",
     "text": [
      "epoch:1, idx:499/10845, loss:1.745472249507904, acc:0.536\n"
     ]
    },
    {
     "name": "stderr",
     "output_type": "stream",
     "text": [
      "  6%|▌         | 600/10845 [05:55<1:21:33,  2.09it/s]"
     ]
    },
    {
     "name": "stdout",
     "output_type": "stream",
     "text": [
      "epoch:1, idx:599/10845, loss:1.741843127856652, acc:0.5395833333333333\n"
     ]
    },
    {
     "name": "stderr",
     "output_type": "stream",
     "text": [
      "  6%|▋         | 700/10845 [06:57<1:48:37,  1.56it/s]"
     ]
    },
    {
     "name": "stdout",
     "output_type": "stream",
     "text": [
      "epoch:1, idx:699/10845, loss:1.7524484353831835, acc:0.5335714285714286\n"
     ]
    },
    {
     "name": "stderr",
     "output_type": "stream",
     "text": [
      "  7%|▋         | 800/10845 [07:58<1:30:58,  1.84it/s]"
     ]
    },
    {
     "name": "stdout",
     "output_type": "stream",
     "text": [
      "epoch:1, idx:799/10845, loss:1.7490693258494139, acc:0.533125\n"
     ]
    },
    {
     "name": "stderr",
     "output_type": "stream",
     "text": [
      "  8%|▊         | 900/10845 [08:58<1:56:59,  1.42it/s]"
     ]
    },
    {
     "name": "stdout",
     "output_type": "stream",
     "text": [
      "epoch:1, idx:899/10845, loss:1.7401029430826505, acc:0.5366666666666666\n"
     ]
    },
    {
     "name": "stderr",
     "output_type": "stream",
     "text": [
      "  9%|▉         | 1000/10845 [09:59<1:47:14,  1.53it/s]"
     ]
    },
    {
     "name": "stdout",
     "output_type": "stream",
     "text": [
      "epoch:1, idx:999/10845, loss:1.7330821735262871, acc:0.5395\n"
     ]
    },
    {
     "name": "stderr",
     "output_type": "stream",
     "text": [
      " 10%|█         | 1100/10845 [11:03<1:27:25,  1.86it/s]"
     ]
    },
    {
     "name": "stdout",
     "output_type": "stream",
     "text": [
      "epoch:1, idx:1099/10845, loss:1.7335585122216832, acc:0.538409090909091\n"
     ]
    },
    {
     "name": "stderr",
     "output_type": "stream",
     "text": [
      " 11%|█         | 1200/10845 [12:05<1:23:09,  1.93it/s]"
     ]
    },
    {
     "name": "stdout",
     "output_type": "stream",
     "text": [
      "epoch:1, idx:1199/10845, loss:1.7220050815989574, acc:0.5427083333333333\n"
     ]
    },
    {
     "name": "stderr",
     "output_type": "stream",
     "text": [
      " 12%|█▏        | 1300/10845 [13:08<1:39:10,  1.60it/s]"
     ]
    },
    {
     "name": "stdout",
     "output_type": "stream",
     "text": [
      "epoch:1, idx:1299/10845, loss:1.7260112381325319, acc:0.5432692307692307\n"
     ]
    },
    {
     "name": "stderr",
     "output_type": "stream",
     "text": [
      " 13%|█▎        | 1400/10845 [14:09<1:35:25,  1.65it/s]"
     ]
    },
    {
     "name": "stdout",
     "output_type": "stream",
     "text": [
      "epoch:1, idx:1399/10845, loss:1.72311439730227, acc:0.54375\n"
     ]
    },
    {
     "name": "stderr",
     "output_type": "stream",
     "text": [
      " 14%|█▍        | 1500/10845 [15:09<2:14:30,  1.16it/s]"
     ]
    },
    {
     "name": "stdout",
     "output_type": "stream",
     "text": [
      "epoch:1, idx:1499/10845, loss:1.7248426174620788, acc:0.543\n"
     ]
    },
    {
     "name": "stderr",
     "output_type": "stream",
     "text": [
      " 15%|█▍        | 1600/10845 [16:10<1:47:20,  1.44it/s]"
     ]
    },
    {
     "name": "stdout",
     "output_type": "stream",
     "text": [
      "epoch:1, idx:1599/10845, loss:1.7266835379693657, acc:0.54390625\n"
     ]
    },
    {
     "name": "stderr",
     "output_type": "stream",
     "text": [
      " 16%|█▌        | 1700/10845 [17:10<1:28:08,  1.73it/s]"
     ]
    },
    {
     "name": "stdout",
     "output_type": "stream",
     "text": [
      "epoch:1, idx:1699/10845, loss:1.7215924330932253, acc:0.545\n"
     ]
    },
    {
     "name": "stderr",
     "output_type": "stream",
     "text": [
      " 17%|█▋        | 1800/10845 [18:12<1:26:03,  1.75it/s]"
     ]
    },
    {
     "name": "stdout",
     "output_type": "stream",
     "text": [
      "epoch:1, idx:1799/10845, loss:1.7248831511951155, acc:0.5445833333333333\n"
     ]
    },
    {
     "name": "stderr",
     "output_type": "stream",
     "text": [
      " 18%|█▊        | 1900/10845 [19:10<1:19:41,  1.87it/s]"
     ]
    },
    {
     "name": "stdout",
     "output_type": "stream",
     "text": [
      "epoch:1, idx:1899/10845, loss:1.7280837834744076, acc:0.5444736842105263\n"
     ]
    },
    {
     "name": "stderr",
     "output_type": "stream",
     "text": [
      " 18%|█▊        | 2000/10845 [20:10<1:45:16,  1.40it/s]"
     ]
    },
    {
     "name": "stdout",
     "output_type": "stream",
     "text": [
      "epoch:1, idx:1999/10845, loss:1.7265507308468222, acc:0.54425\n"
     ]
    },
    {
     "name": "stderr",
     "output_type": "stream",
     "text": [
      " 19%|█▉        | 2100/10845 [21:09<1:40:42,  1.45it/s]"
     ]
    },
    {
     "name": "stdout",
     "output_type": "stream",
     "text": [
      "epoch:1, idx:2099/10845, loss:1.7236591964676267, acc:0.5448809523809524\n"
     ]
    },
    {
     "name": "stderr",
     "output_type": "stream",
     "text": [
      " 20%|██        | 2200/10845 [22:13<1:29:55,  1.60it/s]"
     ]
    },
    {
     "name": "stdout",
     "output_type": "stream",
     "text": [
      "epoch:1, idx:2199/10845, loss:1.7273123903233896, acc:0.5448863636363637\n"
     ]
    },
    {
     "name": "stderr",
     "output_type": "stream",
     "text": [
      " 21%|██        | 2300/10845 [23:13<1:33:31,  1.52it/s]"
     ]
    },
    {
     "name": "stdout",
     "output_type": "stream",
     "text": [
      "epoch:1, idx:2299/10845, loss:1.7253958266779132, acc:0.5453260869565217\n"
     ]
    },
    {
     "name": "stderr",
     "output_type": "stream",
     "text": [
      " 22%|██▏       | 2400/10845 [24:11<1:36:51,  1.45it/s]"
     ]
    },
    {
     "name": "stdout",
     "output_type": "stream",
     "text": [
      "epoch:1, idx:2399/10845, loss:1.7282506868305305, acc:0.5435416666666667\n"
     ]
    },
    {
     "name": "stderr",
     "output_type": "stream",
     "text": [
      " 23%|██▎       | 2500/10845 [25:10<1:47:18,  1.30it/s]"
     ]
    },
    {
     "name": "stdout",
     "output_type": "stream",
     "text": [
      "epoch:1, idx:2499/10845, loss:1.7308862277448178, acc:0.5426\n"
     ]
    },
    {
     "name": "stderr",
     "output_type": "stream",
     "text": [
      " 24%|██▍       | 2600/10845 [26:11<1:07:32,  2.03it/s]"
     ]
    },
    {
     "name": "stdout",
     "output_type": "stream",
     "text": [
      "epoch:1, idx:2599/10845, loss:1.7297656976546232, acc:0.5440384615384616\n"
     ]
    },
    {
     "name": "stderr",
     "output_type": "stream",
     "text": [
      " 25%|██▍       | 2700/10845 [27:09<1:12:29,  1.87it/s]"
     ]
    },
    {
     "name": "stdout",
     "output_type": "stream",
     "text": [
      "epoch:1, idx:2699/10845, loss:1.7316072344835158, acc:0.543425925925926\n"
     ]
    },
    {
     "name": "stderr",
     "output_type": "stream",
     "text": [
      " 26%|██▌       | 2800/10845 [28:10<1:29:41,  1.49it/s]"
     ]
    },
    {
     "name": "stdout",
     "output_type": "stream",
     "text": [
      "epoch:1, idx:2799/10845, loss:1.7324345372670462, acc:0.5435714285714286\n"
     ]
    },
    {
     "name": "stderr",
     "output_type": "stream",
     "text": [
      " 27%|██▋       | 2900/10845 [29:09<1:04:38,  2.05it/s]"
     ]
    },
    {
     "name": "stdout",
     "output_type": "stream",
     "text": [
      "epoch:1, idx:2899/10845, loss:1.7294947588906207, acc:0.5443103448275862\n"
     ]
    },
    {
     "name": "stderr",
     "output_type": "stream",
     "text": [
      " 28%|██▊       | 3000/10845 [30:12<1:23:26,  1.57it/s]"
     ]
    },
    {
     "name": "stdout",
     "output_type": "stream",
     "text": [
      "epoch:1, idx:2999/10845, loss:1.7311064419398705, acc:0.5438333333333333\n"
     ]
    },
    {
     "name": "stderr",
     "output_type": "stream",
     "text": [
      " 29%|██▊       | 3100/10845 [31:10<1:18:31,  1.64it/s]"
     ]
    },
    {
     "name": "stdout",
     "output_type": "stream",
     "text": [
      "epoch:1, idx:3099/10845, loss:1.7332800585175714, acc:0.5434677419354839\n"
     ]
    },
    {
     "name": "stderr",
     "output_type": "stream",
     "text": [
      " 30%|██▉       | 3200/10845 [32:12<1:12:52,  1.75it/s]"
     ]
    },
    {
     "name": "stdout",
     "output_type": "stream",
     "text": [
      "epoch:1, idx:3199/10845, loss:1.7329600097378717, acc:0.543203125\n"
     ]
    },
    {
     "name": "stderr",
     "output_type": "stream",
     "text": [
      " 30%|███       | 3300/10845 [33:15<1:19:12,  1.59it/s]"
     ]
    },
    {
     "name": "stdout",
     "output_type": "stream",
     "text": [
      "epoch:1, idx:3299/10845, loss:1.732973053125721, acc:0.5437121212121212\n"
     ]
    },
    {
     "name": "stderr",
     "output_type": "stream",
     "text": [
      " 31%|███▏      | 3400/10845 [34:16<58:42,  2.11it/s]  "
     ]
    },
    {
     "name": "stdout",
     "output_type": "stream",
     "text": [
      "epoch:1, idx:3399/10845, loss:1.7364405343243305, acc:0.5413235294117648\n"
     ]
    },
    {
     "name": "stderr",
     "output_type": "stream",
     "text": [
      " 32%|███▏      | 3500/10845 [35:13<1:10:46,  1.73it/s]"
     ]
    },
    {
     "name": "stdout",
     "output_type": "stream",
     "text": [
      "epoch:1, idx:3499/10845, loss:1.7383587622259344, acc:0.5415\n"
     ]
    },
    {
     "name": "stderr",
     "output_type": "stream",
     "text": [
      " 33%|███▎      | 3600/10845 [36:13<1:23:56,  1.44it/s]"
     ]
    },
    {
     "name": "stdout",
     "output_type": "stream",
     "text": [
      "epoch:1, idx:3599/10845, loss:1.7389145771621002, acc:0.5416666666666666\n"
     ]
    },
    {
     "name": "stderr",
     "output_type": "stream",
     "text": [
      " 34%|███▍      | 3700/10845 [37:09<1:22:18,  1.45it/s]"
     ]
    },
    {
     "name": "stdout",
     "output_type": "stream",
     "text": [
      "epoch:1, idx:3699/10845, loss:1.738304227449604, acc:0.5414189189189189\n"
     ]
    },
    {
     "name": "stderr",
     "output_type": "stream",
     "text": [
      " 35%|███▌      | 3800/10845 [38:06<58:52,  1.99it/s]  "
     ]
    },
    {
     "name": "stdout",
     "output_type": "stream",
     "text": [
      "epoch:1, idx:3799/10845, loss:1.7348752183153442, acc:0.5417763157894737\n"
     ]
    },
    {
     "name": "stderr",
     "output_type": "stream",
     "text": [
      " 36%|███▌      | 3900/10845 [39:03<57:24,  2.02it/s]  "
     ]
    },
    {
     "name": "stdout",
     "output_type": "stream",
     "text": [
      "epoch:1, idx:3899/10845, loss:1.7298047720736418, acc:0.5431410256410256\n"
     ]
    },
    {
     "name": "stderr",
     "output_type": "stream",
     "text": [
      " 37%|███▋      | 4000/10845 [40:02<1:16:53,  1.48it/s]"
     ]
    },
    {
     "name": "stdout",
     "output_type": "stream",
     "text": [
      "epoch:1, idx:3999/10845, loss:1.7305173481814564, acc:0.5428125\n"
     ]
    },
    {
     "name": "stderr",
     "output_type": "stream",
     "text": [
      " 38%|███▊      | 4100/10845 [41:03<1:14:14,  1.51it/s]"
     ]
    },
    {
     "name": "stdout",
     "output_type": "stream",
     "text": [
      "epoch:1, idx:4099/10845, loss:1.7320330925794636, acc:0.5422560975609756\n"
     ]
    },
    {
     "name": "stderr",
     "output_type": "stream",
     "text": [
      " 40%|███▉      | 4300/10845 [43:02<1:14:06,  1.47it/s]"
     ]
    },
    {
     "name": "stdout",
     "output_type": "stream",
     "text": [
      "epoch:1, idx:4299/10845, loss:1.7282253867699657, acc:0.5430813953488373\n"
     ]
    },
    {
     "name": "stderr",
     "output_type": "stream",
     "text": [
      " 41%|████      | 4400/10845 [43:59<1:01:43,  1.74it/s]"
     ]
    },
    {
     "name": "stdout",
     "output_type": "stream",
     "text": [
      "epoch:1, idx:4399/10845, loss:1.7257455086674203, acc:0.5434659090909091\n"
     ]
    },
    {
     "name": "stderr",
     "output_type": "stream",
     "text": [
      " 41%|████▏     | 4500/10845 [44:55<54:51,  1.93it/s]  "
     ]
    },
    {
     "name": "stdout",
     "output_type": "stream",
     "text": [
      "epoch:1, idx:4499/10845, loss:1.726587992982732, acc:0.5431111111111111\n"
     ]
    },
    {
     "name": "stderr",
     "output_type": "stream",
     "text": [
      " 42%|████▏     | 4600/10845 [45:53<1:10:48,  1.47it/s]"
     ]
    },
    {
     "name": "stdout",
     "output_type": "stream",
     "text": [
      "epoch:1, idx:4599/10845, loss:1.7249372605234385, acc:0.5433695652173913\n"
     ]
    },
    {
     "name": "stderr",
     "output_type": "stream",
     "text": [
      " 43%|████▎     | 4700/10845 [46:53<1:02:16,  1.64it/s]"
     ]
    },
    {
     "name": "stdout",
     "output_type": "stream",
     "text": [
      "epoch:1, idx:4699/10845, loss:1.7260930758651267, acc:0.543031914893617\n"
     ]
    },
    {
     "name": "stderr",
     "output_type": "stream",
     "text": [
      " 44%|████▍     | 4800/10845 [47:49<1:08:08,  1.48it/s]"
     ]
    },
    {
     "name": "stdout",
     "output_type": "stream",
     "text": [
      "epoch:1, idx:4799/10845, loss:1.7256438323296606, acc:0.5426041666666667\n"
     ]
    },
    {
     "name": "stderr",
     "output_type": "stream",
     "text": [
      " 45%|████▌     | 4900/10845 [48:47<50:29,  1.96it/s]  "
     ]
    },
    {
     "name": "stdout",
     "output_type": "stream",
     "text": [
      "epoch:1, idx:4899/10845, loss:1.7262358651173357, acc:0.5423979591836735\n"
     ]
    },
    {
     "name": "stderr",
     "output_type": "stream",
     "text": [
      " 46%|████▌     | 5000/10845 [49:50<1:04:44,  1.50it/s]"
     ]
    },
    {
     "name": "stdout",
     "output_type": "stream",
     "text": [
      "epoch:1, idx:4999/10845, loss:1.72781841340065, acc:0.5421\n"
     ]
    },
    {
     "name": "stderr",
     "output_type": "stream",
     "text": [
      " 47%|████▋     | 5100/10845 [50:47<58:13,  1.64it/s]  "
     ]
    },
    {
     "name": "stdout",
     "output_type": "stream",
     "text": [
      "epoch:1, idx:5099/10845, loss:1.7279972675851747, acc:0.5415686274509804\n"
     ]
    },
    {
     "name": "stderr",
     "output_type": "stream",
     "text": [
      " 48%|████▊     | 5200/10845 [51:47<51:16,  1.83it/s]  "
     ]
    },
    {
     "name": "stdout",
     "output_type": "stream",
     "text": [
      "epoch:1, idx:5199/10845, loss:1.7251745783938812, acc:0.5422115384615385\n"
     ]
    },
    {
     "name": "stderr",
     "output_type": "stream",
     "text": [
      " 49%|████▉     | 5300/10845 [52:48<46:50,  1.97it/s]  "
     ]
    },
    {
     "name": "stdout",
     "output_type": "stream",
     "text": [
      "epoch:1, idx:5299/10845, loss:1.7260940191880711, acc:0.5417924528301887\n"
     ]
    },
    {
     "name": "stderr",
     "output_type": "stream",
     "text": [
      " 50%|████▉     | 5400/10845 [53:52<57:48,  1.57it/s]  "
     ]
    },
    {
     "name": "stdout",
     "output_type": "stream",
     "text": [
      "epoch:1, idx:5399/10845, loss:1.7265049231769862, acc:0.5416666666666666\n"
     ]
    },
    {
     "name": "stderr",
     "output_type": "stream",
     "text": [
      " 51%|█████     | 5500/10845 [54:51<1:09:05,  1.29it/s]"
     ]
    },
    {
     "name": "stdout",
     "output_type": "stream",
     "text": [
      "epoch:1, idx:5499/10845, loss:1.724634905397892, acc:0.5421818181818182\n"
     ]
    },
    {
     "name": "stderr",
     "output_type": "stream",
     "text": [
      " 52%|█████▏    | 5600/10845 [55:56<1:10:09,  1.25it/s]"
     ]
    },
    {
     "name": "stdout",
     "output_type": "stream",
     "text": [
      "epoch:1, idx:5599/10845, loss:1.7260120240811792, acc:0.5415178571428572\n"
     ]
    },
    {
     "name": "stderr",
     "output_type": "stream",
     "text": [
      " 53%|█████▎    | 5700/10845 [56:56<57:34,  1.49it/s]  "
     ]
    },
    {
     "name": "stdout",
     "output_type": "stream",
     "text": [
      "epoch:1, idx:5699/10845, loss:1.7255042659112236, acc:0.5417543859649123\n"
     ]
    },
    {
     "name": "stderr",
     "output_type": "stream",
     "text": [
      " 53%|█████▎    | 5800/10845 [57:52<48:17,  1.74it/s]  "
     ]
    },
    {
     "name": "stdout",
     "output_type": "stream",
     "text": [
      "epoch:1, idx:5799/10845, loss:1.7258978182925233, acc:0.5416810344827586\n"
     ]
    },
    {
     "name": "stderr",
     "output_type": "stream",
     "text": [
      " 54%|█████▍    | 5900/10845 [58:51<50:41,  1.63it/s]  "
     ]
    },
    {
     "name": "stdout",
     "output_type": "stream",
     "text": [
      "epoch:1, idx:5899/10845, loss:1.7243424807791994, acc:0.5422033898305084\n"
     ]
    },
    {
     "name": "stderr",
     "output_type": "stream",
     "text": [
      " 55%|█████▌    | 6000/10845 [59:58<53:08,  1.52it/s]  "
     ]
    },
    {
     "name": "stdout",
     "output_type": "stream",
     "text": [
      "epoch:1, idx:5999/10845, loss:1.7265786679064234, acc:0.542125\n"
     ]
    },
    {
     "name": "stderr",
     "output_type": "stream",
     "text": [
      " 56%|█████▌    | 6100/10845 [1:01:03<51:52,  1.52it/s]  "
     ]
    },
    {
     "name": "stdout",
     "output_type": "stream",
     "text": [
      "epoch:1, idx:6099/10845, loss:1.7267551109561177, acc:0.5418852459016393\n"
     ]
    },
    {
     "name": "stderr",
     "output_type": "stream",
     "text": [
      " 57%|█████▋    | 6200/10845 [1:02:02<42:48,  1.81it/s]  "
     ]
    },
    {
     "name": "stdout",
     "output_type": "stream",
     "text": [
      "epoch:1, idx:6199/10845, loss:1.7271504300904852, acc:0.5419758064516129\n"
     ]
    },
    {
     "name": "stderr",
     "output_type": "stream",
     "text": [
      " 58%|█████▊    | 6300/10845 [1:03:01<53:38,  1.41it/s]"
     ]
    },
    {
     "name": "stdout",
     "output_type": "stream",
     "text": [
      "epoch:1, idx:6299/10845, loss:1.7263338939041373, acc:0.5418650793650793\n"
     ]
    },
    {
     "name": "stderr",
     "output_type": "stream",
     "text": [
      " 59%|█████▉    | 6400/10845 [1:04:00<39:51,  1.86it/s]  "
     ]
    },
    {
     "name": "stdout",
     "output_type": "stream",
     "text": [
      "epoch:1, idx:6399/10845, loss:1.7264993261056951, acc:0.5416796875\n"
     ]
    },
    {
     "name": "stderr",
     "output_type": "stream",
     "text": [
      " 60%|█████▉    | 6500/10845 [1:05:00<39:43,  1.82it/s]  "
     ]
    },
    {
     "name": "stdout",
     "output_type": "stream",
     "text": [
      "epoch:1, idx:6499/10845, loss:1.7252365375780143, acc:0.542\n"
     ]
    },
    {
     "name": "stderr",
     "output_type": "stream",
     "text": [
      " 61%|██████    | 6600/10845 [1:06:02<45:59,  1.54it/s]  "
     ]
    },
    {
     "name": "stdout",
     "output_type": "stream",
     "text": [
      "epoch:1, idx:6599/10845, loss:1.7227091786287951, acc:0.5427272727272727\n"
     ]
    },
    {
     "name": "stderr",
     "output_type": "stream",
     "text": [
      " 62%|██████▏   | 6700/10845 [1:07:01<43:01,  1.61it/s]"
     ]
    },
    {
     "name": "stdout",
     "output_type": "stream",
     "text": [
      "epoch:1, idx:6699/10845, loss:1.7231703815064323, acc:0.5426865671641791\n"
     ]
    },
    {
     "name": "stderr",
     "output_type": "stream",
     "text": [
      " 63%|██████▎   | 6800/10845 [1:08:03<35:17,  1.91it/s]  "
     ]
    },
    {
     "name": "stdout",
     "output_type": "stream",
     "text": [
      "epoch:1, idx:6799/10845, loss:1.7224613710602417, acc:0.5430882352941176\n"
     ]
    },
    {
     "name": "stderr",
     "output_type": "stream",
     "text": [
      " 64%|██████▎   | 6900/10845 [1:09:01<39:09,  1.68it/s]"
     ]
    },
    {
     "name": "stdout",
     "output_type": "stream",
     "text": [
      "epoch:1, idx:6899/10845, loss:1.722850740282, acc:0.5427536231884058\n"
     ]
    },
    {
     "name": "stderr",
     "output_type": "stream",
     "text": [
      " 65%|██████▍   | 7000/10845 [1:10:04<43:08,  1.49it/s]"
     ]
    },
    {
     "name": "stdout",
     "output_type": "stream",
     "text": [
      "epoch:1, idx:6999/10845, loss:1.722363219152604, acc:0.5428928571428572\n"
     ]
    },
    {
     "name": "stderr",
     "output_type": "stream",
     "text": [
      " 65%|██████▌   | 7100/10845 [1:11:04<35:44,  1.75it/s]  "
     ]
    },
    {
     "name": "stdout",
     "output_type": "stream",
     "text": [
      "epoch:1, idx:7099/10845, loss:1.7211455613227797, acc:0.5434859154929578\n"
     ]
    },
    {
     "name": "stderr",
     "output_type": "stream",
     "text": [
      " 66%|██████▋   | 7200/10845 [1:12:03<35:59,  1.69it/s]"
     ]
    },
    {
     "name": "stdout",
     "output_type": "stream",
     "text": [
      "epoch:1, idx:7199/10845, loss:1.72111616578574, acc:0.5439236111111111\n"
     ]
    },
    {
     "name": "stderr",
     "output_type": "stream",
     "text": [
      " 67%|██████▋   | 7243/10845 [1:12:30<37:30,  1.60it/s]IOPub message rate exceeded.\n",
      "The notebook server will temporarily stop sending output\n",
      "to the client in order to avoid crashing it.\n",
      "To change this limit, set the config variable\n",
      "`--NotebookApp.iopub_msg_rate_limit`.\n",
      "\n",
      "Current values:\n",
      "NotebookApp.iopub_msg_rate_limit=1000.0 (msgs/sec)\n",
      "NotebookApp.rate_limit_window=3.0 (secs)\n",
      "\n",
      " 96%|█████████▌| 10400/10845 [1:43:50<04:59,  1.49it/s]"
     ]
    },
    {
     "name": "stdout",
     "output_type": "stream",
     "text": [
      "epoch:1, idx:10399/10845, loss:1.7032602607372862, acc:0.5488221153846153\n"
     ]
    },
    {
     "name": "stderr",
     "output_type": "stream",
     "text": [
      " 97%|█████████▋| 10500/10845 [1:44:50<03:52,  1.48it/s]"
     ]
    },
    {
     "name": "stdout",
     "output_type": "stream",
     "text": [
      "epoch:1, idx:10499/10845, loss:1.7031744786387397, acc:0.5488571428571428\n"
     ]
    },
    {
     "name": "stderr",
     "output_type": "stream",
     "text": [
      " 98%|█████████▊| 10600/10845 [1:45:52<02:59,  1.37it/s]"
     ]
    },
    {
     "name": "stdout",
     "output_type": "stream",
     "text": [
      "epoch:1, idx:10599/10845, loss:1.703335246966695, acc:0.5487971698113208\n"
     ]
    },
    {
     "name": "stderr",
     "output_type": "stream",
     "text": [
      " 99%|█████████▊| 10700/10845 [1:46:51<01:37,  1.49it/s]"
     ]
    },
    {
     "name": "stdout",
     "output_type": "stream",
     "text": [
      "epoch:1, idx:10699/10845, loss:1.7033808979726284, acc:0.5485981308411215\n"
     ]
    },
    {
     "name": "stderr",
     "output_type": "stream",
     "text": [
      "100%|█████████▉| 10800/10845 [1:47:51<00:27,  1.63it/s]"
     ]
    },
    {
     "name": "stdout",
     "output_type": "stream",
     "text": [
      "epoch:1, idx:10799/10845, loss:1.704900074871602, acc:0.5485648148148148\n"
     ]
    },
    {
     "name": "stderr",
     "output_type": "stream",
     "text": [
      "100%|██████████| 10845/10845 [1:48:16<00:00,  2.55it/s]\n"
     ]
    },
    {
     "name": "stdout",
     "output_type": "stream",
     "text": [
      "epoch:1, idx:0/1275, loss:1.2758736610412598, acc:0.5\n",
      "epoch:1, idx:100/1275, loss:1.6536215602761448, acc:0.5717821782178217\n",
      "epoch:1, idx:200/1275, loss:1.5987262997164655, acc:0.568407960199005\n",
      "epoch:1, idx:300/1275, loss:1.5883581433383334, acc:0.5681063122923588\n",
      "epoch:1, idx:400/1275, loss:1.5862848625664698, acc:0.5704488778054863\n",
      "epoch:1, idx:500/1275, loss:1.5864739381148667, acc:0.5708582834331337\n",
      "epoch:1, idx:600/1275, loss:1.5917361690081693, acc:0.5682196339434277\n",
      "epoch:1, idx:700/1275, loss:1.5813205777833532, acc:0.572039942938659\n",
      "epoch:1, idx:800/1275, loss:1.597754700576768, acc:0.5624219725343321\n",
      "epoch:1, idx:900/1275, loss:1.5954834112316603, acc:0.5635405105438401\n",
      "epoch:1, idx:1000/1275, loss:1.608658006260326, acc:0.560939060939061\n",
      "epoch:1, idx:1100/1275, loss:1.6022305364071727, acc:0.5626702997275205\n",
      "epoch:1, idx:1200/1275, loss:1.603012339211225, acc:0.5624479600333055\n"
     ]
    },
    {
     "name": "stderr",
     "output_type": "stream",
     "text": [
      "  1%|          | 100/10845 [00:54<1:35:18,  1.88it/s]"
     ]
    },
    {
     "name": "stdout",
     "output_type": "stream",
     "text": [
      "epoch:2, idx:99/10845, loss:1.627691715657711, acc:0.585\n"
     ]
    },
    {
     "name": "stderr",
     "output_type": "stream",
     "text": [
      "  2%|▏         | 200/10845 [01:56<1:28:24,  2.01it/s]"
     ]
    },
    {
     "name": "stdout",
     "output_type": "stream",
     "text": [
      "epoch:2, idx:199/10845, loss:1.5700693368911742, acc:0.60625\n"
     ]
    },
    {
     "name": "stderr",
     "output_type": "stream",
     "text": [
      "  3%|▎         | 300/10845 [02:59<2:07:51,  1.37it/s]"
     ]
    },
    {
     "name": "stdout",
     "output_type": "stream",
     "text": [
      "epoch:2, idx:299/10845, loss:1.554404634932677, acc:0.6025\n"
     ]
    },
    {
     "name": "stderr",
     "output_type": "stream",
     "text": [
      "  4%|▎         | 400/10845 [03:55<1:39:09,  1.76it/s]"
     ]
    },
    {
     "name": "stdout",
     "output_type": "stream",
     "text": [
      "epoch:2, idx:399/10845, loss:1.54267543528229, acc:0.601875\n"
     ]
    },
    {
     "name": "stderr",
     "output_type": "stream",
     "text": [
      "  5%|▍         | 500/10845 [04:58<2:09:37,  1.33it/s]"
     ]
    },
    {
     "name": "stdout",
     "output_type": "stream",
     "text": [
      "epoch:2, idx:499/10845, loss:1.5834038315713406, acc:0.594\n"
     ]
    },
    {
     "name": "stderr",
     "output_type": "stream",
     "text": [
      "  6%|▌         | 600/10845 [05:58<1:55:03,  1.48it/s]"
     ]
    },
    {
     "name": "stdout",
     "output_type": "stream",
     "text": [
      "epoch:2, idx:599/10845, loss:1.5806845682611068, acc:0.59\n"
     ]
    },
    {
     "name": "stderr",
     "output_type": "stream",
     "text": [
      "  6%|▋         | 700/10845 [06:55<1:31:06,  1.86it/s]"
     ]
    },
    {
     "name": "stdout",
     "output_type": "stream",
     "text": [
      "epoch:2, idx:699/10845, loss:1.5622436601136411, acc:0.595\n"
     ]
    },
    {
     "name": "stderr",
     "output_type": "stream",
     "text": [
      "  7%|▋         | 800/10845 [07:57<1:41:10,  1.65it/s]"
     ]
    },
    {
     "name": "stdout",
     "output_type": "stream",
     "text": [
      "epoch:2, idx:799/10845, loss:1.565002490207553, acc:0.595\n"
     ]
    },
    {
     "name": "stderr",
     "output_type": "stream",
     "text": [
      "  8%|▊         | 900/10845 [08:57<1:49:30,  1.51it/s]"
     ]
    },
    {
     "name": "stdout",
     "output_type": "stream",
     "text": [
      "epoch:2, idx:899/10845, loss:1.5713239905238152, acc:0.5925\n"
     ]
    },
    {
     "name": "stderr",
     "output_type": "stream",
     "text": [
      "  9%|▉         | 1000/10845 [10:00<1:31:02,  1.80it/s]"
     ]
    },
    {
     "name": "stdout",
     "output_type": "stream",
     "text": [
      "epoch:2, idx:999/10845, loss:1.5715386326909064, acc:0.59225\n"
     ]
    },
    {
     "name": "stderr",
     "output_type": "stream",
     "text": [
      "  9%|▉         | 1020/10845 [10:11<1:39:25,  1.65it/s]"
     ]
    }
   ],
   "source": [
    "if not os.path.exists(config.save_path):\n",
    "    os.makedirs(config.save_path)\n",
    "writer = SummaryWriter(config.save_path)\n",
    "\n",
    "best_acc = 0.0\n",
    "for i in range(cycle_len):\n",
    "    optimizer = torch.optim.Adam(params=filter(lambda p: p.requires_grad, model.parameters()),\n",
    "                             lr=config.lr)\n",
    "    scheduler = torch.optim.lr_scheduler.CosineAnnealingLR(optimizer, T_max=cycle_iter)\n",
    "    for epoch in range(cycle_iter):\n",
    "        scheduler.step()\n",
    "        train_loss, train_acc = train(epoch, train_iter, model, criterion, criterion_bce, optimizer, \n",
    "                                         1)\n",
    "        val_loss, val_acc = val(epoch, val_iter, model, criterion, criterion_bce)\n",
    "        global_epoch = cycle_iter * i + epoch + 1\n",
    "        writer.add_scalar('train_loss', train_loss, global_epoch)\n",
    "        writer.add_scalar('val_loss', val_loss, global_epoch)\n",
    "        writer.add_scalar('train_acc', train_acc, global_epoch)\n",
    "        writer.add_scalar('val_acc', val_acc, global_epoch)\n",
    "\n",
    "        state = {\n",
    "            'val_acc': val_acc,\n",
    "            'train_acc': train_acc,\n",
    "            'epoch': epoch,\n",
    "            'model': model.state_dict()\n",
    "        }\n",
    "        torch.save(state, os.path.join(config.save_path,'lastest.pth'))\n",
    "        if val_acc > best_acc:\n",
    "            best_acc = val_acc\n",
    "            torch.save(state, os.path.join(save_path, f'best_epoch{epoch}.pth'))"
   ]
  },
  {
   "cell_type": "code",
   "execution_count": null,
   "metadata": {},
   "outputs": [],
   "source": []
  }
 ],
 "metadata": {
  "kernelspec": {
   "display_name": "Python 3",
   "language": "python",
   "name": "python3"
  },
  "language_info": {
   "codemirror_mode": {
    "name": "ipython",
    "version": 3
   },
   "file_extension": ".py",
   "mimetype": "text/x-python",
   "name": "python",
   "nbconvert_exporter": "python",
   "pygments_lexer": "ipython3",
   "version": "3.7.2"
  }
 },
 "nbformat": 4,
 "nbformat_minor": 2
}
