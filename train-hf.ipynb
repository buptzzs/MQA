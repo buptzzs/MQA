{
 "cells": [
  {
   "cell_type": "markdown",
   "metadata": {},
   "source": [
    "### 当前实验模型内容\n",
    "\n",
    "1. CFC without mentions"
   ]
  },
  {
   "cell_type": "code",
   "execution_count": null,
   "metadata": {
    "ExecuteTime": {
     "end_time": "2019-03-04T07:16:14.738423Z",
     "start_time": "2019-03-04T07:16:13.073626Z"
    }
   },
   "outputs": [],
   "source": [
    "import os\n",
    "import torch\n",
    "import torch.nn as nn\n",
    "import torchtext\n",
    "from tensorboardX import SummaryWriter\n",
    "import random\n",
    "import numpy as np\n",
    "\n",
    "from torchtext.data import NestedField, Field, RawField\n",
    "from model import BiAttention, EncoderRNN, SelfAttention, EmbeddingLayer, GateLayer, CoAttention, FusionLayer, PoolingLayer\n",
    "from dataset import DataHandler\n",
    "%load_ext autoreload\n",
    "\n",
    "%autoreload 2\n",
    "os.environ[\"CUDA_VISIBLE_DEVICES\"] = '1'"
   ]
  },
  {
   "cell_type": "code",
   "execution_count": null,
   "metadata": {
    "ExecuteTime": {
     "end_time": "2019-03-04T07:16:23.597617Z",
     "start_time": "2019-03-04T07:16:23.532028Z"
    },
    "collapsed": true
   },
   "outputs": [],
   "source": [
    "class Config:\n",
    "    def __init__(self):\n",
    "        self.hidden = 50\n",
    "        self.embedding_dim = 300 + 100\n",
    "        self.lr = 1e-3\n",
    "        self.epochs = 30\n",
    "        self.fix_length = None\n",
    "        \n",
    "        self.log_dir = './logs'\n",
    "        self.model_name = 'CFC'\n",
    "        self.batch_size = 4\n",
    "        self.train_data = './data/train_example.pt'\n",
    "        self.dev_data = './data/dev_example.pt'\n",
    "        \n",
    "        self.word_vocab = './data/glove_vocab.pt'\n",
    "        self.charNGram_vocab = './data/charNGram_vocab.pt'\n",
    "        \n",
    "        self.dropout = 0.2\n",
    "        self.seed = 1023\n",
    "        \n",
    "config = Config()\n",
    "device = torch.device(\"cuda:0\")\n"
   ]
  },
  {
   "cell_type": "code",
   "execution_count": null,
   "metadata": {
    "ExecuteTime": {
     "end_time": "2019-03-04T07:16:24.526877Z",
     "start_time": "2019-03-04T07:16:24.487841Z"
    },
    "collapsed": true
   },
   "outputs": [],
   "source": [
    "random.seed(config.seed)\n",
    "np.random.seed(config.seed)\n",
    "torch.manual_seed(config.seed)\n",
    "torch.cuda.manual_seed_all(config.seed)"
   ]
  },
  {
   "cell_type": "code",
   "execution_count": null,
   "metadata": {
    "ExecuteTime": {
     "end_time": "2019-03-04T07:16:25.585377Z",
     "start_time": "2019-03-04T07:16:25.543798Z"
    }
   },
   "outputs": [],
   "source": [
    "save_path = config.model_name + '_epochs_'+str(config.epochs) + '_lr_'+ str(config.lr)+ \\\n",
    "            '_batchsize_' + str(config.batch_size) + '_fixlength_' + str(config.fix_length) +  '_p'+ str(config.dropout)\n",
    "save_path = os.path.join(config.log_dir, save_path)   \n",
    "print(save_path)\n",
    "config.save_path = save_path"
   ]
  },
  {
   "cell_type": "markdown",
   "metadata": {},
   "source": [
    "### Define Fileds"
   ]
  },
  {
   "cell_type": "code",
   "execution_count": null,
   "metadata": {
    "ExecuteTime": {
     "end_time": "2019-03-04T07:16:32.219935Z",
     "start_time": "2019-03-04T07:16:27.620738Z"
    },
    "collapsed": true
   },
   "outputs": [],
   "source": [
    "word_field = Field(batch_first=True, sequential=True, tokenize=\"spacy\", lower=True) # query\n",
    "multi_word_field = NestedField(word_field) \n",
    "\n",
    "word_field_sup = Field(batch_first=True, sequential=True, tokenize=\"spacy\", lower=True, fix_length=config.fix_length)\n",
    "multi_word_field_sup = NestedField(word_field_sup) \n",
    "\n",
    "charNGram_field = Field(batch_first=True, sequential=True, tokenize=\"spacy\", lower=True) # query\n",
    "multi_charNGram_field = NestedField(charNGram_field) \n",
    "\n",
    "charNGram_field_sup = Field(batch_first=True, sequential=True, tokenize=\"spacy\", lower=True, fix_length=config.fix_length)\n",
    "multi_charNGram_field_sup = NestedField(charNGram_field_sup) \n",
    "\n",
    "raw = RawField()\n",
    "raw.is_target = False\n",
    "\n",
    "label_field = Field(sequential=False, is_target=True, use_vocab=False)\n",
    "\n",
    "dict_field = {\n",
    "    'id': ('id', raw),\n",
    "    'supports': [('s_glove', multi_word_field_sup), ('s_charNGram', multi_charNGram_field_sup)],\n",
    "    'query': [('q_glove', word_field), ('q_charNGram', charNGram_field)],\n",
    "    'candidates': [('c_glove', multi_word_field), ('c_charNGram', multi_charNGram_field)],\n",
    "    'label': ('label', label_field),\n",
    "    'mentions': ('mentions', raw),\n",
    "    'para_label': ('para_label', raw)\n",
    "}"
   ]
  },
  {
   "cell_type": "code",
   "execution_count": null,
   "metadata": {
    "ExecuteTime": {
     "end_time": "2019-03-04T07:17:36.156332Z",
     "start_time": "2019-03-04T07:16:32.223260Z"
    }
   },
   "outputs": [],
   "source": [
    "#data_handler = DataHandler(config.train_data, config.dev_data, dict_field)\n",
    "data_handler = DataHandler('./data/train_filter.pt', './data/dev_filter.pt', dict_field)\n",
    "\n",
    "# torch.save(data_handler.trainset.examples, './data/train_example.pt')\n",
    "# torch.save(data_handler.valset.examples, './data/dev_example.pt')"
   ]
  },
  {
   "cell_type": "code",
   "execution_count": null,
   "metadata": {
    "ExecuteTime": {
     "end_time": "2019-02-26T15:18:39.255483Z",
     "start_time": "2019-02-26T15:18:39.141811Z"
    },
    "collapsed": true
   },
   "outputs": [],
   "source": [
    "from tqdm import tqdm\n",
    "\n",
    "def add_mentions(examples):\n",
    "\n",
    "    for example in tqdm(examples):\n",
    "        candidates = example.c_glove\n",
    "        supports = example.s_glove\n",
    "\n",
    "\n",
    "        all_mentions = []\n",
    "\n",
    "        for candidate in candidates:\n",
    "            mentions = []\n",
    "            c = ' '.join(candidate)\n",
    "            for idx, support in enumerate(supports):\n",
    "\n",
    "                for i in range(len(support)):\n",
    "                    token = support[i]\n",
    "                    if token == candidate[0]:\n",
    "                        s = ' '.join(support[i:i+len(candidate)])\n",
    "                        if s == c:\n",
    "                            mentions.append([idx, i, i+len(candidate)])\n",
    "            all_mentions.append(mentions)\n",
    "            \n",
    "        example.mentions = all_mentions\n",
    "        \n",
    "def add_para_label(examples):\n",
    "    filter_examples=  []\n",
    "    for example in tqdm(examples):\n",
    "        candidates = example.c_glove\n",
    "        supports = example.s_glove    \n",
    "\n",
    "        label = example.label\n",
    "        mentions = example.mentions\n",
    "        answser_mentions = mentions[label]\n",
    "        if len(answser_mentions) != 0:\n",
    "            para_label = [0]*len(supports)\n",
    "            for mentions in answser_mentions:\n",
    "                para_label[mentions[0]] = 1\n",
    "            example.para_label = para_label\n",
    "            filter_examples.append(example)\n",
    "    print(f'before filter: {len(examples)}, after:{len(filter_examples)}')\n",
    "    return filter_examples\n",
    "\n",
    "#add_mentions(data_handler.valset.examples)\n",
    "#add_mentions(data_handler.trainset.examples)\n",
    "\n",
    "#train_filter_examples  = add_para_label(data_handler.trainset.examples)\n",
    "#dev_filter_examples  = add_para_label(data_handler.valset.examples)\n",
    "\n",
    "#torch.save(train_filter_examples, './data/train_filter.pt')\n",
    "#torch.save(dev_filter_examples, './data/dev_filter.pt')        "
   ]
  },
  {
   "cell_type": "markdown",
   "metadata": {},
   "source": [
    "### Build Vocab"
   ]
  },
  {
   "cell_type": "code",
   "execution_count": null,
   "metadata": {
    "ExecuteTime": {
     "end_time": "2019-03-04T07:17:37.602901Z",
     "start_time": "2019-03-04T07:17:36.159684Z"
    },
    "collapsed": true
   },
   "outputs": [],
   "source": [
    "if config.charNGram_vocab is not None:\n",
    "    charNGram_vocab = torch.load(config.charNGram_vocab)\n",
    "    charNGram_field_sup.vocab = charNGram_vocab\n",
    "else:\n",
    "    charNGram_field_sup.build_vocab(data_handler.trainset, data_handler.valset, \n",
    "                                          vectors=torchtext.vocab.CharNGram())\n",
    "\n",
    "if config.word_vocab is not None:\n",
    "    word_vocab = torch.load(config.word_vocab)\n",
    "    word_field_sup.vocab = word_vocab\n",
    "else:\n",
    "    word_field_sup.build_vocab(data_handler.trainset, data_handler.valset, \n",
    "                                 vectors=torchtext.vocab.GloVe(dim=300,name='6B') )\n",
    "\n",
    "word_field.vocab = word_field_sup.vocab\n",
    "charNGram_field.vocab = charNGram_field_sup.vocab\n",
    "\n",
    "# torch.save(word_field.vocab, './data/glove_vocab.pt')\n",
    "# torch.save(charNGram_field.vocab, './data/charNGram_vocab.pt')"
   ]
  },
  {
   "cell_type": "markdown",
   "metadata": {},
   "source": [
    "### Get data_iter"
   ]
  },
  {
   "cell_type": "code",
   "execution_count": null,
   "metadata": {
    "ExecuteTime": {
     "end_time": "2019-03-04T07:17:37.640077Z",
     "start_time": "2019-03-04T07:17:37.606254Z"
    },
    "collapsed": true
   },
   "outputs": [],
   "source": [
    "train_iter = data_handler.get_train_iter(batch_size=config.batch_size)\n",
    "val_iter = data_handler.get_val_iter(batch_size=config.batch_size)"
   ]
  },
  {
   "cell_type": "code",
   "execution_count": null,
   "metadata": {
    "ExecuteTime": {
     "end_time": "2019-03-04T07:18:11.812531Z",
     "start_time": "2019-03-04T07:17:37.643178Z"
    }
   },
   "outputs": [],
   "source": [
    "for idx, batch in enumerate(val_iter):\n",
    "    pass\n",
    "batch"
   ]
  },
  {
   "cell_type": "markdown",
   "metadata": {},
   "source": [
    "### Define Model"
   ]
  },
  {
   "cell_type": "code",
   "execution_count": null,
   "metadata": {
    "ExecuteTime": {
     "end_time": "2019-03-04T07:18:12.674210Z",
     "start_time": "2019-03-04T07:18:11.815761Z"
    },
    "collapsed": true
   },
   "outputs": [],
   "source": [
    "class SimpleQANet(nn.Module):\n",
    "    \n",
    "    def __init__(self, config, word_vectors, charNGram_vectors, device):\n",
    "        super(SimpleQANet, self).__init__()\n",
    "        self.config = config\n",
    "        self.device = device\n",
    "        \n",
    "        self.embedding_layer = EmbeddingLayer(word_vectors, charNGram_vectors)\n",
    "        \n",
    "\n",
    "        self.rnn = EncoderRNN(config.embedding_dim, config.hidden, 1, True, True, config.dropout, False)\n",
    "                \n",
    "            \n",
    "        self.co_att = CoAttention(config.hidden*2, att_type=2, dropout=config.dropout)\n",
    "        \n",
    "        self.linear_1 = nn.Sequential(\n",
    "                        nn.Linear(config.hidden*4, config.hidden),\n",
    "                        nn.ReLU()\n",
    "                    )        \n",
    "        self.rnn2 =  EncoderRNN(config.hidden, config.hidden, 1, True, True, config.dropout, False)\n",
    "        \n",
    "        self.word_att = SelfAttention(config.hidden*2, config.hidden*2, config.dropout)\n",
    "        \n",
    "        self.pass_att = SelfAttention(config.hidden*2, config.hidden*2, config.dropout)\n",
    "        \n",
    "        self.c_att = SelfAttention(config.hidden*2, config.hidden*2, config.dropout)\n",
    "        \n",
    "        # self.mention_att = SelfAttention(config.hidden*2, config.hidden*2, config.dropout)\n",
    "        \n",
    "        \n",
    "        #self.fusion = FusionLayer(config.hidden*2, dropout=config.dropout)\n",
    "        self.max_pooling = PoolingLayer()     \n",
    "        \n",
    "        self.fc = nn.Linear(config.hidden*2, config.hidden*2)\n",
    "        \n",
    "        self.to(device)\n",
    "        \n",
    "    def forward(self, batch, return_label = True):\n",
    "        if type(batch.q_glove) is tuple:\n",
    "            q_glove, _ = batch.q_glove\n",
    "            q_charNGram, _ = batch.q_charNGram\n",
    "        else:\n",
    "            q_glove = batch.q_glove\n",
    "            q_charNGram = batch.q_charNGram            \n",
    "        \n",
    "        s_glove = batch.s_glove\n",
    "        s_charNGram = batch.s_charNGram\n",
    "        \n",
    "        c_glove = batch.c_glove\n",
    "        c_charNGram = batch.c_charNGram\n",
    "        \n",
    "        q_glove = q_glove.to(self.device)\n",
    "        q_charNGram = q_charNGram.to(self.device)\n",
    "\n",
    "        s_glove = s_glove.to(self.device)\n",
    "        s_charNGram = s_charNGram.to(self.device)\n",
    "\n",
    "        c_glove = c_glove.to(self.device)\n",
    "        c_charNGram = c_charNGram.to(self.device)\n",
    "        \n",
    "\n",
    "        \n",
    "        q_out = self.embedding_layer(q_glove, q_charNGram)\n",
    "        s_out = self.embedding_layer(s_glove, s_charNGram,)\n",
    "        c_out = self.embedding_layer(c_glove, c_charNGram)\n",
    "        \n",
    "        batch_size=  s_out.size(0)\n",
    "        \n",
    "        s_len = s_out.size(1)\n",
    "        c_len = c_out.size(1)\n",
    "        \n",
    "        s_word_len = s_out.size(2)\n",
    "        c_word_len = c_out.size(2)\n",
    "        \n",
    "        hidden = s_out.size(-1)\n",
    "        \n",
    "        s_out = s_out.view(batch_size*s_len, s_word_len, hidden).contiguous()\n",
    "        c_out = c_out.view(batch_size*c_len, c_word_len, hidden).contiguous()\n",
    "        \n",
    "        q_out = self.rnn(q_out)\n",
    "        c_out = self.rnn(c_out)\n",
    "        s_out = self.rnn(s_out)\n",
    "        \n",
    "        q_word_len = q_out.size(1)\n",
    "        q_out = q_out.unsqueeze(1).expand(batch_size, s_len, q_word_len, q_out.size(-1)).contiguous()\n",
    "        q_out = q_out.view(batch_size*s_len, q_word_len, q_out.size(-1)).contiguous()\n",
    "        # Co-attention \n",
    "        \n",
    "        s_out_att, q_out_att = self.co_att(s_out, q_out)\n",
    "        #S_s = self.fusion(s_out, s_out_att)\n",
    "        #S_q = self.fusion(q_out, q_out_att)\n",
    "        \n",
    "        S_s = self.linear_1(s_out_att)\n",
    "        S_s = self.rnn2(S_s)\n",
    "        \n",
    "        '''\n",
    "        batch_c_m = []\n",
    "        for i in range(batch_size):\n",
    "            # get mention embedding\n",
    "            mentions = batch.mentions[i]\n",
    "            c_ms = torch.zeros(c_len, s_len, s_out.size(-1))\n",
    "            for idx, c_mention in enumerate(mentions):\n",
    "                c_m_dict = {}\n",
    "                for mention in c_mention:\n",
    "                    m = s_out[i*s_len + mention[0]][mention[1]:mention[2]]\n",
    "                    m = self.max_pooling(m.unsqueeze(0)).squeeze()\n",
    "                    if mention[0] not in c_m_dict:\n",
    "                        c_m_dict[mention[0]] = []\n",
    "                    c_m_dict[mention[0]].append(m)\n",
    "                c_m = torch.zeros(s_len, s_out.size(-1))\n",
    "                for key in c_m_dict:\n",
    "                    for m in c_m_dict[key]:\n",
    "                        c_m[key] += m.cpu()\n",
    "                    c_m[key] /= len(c_m_dict[key])\n",
    "                c_ms[idx] = c_m\n",
    "            batch_c_m.append(c_ms)\n",
    "        batch_c_m = torch.stack(batch_c_m)\n",
    "        batch_c_m = batch_c_m.to(self.device)\n",
    "        batch_c_m = batch_c_m.view(batch_size*c_len, s_len, -1)\n",
    "        batch_c_m = self.mention_att(batch_c_m)\n",
    "        batch_c_m = batch_c_m.view(batch_size, c_len, -1)\n",
    "        print(batch_c_m.shape)\n",
    "        '''\n",
    "\n",
    "        \n",
    "        C_s = self.word_att(S_s)\n",
    "        \n",
    "        C_s = C_s.view(batch_size, s_len, -1)\n",
    "        \n",
    "        C_s = self.pass_att(C_s) \n",
    "\n",
    "        C_c = self.c_att(c_out)        \n",
    "        C_c = C_c.view(batch_size, c_len, -1)\n",
    "        \n",
    "\n",
    "        C_s = torch.tanh(self.fc(C_s))\n",
    "        \n",
    "        score = torch.bmm(C_c, C_s.unsqueeze(-1))\n",
    "        score = score.squeeze(-1)\n",
    "        \n",
    "        if return_label:\n",
    "            label = batch.label.to(self.device)\n",
    "            return score, label\n",
    "        return score"
   ]
  },
  {
   "cell_type": "markdown",
   "metadata": {},
   "source": [
    "#### test model"
   ]
  },
  {
   "cell_type": "code",
   "execution_count": null,
   "metadata": {
    "ExecuteTime": {
     "end_time": "2019-03-04T07:18:18.635374Z",
     "start_time": "2019-03-04T07:18:12.677623Z"
    },
    "collapsed": true
   },
   "outputs": [],
   "source": [
    "model = SimpleQANet(config, word_field.vocab.vectors, charNGram_field.vocab.vectors, device)\n",
    "#score, label = model(batch)\n",
    "#print(score, label)"
   ]
  },
  {
   "cell_type": "code",
   "execution_count": null,
   "metadata": {
    "ExecuteTime": {
     "end_time": "2019-03-04T07:18:26.952202Z",
     "start_time": "2019-03-04T07:18:26.804617Z"
    },
    "collapsed": true
   },
   "outputs": [],
   "source": [
    "from utils import AverageMeter\n",
    "\n",
    "def train(epoch, data_iter, model, criterion, optimizer, batch_size=1):\n",
    "    losses = AverageMeter()\n",
    "    acces = AverageMeter()\n",
    "    model.train()\n",
    "    #model.embedding_layer.eval()\n",
    "    for idx, batch in enumerate(data_iter):\n",
    "        score, label = model(batch)\n",
    "        \n",
    "        loss = criterion(score, label)\n",
    "\n",
    "        loss = loss / batch_size\n",
    "        loss.backward()\n",
    "        if (idx+1)%batch_size == 0 :\n",
    "            torch.nn.utils.clip_grad_norm_(model.parameters(), 5)            \n",
    "            optimizer.step()\n",
    "            optimizer.zero_grad()        \n",
    "\n",
    "        losses.update(loss.item()*batch_size)\n",
    "        \n",
    "        pred = score.argmax(1)\n",
    "        acc = pred.eq(label).sum().item() / pred.size(0)\n",
    "        acces.update(acc)\n",
    "        if (idx+1) % (batch_size*100) == 0:\n",
    "            print(f'epoch:{epoch}, idx:{idx}/{len(data_iter)}, loss:{losses.avg}, acc:{acces.avg}')\n",
    "    return losses.avg, acces.avg\n",
    "\n",
    "def val(epoch, data_iter, model, criterion):\n",
    "    losses = AverageMeter()\n",
    "    acces = AverageMeter()\n",
    "    model.eval()\n",
    "    for idx, batch in enumerate(data_iter):\n",
    "        with torch.no_grad():\n",
    "            score, label = model(batch)\n",
    "                    \n",
    "        loss = criterion(score, label)\n",
    "        losses.update(loss.item())\n",
    "        \n",
    "        pred = score.argmax(1)\n",
    "        acc = pred.eq(label).sum().item() / pred.size(0)\n",
    "        acces.update(acc)\n",
    "        if idx % 100 == 0:\n",
    "            print(f'epoch:{epoch}, idx:{idx}/{len(data_iter)}, loss:{losses.avg}, acc:{acces.avg}')\n",
    "    return losses.avg, acces.avg"
   ]
  },
  {
   "cell_type": "code",
   "execution_count": null,
   "metadata": {
    "ExecuteTime": {
     "end_time": "2019-03-04T07:21:42.212508Z",
     "start_time": "2019-03-04T07:21:42.168979Z"
    },
    "collapsed": true
   },
   "outputs": [],
   "source": [
    "optimizer = torch.optim.Adam(params=filter(lambda p: p.requires_grad, model.parameters()),\n",
    "                             lr=config.lr, weight_decay=1e-3, amsgrad=True)\n",
    "\n",
    "criterion = nn.CrossEntropyLoss()\n",
    "\n",
    "scheduler = torch.optim.lr_scheduler.CosineAnnealingLR(optimizer, T_max=config.epochs)\n",
    "#train(0, train_iter, model, criterion, optimizer, batch_size=config.batch_size)\n",
    "# val(0, val_iter, model,criterion)"
   ]
  },
  {
   "cell_type": "code",
   "execution_count": null,
   "metadata": {
    "ExecuteTime": {
     "end_time": "2019-03-04T20:47:09.728945Z",
     "start_time": "2019-03-04T07:21:55.702860Z"
    },
    "scrolled": true
   },
   "outputs": [],
   "source": [
    "if not os.path.exists(config.save_path):\n",
    "    os.makedirs(config.save_path)\n",
    "writer = SummaryWriter(config.save_path)\n",
    "\n",
    "best_acc = 0.0\n",
    "for epoch in range(config.epochs):\n",
    "    scheduler.step()    \n",
    "    train_loss, train_acc = train(epoch, train_iter, model, criterion, optimizer, \n",
    "                                     1)\n",
    "    val_loss, val_acc = val(epoch, val_iter, model, criterion)\n",
    "    \n",
    "    writer.add_scalar('train_loss', train_loss, epoch+1)\n",
    "    writer.add_scalar('val_loss', val_loss, epoch+1)\n",
    "    writer.add_scalar('train_acc', train_acc, epoch+1)\n",
    "    writer.add_scalar('val_acc', val_acc, epoch+1)\n",
    "    \n",
    "    state = {\n",
    "        'val_acc': val_acc,\n",
    "        'train_acc': train_acc,\n",
    "        'epoch': epoch,\n",
    "        'model': model.state_dict()\n",
    "    }\n",
    "    #torch.save(state, os.path.join(config.save_path,'lastest.pth'))\n",
    "    if val_acc > best_acc:\n",
    "        best_acc = val_acc\n",
    "        #torch.save(state, os.path.join(save_path, 'best.pth'))"
   ]
  },
  {
   "cell_type": "code",
   "execution_count": null,
   "metadata": {
    "ExecuteTime": {
     "end_time": "2019-02-27T06:22:03.923499Z",
     "start_time": "2019-02-27T06:22:03.855231Z"
    },
    "collapsed": true
   },
   "outputs": [],
   "source": [
    "score, label = model(batch)\n",
    "        \n",
    "loss = criterion(score, label)\n",
    "\n",
    "#loss.backward()\n",
    "#optimizer.step()\n",
    "#optimizer.zero_grad()        "
   ]
  },
  {
   "cell_type": "code",
   "execution_count": null,
   "metadata": {
    "ExecuteTime": {
     "end_time": "2019-03-05T01:52:26.070579Z",
     "start_time": "2019-03-05T01:52:26.026119Z"
    }
   },
   "outputs": [],
   "source": [
    "best_acc"
   ]
  },
  {
   "cell_type": "code",
   "execution_count": null,
   "metadata": {
    "collapsed": true
   },
   "outputs": [],
   "source": []
  },
  {
   "cell_type": "code",
   "execution_count": null,
   "metadata": {
    "collapsed": true
   },
   "outputs": [],
   "source": []
  }
 ],
 "metadata": {
  "kernelspec": {
   "display_name": "Python 3",
   "language": "python",
   "name": "python3"
  },
  "language_info": {
   "codemirror_mode": {
    "name": "ipython",
    "version": 3
   },
   "file_extension": ".py",
   "mimetype": "text/x-python",
   "name": "python",
   "nbconvert_exporter": "python",
   "pygments_lexer": "ipython3",
   "version": "3.6.3"
  }
 },
 "nbformat": 4,
 "nbformat_minor": 2
}
