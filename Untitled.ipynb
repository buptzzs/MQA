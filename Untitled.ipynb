{
 "cells": [
  {
   "cell_type": "code",
   "execution_count": 1,
   "metadata": {
    "ExecuteTime": {
     "end_time": "2019-01-21T14:34:24.814299Z",
     "start_time": "2019-01-21T14:34:21.966424Z"
    }
   },
   "outputs": [],
   "source": [
    "%load_ext autoreload\n",
    "%autoreload 2\n",
    "\n",
    "import json\n",
    "import os\n",
    "import flair\n",
    "import torch\n",
    "from flair.embeddings import WordEmbeddings, CharacterEmbeddings, FlairEmbeddings, StackedEmbeddings, CharacterEmbeddings\n",
    "from QAModel import MultiSentenceEmbeddings, SimpleQANet, CharNgramEmbeddings\n",
    "from dataset import load_data\n",
    "from utils import train, val\n",
    "from flairUtil import BertEmbeddings\n",
    "from tensorboardX import SummaryWriter\n",
    "\n",
    "\n",
    "os.environ[\"CUDA_VISIBLE_DEVICES\"] = '1'\n",
    "flair.device = torch.device('cuda:0')"
   ]
  },
  {
   "cell_type": "code",
   "execution_count": 2,
   "metadata": {
    "ExecuteTime": {
     "end_time": "2019-01-21T14:34:24.876927Z",
     "start_time": "2019-01-21T14:34:24.817233Z"
    },
    "collapsed": true
   },
   "outputs": [],
   "source": [
    "class Config:\n",
    "    \n",
    "    def __init__(self):\n",
    "        self.att_dropout = 0.2\n",
    "        self.rnn_dropout = 0.2\n",
    "        self.hidden = 100\n",
    "        self.reproject_words_dimension = None\n",
    "        self.lr = 1e-3\n",
    "        self.train_path = './data/qangaroo_v1.1/wikihop/train.pkl'\n",
    "        self.dev_path = './data/qangaroo_v1.1/wikihop/dev.pkl'\n",
    "        self.bert_model = './bert-base-uncased/'\n",
    "        self.bert_token = './bert-base-uncased-vocab.txt'\n",
    "        self.epochs = 30\n",
    "        self.log_dir = './logs'\n",
    "        self.batch_size = 1\n",
    "        self.model_name = 'SimpleQANet_flair'\n",
    "config = Config()"
   ]
  },
  {
   "cell_type": "code",
   "execution_count": 3,
   "metadata": {
    "ExecuteTime": {
     "end_time": "2019-01-21T14:44:36.203489Z",
     "start_time": "2019-01-21T14:34:24.886257Z"
    }
   },
   "outputs": [
    {
     "name": "stdout",
     "output_type": "stream",
     "text": [
      "loading ./data/qangaroo_v1.1/wikihop/train.pkl...\n",
      "loading ./data/qangaroo_v1.1/wikihop/dev.pkl...\n"
     ]
    }
   ],
   "source": [
    "train_data = load_data(config.train_path)\n",
    "dev_data = load_data(config.dev_path)"
   ]
  },
  {
   "cell_type": "code",
   "execution_count": 4,
   "metadata": {
    "ExecuteTime": {
     "end_time": "2019-01-21T14:44:36.685402Z",
     "start_time": "2019-01-21T14:44:36.207144Z"
    }
   },
   "outputs": [
    {
     "name": "stdout",
     "output_type": "stream",
     "text": [
      "./logs/SimpleQANet_flair_epoch30_lr0.001_batchsize1use_flair_embedding\n"
     ]
    }
   ],
   "source": [
    "save_path = config.model_name + '_epoch'+str(config.epochs) + '_lr'+ str(config.lr)+  \\\n",
    "                '_batchsize' + str(config.batch_size) + 'use_flair_embedding'\n",
    "\n",
    "save_path = os.path.join(config.log_dir, save_path)\n",
    "if not os.path.exists(save_path):\n",
    "    os.makedirs(save_path)\n",
    "    \n",
    "print(save_path)\n",
    "\n",
    "writer = SummaryWriter(save_path)"
   ]
  },
  {
   "cell_type": "code",
   "execution_count": 5,
   "metadata": {
    "ExecuteTime": {
     "end_time": "2019-01-21T14:44:56.790863Z",
     "start_time": "2019-01-21T14:44:36.689170Z"
    }
   },
   "outputs": [],
   "source": [
    "bert_emb = BertEmbeddings(bert_model=config.bert_model, bert_token=config.bert_token,\n",
    "                          layers='-1', pooling_operation='mean')\n",
    "\n",
    "\n",
    "f_forward = FlairEmbeddings('news-forward')\n",
    "f_backward = FlairEmbeddings('news-backward')\n"
   ]
  },
  {
   "cell_type": "code",
   "execution_count": 7,
   "metadata": {
    "ExecuteTime": {
     "end_time": "2019-01-21T14:45:23.248255Z",
     "start_time": "2019-01-21T14:45:16.456012Z"
    }
   },
   "outputs": [],
   "source": [
    "char_emb = CharNgramEmbeddings()\n",
    "word_emb = WordEmbeddings('en-wiki')\n"
   ]
  },
  {
   "cell_type": "code",
   "execution_count": 8,
   "metadata": {
    "ExecuteTime": {
     "end_time": "2019-01-21T14:45:23.282992Z",
     "start_time": "2019-01-21T14:45:23.251291Z"
    }
   },
   "outputs": [],
   "source": [
    "embeddings_list = [word_emb,\n",
    "                   #char_emb\n",
    "                  # bert_emb, \n",
    "                   f_forward, f_backward\n",
    "                  ]"
   ]
  },
  {
   "cell_type": "code",
   "execution_count": 9,
   "metadata": {
    "ExecuteTime": {
     "end_time": "2019-01-21T14:45:23.443665Z",
     "start_time": "2019-01-21T14:45:23.285893Z"
    },
    "collapsed": true
   },
   "outputs": [],
   "source": [
    "embeddings = MultiSentenceEmbeddings(embeddings_list)\n",
    "net = SimpleQANet(config, embeddings)"
   ]
  },
  {
   "cell_type": "code",
   "execution_count": null,
   "metadata": {
    "ExecuteTime": {
     "start_time": "2019-01-21T14:45:20.374Z"
    }
   },
   "outputs": [],
   "source": [
    "optimizer = torch.optim.Adam(params=filter(lambda p: p.requires_grad, net.parameters()),\n",
    "                             lr=config.lr)\n",
    "\n",
    "criterion = torch.nn.CrossEntropyLoss()"
   ]
  },
  {
   "cell_type": "code",
   "execution_count": null,
   "metadata": {
    "ExecuteTime": {
     "start_time": "2019-01-21T14:45:21.299Z"
    }
   },
   "outputs": [
    {
     "name": "stdout",
     "output_type": "stream",
     "text": [
      "begin training\n"
     ]
    },
    {
     "name": "stderr",
     "output_type": "stream",
     "text": [
      "/home/user2/Multi_QA/model.py:152: UserWarning: Implicit dimension choice for softmax has been deprecated. Change the call to include dim=X as an argument.\n",
      "  alphas = self.softmax(alphas)  # (bsz, sent_len)\n"
     ]
    },
    {
     "name": "stdout",
     "output_type": "stream",
     "text": [
      "train: epoch:0, idx:0/43738, loss:1.5043445825576782, acc:1.0\n"
     ]
    }
   ],
   "source": [
    "best_acc = 0.0\n",
    "for epoch in range(config.epochs):\n",
    "    train_loss, train_acc = train(epoch, train_data, net, criterion, optimizer, batch_size=1, print_period=100)\n",
    "    val_loss, val_acc = val(epoch, dev_data, net, criterion)\n",
    "    \n",
    "    writer.add_scalar('train_loss', train_loss, epoch+1)\n",
    "    writer.add_scalar('val_loss', val_loss, epoch+1)\n",
    "    writer.add_scalar('train_acc', train_acc, epoch+1)\n",
    "    writer.add_scalar('val_acc', val_acc, epoch+1)\n",
    "    if val_acc > best_acc:\n",
    "        best_acc = val_acc\n",
    "        torch.save(model.state_dict(), os.path.join(save_path, 'best.pth'))"
   ]
  },
  {
   "cell_type": "code",
   "execution_count": null,
   "metadata": {
    "collapsed": true
   },
   "outputs": [],
   "source": []
  }
 ],
 "metadata": {
  "kernelspec": {
   "display_name": "Python 3",
   "language": "python",
   "name": "python3"
  },
  "language_info": {
   "codemirror_mode": {
    "name": "ipython",
    "version": 3
   },
   "file_extension": ".py",
   "mimetype": "text/x-python",
   "name": "python",
   "nbconvert_exporter": "python",
   "pygments_lexer": "ipython3",
   "version": "3.6.3"
  }
 },
 "nbformat": 4,
 "nbformat_minor": 2
}
