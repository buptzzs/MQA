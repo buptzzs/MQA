{
 "cells": [
  {
   "cell_type": "code",
   "execution_count": null,
   "metadata": {
    "ExecuteTime": {
     "end_time": "2019-03-30T08:53:03.753928Z",
     "start_time": "2019-03-30T08:53:01.543096Z"
    }
   },
   "outputs": [],
   "source": [
    "from qangaroo import MyQangarooReader\n",
    "from allennlp.data.iterators.data_iterator import DataIterator, TensorDict\n",
    "from allennlp.data import Vocabulary\n",
    "from allennlp.data import iterators"
   ]
  },
  {
   "cell_type": "code",
   "execution_count": null,
   "metadata": {
    "ExecuteTime": {
     "end_time": "2019-03-30T08:53:03.761083Z",
     "start_time": "2019-03-30T08:53:03.756950Z"
    }
   },
   "outputs": [],
   "source": [
    "dev_json = '../data/qangaroo_v1.1/wikihop/dev.json'\n",
    "toy_data = './toy_data.json'"
   ]
  },
  {
   "cell_type": "code",
   "execution_count": null,
   "metadata": {
    "ExecuteTime": {
     "end_time": "2019-03-30T08:05:59.123595Z",
     "start_time": "2019-03-30T08:05:58.676845Z"
    }
   },
   "outputs": [],
   "source": [
    "reader = MyQangarooReader()"
   ]
  },
  {
   "cell_type": "code",
   "execution_count": null,
   "metadata": {
    "ExecuteTime": {
     "end_time": "2019-03-30T08:09:33.663640Z",
     "start_time": "2019-03-30T08:05:59.126565Z"
    }
   },
   "outputs": [],
   "source": [
    "dev_set = reader.read(dev_json)"
   ]
  },
  {
   "cell_type": "code",
   "execution_count": null,
   "metadata": {
    "ExecuteTime": {
     "end_time": "2019-03-30T08:09:49.394016Z",
     "start_time": "2019-03-30T08:09:33.666059Z"
    }
   },
   "outputs": [],
   "source": [
    "vocab = Vocabulary.from_instances(dev_set, pretrained_files='../glove.840B.300d.lower.converted.zip')"
   ]
  },
  {
   "cell_type": "markdown",
   "metadata": {},
   "source": [
    "### Test iterator"
   ]
  },
  {
   "cell_type": "markdown",
   "metadata": {},
   "source": [
    "#### Basic"
   ]
  },
  {
   "cell_type": "code",
   "execution_count": null,
   "metadata": {
    "ExecuteTime": {
     "end_time": "2019-03-30T08:09:49.400786Z",
     "start_time": "2019-03-30T08:09:49.396999Z"
    }
   },
   "outputs": [],
   "source": [
    "iterator = iterators.BasicIterator(batch_size=4)\n",
    "iterator.index_with(vocab)\n",
    "raw_iterator = iterator(dev_set, num_epochs=1)"
   ]
  },
  {
   "cell_type": "code",
   "execution_count": null,
   "metadata": {
    "ExecuteTime": {
     "end_time": "2019-03-30T08:09:49.406429Z",
     "start_time": "2019-03-30T08:09:49.403551Z"
    }
   },
   "outputs": [],
   "source": [
    "from tqdm import tqdm"
   ]
  },
  {
   "cell_type": "code",
   "execution_count": null,
   "metadata": {
    "ExecuteTime": {
     "end_time": "2019-03-30T08:10:29.412011Z",
     "start_time": "2019-03-30T08:09:49.408549Z"
    },
    "scrolled": true
   },
   "outputs": [],
   "source": [
    "for batch in tqdm(raw_iterator):\n",
    "    pass"
   ]
  },
  {
   "cell_type": "code",
   "execution_count": null,
   "metadata": {
    "ExecuteTime": {
     "end_time": "2019-03-30T08:10:29.435668Z",
     "start_time": "2019-03-30T08:10:29.414354Z"
    }
   },
   "outputs": [],
   "source": [
    "batch"
   ]
  },
  {
   "cell_type": "markdown",
   "metadata": {},
   "source": [
    "#### Bucket"
   ]
  },
  {
   "cell_type": "code",
   "execution_count": null,
   "metadata": {
    "ExecuteTime": {
     "end_time": "2019-03-30T08:10:41.226123Z",
     "start_time": "2019-03-30T08:10:41.218874Z"
    }
   },
   "outputs": [],
   "source": [
    "iterator = iterators.BucketIterator(batch_size=4,sorting_keys=[(\"supports\", \"num_fields\")] )\n",
    "iterator.index_with(vocab)\n",
    "raw_iterator = iterator(dev_set,num_epochs=1)"
   ]
  },
  {
   "cell_type": "code",
   "execution_count": null,
   "metadata": {
    "ExecuteTime": {
     "end_time": "2019-03-30T08:11:01.141680Z",
     "start_time": "2019-03-30T08:10:42.458885Z"
    }
   },
   "outputs": [],
   "source": [
    "for batch in tqdm(raw_iterator):\n",
    "    pass\n",
    "batch"
   ]
  },
  {
   "cell_type": "code",
   "execution_count": null,
   "metadata": {},
   "outputs": [],
   "source": []
  },
  {
   "cell_type": "markdown",
   "metadata": {},
   "source": [
    "#### Multipreprocess"
   ]
  },
  {
   "cell_type": "code",
   "execution_count": null,
   "metadata": {},
   "outputs": [],
   "source": []
  }
 ],
 "metadata": {
  "kernelspec": {
   "display_name": "Python 3",
   "language": "python",
   "name": "python3"
  },
  "language_info": {
   "codemirror_mode": {
    "name": "ipython",
    "version": 3
   },
   "file_extension": ".py",
   "mimetype": "text/x-python",
   "name": "python",
   "nbconvert_exporter": "python",
   "pygments_lexer": "ipython3",
   "version": "3.7.2"
  }
 },
 "nbformat": 4,
 "nbformat_minor": 2
}
