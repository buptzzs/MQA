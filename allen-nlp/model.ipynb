{
 "cells": [
  {
   "cell_type": "code",
   "execution_count": null,
   "metadata": {
    "ExecuteTime": {
     "end_time": "2019-04-01T02:38:17.071617Z",
     "start_time": "2019-04-01T02:38:14.150729Z"
    }
   },
   "outputs": [],
   "source": [
    "import torch\n",
    "import random\n",
    "\n",
    "from typing import Dict, List\n",
    "\n",
    "from allennlp.data.fields import Field, TextField, ListField, MetadataField, IndexField,ArrayField\n",
    "from allennlp.data.token_indexers import TokenIndexer, SingleIdTokenIndexer\n",
    "from allennlp.data.tokenizers import Tokenizer, WordTokenizer\n",
    "from torch.nn.functional import nll_loss, binary_cross_entropy\n",
    "\n",
    "from allennlp.modules.token_embedders import Embedding\n",
    "from allennlp.data.iterators import BucketIterator, BasicIterator\n",
    "from allennlp.modules.text_field_embedders import TextFieldEmbedder, BasicTextFieldEmbedder\n",
    "from allennlp.models.model import Model\n",
    "from allennlp.data import Vocabulary\n",
    "from allennlp.modules import Seq2SeqEncoder, SimilarityFunction, TimeDistributed, TextFieldEmbedder,Seq2VecEncoder, MatrixAttention\n",
    "from allennlp.nn import util, InitializerApplicator, RegularizerApplicator\n",
    "from typing import Any, Dict, List, Optional\n",
    "\n",
    "from allennlp.modules import InputVariationalDropout\n",
    "from allennlp.modules.seq2seq_encoders import Seq2SeqEncoder, PytorchSeq2SeqWrapper, StackedBidirectionalLstm\n",
    "from allennlp.modules.matrix_attention import LinearMatrixAttention\n",
    "from allennlp.training.metrics import BooleanAccuracy, Auc\n",
    "\n",
    "from self_attentive import SelfAttentive\n",
    "from qangaroo import MyQangarooReader\n",
    "from decoder import Decoder, SANDecoder\n",
    "from allennlp.data.iterators.data_iterator import DataIterator, TensorDict\n",
    "from model import MultiStepParaRankModel\n",
    "\n",
    "%load_ext autoreload\n",
    "%autoreload 2"
   ]
  },
  {
   "cell_type": "code",
   "execution_count": null,
   "metadata": {
    "ExecuteTime": {
     "end_time": "2019-04-01T02:38:17.804440Z",
     "start_time": "2019-04-01T02:38:17.075426Z"
    }
   },
   "outputs": [],
   "source": [
    "from allennlp.common import Params\n",
    "from allennlp.data.dataset_readers import DatasetReader\n",
    "from allennlp.training.util import create_serialization_dir\n",
    "from allennlp.training.trainer import Trainer, TrainerPieces\n",
    "from allennlp.commands import train"
   ]
  },
  {
   "cell_type": "code",
   "execution_count": null,
   "metadata": {
    "ExecuteTime": {
     "end_time": "2019-04-01T02:38:23.438485Z",
     "start_time": "2019-04-01T02:38:23.377053Z"
    }
   },
   "outputs": [],
   "source": [
    "param_path = './model.jsonnet'\n",
    "serialization_dir = 'checkpoints_test'\n",
    "#train.train_model_from_file(param_path, serialization_dir, force=True)"
   ]
  },
  {
   "cell_type": "code",
   "execution_count": null,
   "metadata": {
    "ExecuteTime": {
     "end_time": "2019-04-01T02:38:23.865965Z",
     "start_time": "2019-04-01T02:38:23.804201Z"
    }
   },
   "outputs": [],
   "source": [
    "dev_json = '../data/qangaroo_v1.1/wikihop/dev.json'\n",
    "toy_data = './toy_data.json'\n"
   ]
  },
  {
   "cell_type": "markdown",
   "metadata": {
    "ExecuteTime": {
     "end_time": "2019-03-29T08:41:13.450371Z",
     "start_time": "2019-03-29T08:40:18.855949Z"
    }
   },
   "source": [
    "### Debug Train"
   ]
  },
  {
   "cell_type": "code",
   "execution_count": null,
   "metadata": {
    "ExecuteTime": {
     "end_time": "2019-03-30T09:18:13.498548Z",
     "start_time": "2019-03-30T09:09:50.816727Z"
    }
   },
   "outputs": [],
   "source": [
    "serialization_dir = './temp_dir_1'\n",
    "params = Params.from_file(param_path)\n",
    "create_serialization_dir(params, serialization_dir, False,False)\n",
    "pieces = TrainerPieces.from_params(params, serialization_dir)  # pylint: disable=no-member\n"
   ]
  },
  {
   "cell_type": "code",
   "execution_count": null,
   "metadata": {
    "ExecuteTime": {
     "end_time": "2019-03-30T09:18:17.424684Z",
     "start_time": "2019-03-30T09:18:13.501787Z"
    }
   },
   "outputs": [],
   "source": [
    "trainer = Trainer.from_params(\n",
    "            model=pieces.model,\n",
    "            serialization_dir=serialization_dir,\n",
    "            iterator=pieces.iterator,\n",
    "            train_data=pieces.train_dataset,\n",
    "            validation_data=pieces.validation_dataset,\n",
    "            params=pieces.params,\n",
    "            validation_iterator=pieces.validation_iterator)   "
   ]
  },
  {
   "cell_type": "code",
   "execution_count": null,
   "metadata": {
    "ExecuteTime": {
     "end_time": "2019-03-30T09:56:47.667938Z",
     "start_time": "2019-03-30T09:56:47.593819Z"
    }
   },
   "outputs": [],
   "source": [
    "from allennlp.common.util import lazy_groups_of\n",
    "import math\n",
    "from allennlp.common.tqdm import Tqdm"
   ]
  },
  {
   "cell_type": "code",
   "execution_count": null,
   "metadata": {
    "ExecuteTime": {
     "end_time": "2019-03-30T09:56:47.834614Z",
     "start_time": "2019-03-30T09:56:47.766610Z"
    }
   },
   "outputs": [],
   "source": [
    "from allennlp.data import Vocabulary\n",
    "from allennlp.data import iterators\n",
    "\n",
    "iterator = iterators.BasicIterator(batch_size=4)\n",
    "iterator.index_with(trainer.model.vocab)\n",
    "#raw_iterator = iterator(trainer.train_data)"
   ]
  },
  {
   "cell_type": "code",
   "execution_count": null,
   "metadata": {
    "ExecuteTime": {
     "end_time": "2019-03-30T09:56:48.253967Z",
     "start_time": "2019-03-30T09:56:48.182073Z"
    }
   },
   "outputs": [],
   "source": [
    "raw_train_generator = iterator(trainer.train_data,\n",
    "                                            num_epochs=2,\n",
    "                                            shuffle=trainer.shuffle)\n",
    "    \n",
    "train_generator = lazy_groups_of(raw_train_generator, 1)\n",
    "num_training_batches = math.ceil(trainer.iterator.get_num_batches(trainer.train_data)/1)    \n",
    "train_generator_tqdm = Tqdm.tqdm(train_generator, total=num_training_batches)"
   ]
  },
  {
   "cell_type": "code",
   "execution_count": null,
   "metadata": {
    "ExecuteTime": {
     "end_time": "2019-03-30T09:57:00.694052Z",
     "start_time": "2019-03-30T09:57:00.573022Z"
    },
    "scrolled": true
   },
   "outputs": [],
   "source": [
    "for batch_group in train_generator_tqdm:\n",
    "    trainer.optimizer.zero_grad()\n",
    "\n",
    "    loss = trainer.batch_loss(batch_group, for_training=True)\n",
    "\n",
    "    if torch.isnan(loss):\n",
    "        raise ValueError(\"nan loss encountered\")\n",
    "\n",
    "    loss.backward()"
   ]
  },
  {
   "cell_type": "code",
   "execution_count": null,
   "metadata": {
    "ExecuteTime": {
     "end_time": "2019-03-30T09:57:50.394540Z",
     "start_time": "2019-03-30T09:57:48.061674Z"
    }
   },
   "outputs": [],
   "source": [
    "with torch.autograd.profiler.profile(use_cuda=True) as prof:\n",
    "    trainer.optimizer.zero_grad()\n",
    "\n",
    "    loss = trainer.batch_loss(batch_group, for_training=True)\n",
    "\n",
    "    if torch.isnan(loss):\n",
    "        raise ValueError(\"nan loss encountered\")\n",
    "\n",
    "    #loss.backward()"
   ]
  },
  {
   "cell_type": "code",
   "execution_count": null,
   "metadata": {
    "ExecuteTime": {
     "end_time": "2019-03-30T09:59:02.660169Z",
     "start_time": "2019-03-30T09:59:02.352666Z"
    }
   },
   "outputs": [],
   "source": [
    "print(prof.key_averages())"
   ]
  },
  {
   "cell_type": "markdown",
   "metadata": {},
   "source": [
    "### Debug Model"
   ]
  },
  {
   "cell_type": "code",
   "execution_count": null,
   "metadata": {
    "ExecuteTime": {
     "end_time": "2019-03-26T02:36:15.444213Z",
     "start_time": "2019-03-26T02:35:07.840836Z"
    }
   },
   "outputs": [],
   "source": [
    "import pixiedust"
   ]
  },
  {
   "cell_type": "code",
   "execution_count": null,
   "metadata": {},
   "outputs": [],
   "source": [
    "phrase_layer = PytorchSeq2SeqWrapper(StackedBidirectionalLstm(300,100,1,0.2, 0.2,True))\n",
    "pq_attention = LinearMatrixAttention(200,200,'x,y,x*y')\n",
    "p_selfattention = LinearMatrixAttention(400,400,'x,y,x*y')\n",
    "\n",
    "supports_pooling = SelfAttentive(400)\n",
    "question_pooling = SelfAttentive(200)\n",
    "candidates_pooling = SelfAttentive(200)\n",
    "\n",
    "decoder = SANDecoder(support_dim=400,candidates_dim=200, query_dim=200, num_step=3, \n",
    "                     dropout_p=0.2, reason_dropout_p=0.4, reason_type=1)\n",
    "\n",
    "model = MultiStepParaRankModel(vocab, word_embeddings, phrase_layer,\n",
    "                               pq_attention, p_selfattention, \n",
    "                               supports_pooling, question_pooling, candidates_pooling,decoder)"
   ]
  },
  {
   "cell_type": "code",
   "execution_count": null,
   "metadata": {
    "ExecuteTime": {
     "end_time": "2019-03-26T03:10:08.791543Z",
     "start_time": "2019-03-26T03:10:08.105956Z"
    },
    "pixiedust": {
     "displayParams": {}
    }
   },
   "outputs": [],
   "source": [
    "%%pixie_debugger\n",
    "\n",
    "output = model(**batch)"
   ]
  }
 ],
 "metadata": {
  "kernelspec": {
   "display_name": "Python 3",
   "language": "python",
   "name": "python3"
  },
  "language_info": {
   "codemirror_mode": {
    "name": "ipython",
    "version": 3
   },
   "file_extension": ".py",
   "mimetype": "text/x-python",
   "name": "python",
   "nbconvert_exporter": "python",
   "pygments_lexer": "ipython3",
   "version": "3.7.2"
  }
 },
 "nbformat": 4,
 "nbformat_minor": 2
}
