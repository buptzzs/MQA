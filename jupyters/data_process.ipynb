{
 "cells": [
  {
   "cell_type": "code",
   "execution_count": null,
   "metadata": {
    "ExecuteTime": {
     "end_time": "2019-02-21T09:10:56.243064Z",
     "start_time": "2019-02-21T09:10:54.391384Z"
    }
   },
   "outputs": [],
   "source": [
    "import os\n",
    "import json\n",
    "import pandas as pd\n",
    "import numpy as np\n",
    "import spacy\n",
    "tokenizer = spacy.load('en')"
   ]
  },
  {
   "cell_type": "code",
   "execution_count": null,
   "metadata": {
    "ExecuteTime": {
     "end_time": "2019-02-21T09:10:57.207928Z",
     "start_time": "2019-02-21T09:10:57.203819Z"
    },
    "collapsed": true
   },
   "outputs": [],
   "source": [
    "train_json_path = '../data/qangaroo_v1.1/wikihop/train.json'\n",
    "dev_json_path = '../data/qangaroo_v1.1/wikihop/dev.json'"
   ]
  },
  {
   "cell_type": "code",
   "execution_count": null,
   "metadata": {
    "ExecuteTime": {
     "end_time": "2019-02-21T09:10:58.193541Z",
     "start_time": "2019-02-21T09:10:58.083812Z"
    },
    "collapsed": true
   },
   "outputs": [],
   "source": [
    "def get_label(row):\n",
    "    index = -1\n",
    "    for i in range(len(row['candidates'])):\n",
    "        c = row['candidates'][i]\n",
    "        if c == row['answer']:\n",
    "            index = i\n",
    "            break\n",
    "    return index\n",
    "\n",
    "\n",
    "def get_mentions(item):\n",
    "    candidates = item['candidates']\n",
    "    supports = item['supports']\n",
    "\n",
    "    candidates = [tokenizer(candidate.lower()) for candidate in candidates]\n",
    "    supports = [tokenizer(support.lower()) for support in supports]\n",
    "\n",
    "    all_mentions = []\n",
    "    for candidate in candidates:\n",
    "        mentions = []\n",
    "        for idx, support in enumerate(supports):\n",
    "\n",
    "            for i in range(len(support)):\n",
    "                token = support[i]\n",
    "                if token.text == candidate[0].text:\n",
    "                    if support[i:i+len(candidate)].text == candidate.text:\n",
    "                        mentions.append([idx, i, i+len(candidate)])\n",
    "        all_mentions.append(mentions)\n",
    "    return all_mentions"
   ]
  },
  {
   "cell_type": "code",
   "execution_count": null,
   "metadata": {
    "ExecuteTime": {
     "end_time": "2019-02-21T12:21:07.846432Z",
     "start_time": "2019-02-21T09:11:26.429044Z"
    }
   },
   "outputs": [],
   "source": [
    "df = pd.read_json(train_json_path)\n",
    "df['query'] = df['query'].apply(lambda x: x.replace(\"_\",\" \"))\n",
    "df['label'] = df.apply(lambda x: get_label(x), axis=1)\n",
    "df['mentions'] = df.apply(lambda x: get_mentions(x), axis=1)\n",
    "df.to_json('../data/qangaroo_v1.1/wikihop/train_convert.json', orient='records')\n",
    "\n",
    "\n",
    "df = pd.read_json(dev_json_path)\n",
    "df['query'] = df['query'].apply(lambda x: x.replace(\"_\",\" \"))\n",
    "df['label'] = df.apply(lambda x: get_label(x), axis=1)\n",
    "df['mentions'] = df.apply(lambda x: get_mentions(x), axis=1)\n",
    "df.to_json('../data/qangaroo_v1.1/wikihop/dev_convert.json', orient='records')\n"
   ]
  },
  {
   "cell_type": "code",
   "execution_count": null,
   "metadata": {
    "ExecuteTime": {
     "end_time": "2019-02-21T09:09:01.916934Z",
     "start_time": "2019-02-21T09:09:01.413227Z"
    }
   },
   "outputs": [],
   "source": [
    "df = pd.read_json('../data/qangaroo_v1.1/wikihop/dev_convert.json')"
   ]
  },
  {
   "cell_type": "code",
   "execution_count": null,
   "metadata": {
    "ExecuteTime": {
     "end_time": "2019-02-21T09:09:01.965048Z",
     "start_time": "2019-02-21T09:09:01.919885Z"
    }
   },
   "outputs": [],
   "source": []
  }
 ],
 "metadata": {
  "kernelspec": {
   "display_name": "Python 3",
   "language": "python",
   "name": "python3"
  },
  "language_info": {
   "codemirror_mode": {
    "name": "ipython",
    "version": 3
   },
   "file_extension": ".py",
   "mimetype": "text/x-python",
   "name": "python",
   "nbconvert_exporter": "python",
   "pygments_lexer": "ipython3",
   "version": "3.7.2"
  }
 },
 "nbformat": 4,
 "nbformat_minor": 2
}
