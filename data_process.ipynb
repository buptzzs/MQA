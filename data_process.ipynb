{
 "cells": [
  {
   "cell_type": "code",
   "execution_count": 1,
   "metadata": {
    "ExecuteTime": {
     "end_time": "2019-01-03T03:17:48.741633Z",
     "start_time": "2019-01-03T03:17:47.359452Z"
    }
   },
   "outputs": [
    {
     "name": "stdout",
     "output_type": "stream",
     "text": [
      "Better speed can be achieved with apex installed from https://www.github.com/nvidia/apex.\n"
     ]
    }
   ],
   "source": [
    "import torch\n",
    "import torch.nn as nn\n",
    "import torchtext\n",
    "import numpy as np\n",
    "import os\n",
    "import json\n",
    "from torchtext import data, datasets\n",
    "from dataset import DataHandler, BertField\n",
    "import pandas as pd\n",
    "from dataset import QDataset\n",
    "from pytorch_pretrained_bert import BertTokenizer"
   ]
  },
  {
   "cell_type": "code",
   "execution_count": 22,
   "metadata": {
    "ExecuteTime": {
     "end_time": "2019-01-03T03:08:30.835703Z",
     "start_time": "2019-01-03T03:08:30.832236Z"
    }
   },
   "outputs": [],
   "source": [
    "train_json_path = './data/qangaroo_v1.1/wikihop/train.json'\n",
    "dev_json_path = './data/qangaroo_v1.1/wikihop/dev.json'"
   ]
  },
  {
   "cell_type": "code",
   "execution_count": 23,
   "metadata": {
    "ExecuteTime": {
     "end_time": "2019-01-03T03:08:31.030951Z",
     "start_time": "2019-01-03T03:08:31.026883Z"
    }
   },
   "outputs": [],
   "source": [
    "def get_label(row):\n",
    "    index = -1\n",
    "    for i in range(len(row['candidates'])):\n",
    "        c = row['candidates'][i]\n",
    "        if c == row['answer']:\n",
    "            index = i\n",
    "            break\n",
    "    return index"
   ]
  },
  {
   "cell_type": "code",
   "execution_count": 24,
   "metadata": {
    "ExecuteTime": {
     "end_time": "2019-01-03T03:09:39.419152Z",
     "start_time": "2019-01-03T03:08:32.446049Z"
    }
   },
   "outputs": [],
   "source": [
    "df = pd.read_json(train_json_path)\n",
    "df['query'] = df['query'].apply(lambda x: x.replace(\"_\",\" \"))\n",
    "df['label'] = df.apply(lambda x: get_label(x), axis=1)\n",
    "df.to_json('./data/qangaroo_v1.1/wikihop/train_convert.json', orient='records')\n",
    "\n",
    "\n",
    "df = pd.read_json(dev_json_path)\n",
    "df['query'] = df['query'].apply(lambda x: x.replace(\"_\",\" \"))\n",
    "df['label'] = df.apply(lambda x: get_label(x), axis=1)\n",
    "df.to_json('./data/qangaroo_v1.1/wikihop/val_convert.json', orient='records')\n"
   ]
  },
  {
   "cell_type": "code",
   "execution_count": 26,
   "metadata": {
    "ExecuteTime": {
     "end_time": "2019-01-03T03:11:58.292248Z",
     "start_time": "2019-01-03T03:11:47.201382Z"
    }
   },
   "outputs": [],
   "source": [
    "df = pd.read_json('./data/qangaroo_v1.1/wikihop/val_convert.json')"
   ]
  },
  {
   "cell_type": "code",
   "execution_count": 27,
   "metadata": {
    "ExecuteTime": {
     "end_time": "2019-01-03T03:12:02.539721Z",
     "start_time": "2019-01-03T03:12:02.521264Z"
    }
   },
   "outputs": [
    {
     "data": {
      "text/html": [
       "<div>\n",
       "<style scoped>\n",
       "    .dataframe tbody tr th:only-of-type {\n",
       "        vertical-align: middle;\n",
       "    }\n",
       "\n",
       "    .dataframe tbody tr th {\n",
       "        vertical-align: top;\n",
       "    }\n",
       "\n",
       "    .dataframe thead th {\n",
       "        text-align: right;\n",
       "    }\n",
       "</style>\n",
       "<table border=\"1\" class=\"dataframe\">\n",
       "  <thead>\n",
       "    <tr style=\"text-align: right;\">\n",
       "      <th></th>\n",
       "      <th>answer</th>\n",
       "      <th>candidates</th>\n",
       "      <th>id</th>\n",
       "      <th>label</th>\n",
       "      <th>query</th>\n",
       "      <th>supports</th>\n",
       "    </tr>\n",
       "  </thead>\n",
       "  <tbody>\n",
       "    <tr>\n",
       "      <th>0</th>\n",
       "      <td>1996 summer olympics</td>\n",
       "      <td>[1996 summer olympics, olympic games, sport]</td>\n",
       "      <td>WH_train_0</td>\n",
       "      <td>0</td>\n",
       "      <td>participant of juan rossell</td>\n",
       "      <td>[The 2004 Summer Olympic Games, officially kno...</td>\n",
       "    </tr>\n",
       "    <tr>\n",
       "      <th>1</th>\n",
       "      <td>english</td>\n",
       "      <td>[english, greek, koine greek, nahuatl, spanish]</td>\n",
       "      <td>WH_train_1</td>\n",
       "      <td>0</td>\n",
       "      <td>languages spoken or written john osteen</td>\n",
       "      <td>[A Christian (or ) is a person who follows or ...</td>\n",
       "    </tr>\n",
       "    <tr>\n",
       "      <th>2</th>\n",
       "      <td>lepidosauria</td>\n",
       "      <td>[alligatoridae, amphibia, amphisbaenia, animal...</td>\n",
       "      <td>WH_train_2</td>\n",
       "      <td>14</td>\n",
       "      <td>parent taxon proaigialosaurus</td>\n",
       "      <td>[Reptiles are tetrapod (four-limbed vertebrate...</td>\n",
       "    </tr>\n",
       "    <tr>\n",
       "      <th>3</th>\n",
       "      <td>crocodilia</td>\n",
       "      <td>[animal, area, crocodile, crocodilia, homo, me...</td>\n",
       "      <td>WH_train_3</td>\n",
       "      <td>3</td>\n",
       "      <td>parent taxon australosuchus</td>\n",
       "      <td>[Mekosuchinae was a subfamily of crocodiles fr...</td>\n",
       "    </tr>\n",
       "    <tr>\n",
       "      <th>4</th>\n",
       "      <td>physicist</td>\n",
       "      <td>[academic, builder, chancellor, classics, conf...</td>\n",
       "      <td>WH_train_4</td>\n",
       "      <td>20</td>\n",
       "      <td>occupation cao chong</td>\n",
       "      <td>[Wu (222280), commonly known as Eastern Wu or ...</td>\n",
       "    </tr>\n",
       "  </tbody>\n",
       "</table>\n",
       "</div>"
      ],
      "text/plain": [
       "                 answer                                         candidates  \\\n",
       "0  1996 summer olympics       [1996 summer olympics, olympic games, sport]   \n",
       "1               english    [english, greek, koine greek, nahuatl, spanish]   \n",
       "2          lepidosauria  [alligatoridae, amphibia, amphisbaenia, animal...   \n",
       "3            crocodilia  [animal, area, crocodile, crocodilia, homo, me...   \n",
       "4             physicist  [academic, builder, chancellor, classics, conf...   \n",
       "\n",
       "           id  label                                    query  \\\n",
       "0  WH_train_0      0              participant of juan rossell   \n",
       "1  WH_train_1      0  languages spoken or written john osteen   \n",
       "2  WH_train_2     14            parent taxon proaigialosaurus   \n",
       "3  WH_train_3      3              parent taxon australosuchus   \n",
       "4  WH_train_4     20                     occupation cao chong   \n",
       "\n",
       "                                            supports  \n",
       "0  [The 2004 Summer Olympic Games, officially kno...  \n",
       "1  [A Christian (or ) is a person who follows or ...  \n",
       "2  [Reptiles are tetrapod (four-limbed vertebrate...  \n",
       "3  [Mekosuchinae was a subfamily of crocodiles fr...  \n",
       "4  [Wu (222280), commonly known as Eastern Wu or ...  "
      ]
     },
     "execution_count": 27,
     "metadata": {},
     "output_type": "execute_result"
    }
   ],
   "source": [
    "df.head()"
   ]
  },
  {
   "cell_type": "code",
   "execution_count": 2,
   "metadata": {
    "ExecuteTime": {
     "end_time": "2019-01-03T03:17:59.319635Z",
     "start_time": "2019-01-03T03:17:59.110836Z"
    }
   },
   "outputs": [],
   "source": [
    "tokenizer = BertTokenizer.from_pretrained('./bert-base-uncased-vocab.txt')\n",
    "\n",
    "\n",
    "bert_field = BertField(tokenizer)\n",
    "multi_bert_field = data.NestedField(bert_field)\n",
    "\n",
    "word_field = data.Field(batch_first=True, sequential=True, tokenize=tokenizer.tokenize, lower=True) # query\n",
    "multi_word_field = data.NestedField(word_field) \n",
    "\n",
    "raw = data.RawField()\n",
    "raw.is_target = False\n",
    "\n",
    "label_field = data.Field(sequential=False, is_target=True, use_vocab=False)\n",
    "\n",
    "dict_field = {\n",
    "    'id': ('id', raw),\n",
    "    'supports': [('s_glove', multi_word_field), ('s_bert', multi_bert_field)],\n",
    "    'query': [('q_glove', word_field), ('q_bert', bert_field)],\n",
    "    'answer': [('a_glove', word_field), ('a_bert', bert_field)],\n",
    "    'candidates': [('c_glove', multi_word_field), ('c_bert', multi_bert_field)],\n",
    "    'label': ('label', label_field)\n",
    "}"
   ]
  },
  {
   "cell_type": "code",
   "execution_count": 3,
   "metadata": {
    "ExecuteTime": {
     "end_time": "2019-01-03T03:17:59.384297Z",
     "start_time": "2019-01-03T03:17:59.379029Z"
    }
   },
   "outputs": [],
   "source": [
    "train_path = './data/qangaroo_v1.1/wikihop/train_convert.json'\n",
    "val_path = './data/qangaroo_v1.1/wikihop/val_convert.json'"
   ]
  },
  {
   "cell_type": "code",
   "execution_count": 4,
   "metadata": {
    "ExecuteTime": {
     "end_time": "2019-01-03T04:24:09.561842Z",
     "start_time": "2019-01-03T03:18:00.931791Z"
    },
    "scrolled": true
   },
   "outputs": [
    {
     "name": "stderr",
     "output_type": "stream",
     "text": [
      "100%|██████████| 43738/43738 [1:06:02<00:00, 12.09it/s]\n"
     ]
    }
   ],
   "source": [
    "trainset = QDataset(train_path, dict_field)"
   ]
  },
  {
   "cell_type": "code",
   "execution_count": 5,
   "metadata": {
    "ExecuteTime": {
     "end_time": "2019-01-03T04:32:29.225963Z",
     "start_time": "2019-01-03T04:24:09.564649Z"
    },
    "scrolled": true
   },
   "outputs": [
    {
     "name": "stderr",
     "output_type": "stream",
     "text": [
      "100%|██████████| 5129/5129 [08:19<00:00, 10.27it/s]\n"
     ]
    }
   ],
   "source": [
    "valset = QDataset(val_path, dict_field)"
   ]
  },
  {
   "cell_type": "code",
   "execution_count": 6,
   "metadata": {
    "ExecuteTime": {
     "end_time": "2019-01-03T04:38:08.621570Z",
     "start_time": "2019-01-03T04:32:29.229478Z"
    }
   },
   "outputs": [],
   "source": [
    "train_examples_path = './train_examples.pt'\n",
    "val_examples_path = './val_examples.pt'\n",
    "\n",
    "torch.save(trainset.examples, train_examples_path)\n",
    "torch.save(valset.examples, val_examples_path)"
   ]
  }
 ],
 "metadata": {
  "kernelspec": {
   "display_name": "Python 3",
   "language": "python",
   "name": "python3"
  },
  "language_info": {
   "codemirror_mode": {
    "name": "ipython",
    "version": 3
   },
   "file_extension": ".py",
   "mimetype": "text/x-python",
   "name": "python",
   "nbconvert_exporter": "python",
   "pygments_lexer": "ipython3",
   "version": "3.7.0"
  }
 },
 "nbformat": 4,
 "nbformat_minor": 2
}
